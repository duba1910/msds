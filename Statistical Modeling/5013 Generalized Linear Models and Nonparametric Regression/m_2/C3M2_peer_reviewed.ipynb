{
 "cells": [
  {
   "cell_type": "markdown",
   "metadata": {},
   "source": [
    "# C3M2: Peer Reviewed Assignment"
   ]
  },
  {
   "cell_type": "markdown",
   "metadata": {},
   "source": [
    "### Outline:\n",
    "The objectives for this assignment:\n",
    "\n",
    "1. Apply Poisson Regression to real data.\n",
    "2. Learn and practice working with and interpreting Poisson Regression Models.\n",
    "3. Understand deviance and how to conduct hypothesis tests with Poisson Regression.\n",
    "4. Recognize when a model shows signs of overdispersion.\n",
    "\n",
    "General tips:\n",
    "\n",
    "1. Read the questions carefully to understand what is being asked.\n",
    "2. This work will be reviewed by another human, so make sure that you are clear and concise in what your explanations and answers."
   ]
  },
  {
   "cell_type": "code",
   "execution_count": 1,
   "metadata": {},
   "outputs": [],
   "source": [
    "# Load the required packages\n",
    "library(MASS)"
   ]
  },
  {
   "cell_type": "markdown",
   "metadata": {},
   "source": [
    "# Problem 1: Poisson Estimators\n",
    "\n",
    "Let $Y_1,...,Y_n \\overset{i}{\\sim} Poisson(\\lambda_i)$. Show that, if $\\eta_i = \\beta_0$, then the maximum likelihood estimator of $\\lambda_i$ is $\\widehat\\lambda_i = \\bar{Y}$, for all $i=1,...,n$."
   ]
  },
  {
   "cell_type": "markdown",
   "metadata": {},
   "source": [
    "\n",
    "   The likelihood function for the Poisson distribution is given by:\n",
    "   $$\n",
    "   L(\\lambda_1, \\ldots, \\lambda_n \\mid Y_1, \\ldots, Y_n) = \\prod_{i=1}^n \\frac{e^{-\\lambda_i} \\lambda_i^{Y_i}}{Y_i!}\n",
    "   $$\n",
    "\n",
    "\n",
    "   Taking the natural logarithm of the likelihood function, we obtain the log-likelihood:\n",
    "   $$\n",
    "   \\ell(\\lambda_1, \\ldots, \\lambda_n \\mid Y_1, \\ldots, Y_n) = \\sum_{i=1}^n \\left( -\\lambda_i + Y_i \\log(\\lambda_i) - \\log(Y_i!) \\right)\n",
    "   $$\n",
    "\n",
    "\n",
    "   The log-likelihood simplifies to:\n",
    "   $$\n",
    "   \\ell(\\lambda \\mid Y_1, \\ldots, Y_n) = \\sum_{i=1}^n \\left( -\\lambda + Y_i \\log(\\lambda) \\right) - \\sum_{i=1}^n \\log(Y_i!)\n",
    "   $$\n",
    "   $$\n",
    "   \\ell(\\lambda \\mid Y_1, \\ldots, Y_n) = -n\\lambda + \\left( \\sum_{i=1}^n Y_i \\right) \\log(\\lambda) - \\sum_{i=1}^n \\log(Y_i!)\n",
    "   $$\n",
    "\n",
    "\n",
    "   To find the MLE of $\\lambda$:\n",
    "   $$\n",
    "   \\frac{\\partial \\ell(\\lambda)}{\\partial \\lambda} = -n + \\frac{1}{\\lambda} \\sum_{i=1}^n Y_i = 0\n",
    "   $$\n",
    "\n",
    "\n",
    "   Solving the equation for $\\lambda$:\n",
    "   $$\n",
    "   -n + \\frac{1}{\\lambda} \\sum_{i=1}^n Y_i = 0 \\implies \\lambda = \\frac{1}{n} \\sum_{i=1}^n Y_i = \\bar{Y}\n",
    "   $$\n",
    "\n",
    "\n",
    "   Therefore, the maximum likelihood estimator of $\\lambda_i$ is $\\widehat\\lambda_i = \\bar{Y}$\n"
   ]
  },
  {
   "cell_type": "markdown",
   "metadata": {},
   "source": [
    "# Problem 2: Ships data\n",
    "\n",
    "The ships dataset gives the number of damage incidents and aggregate months of service for different types of ships broken down by year of construction and period of operation. \n",
    "\n",
    "The code below splits the data into a training set (80% of the data) and a test set (the remaining 20%)."
   ]
  },
  {
   "cell_type": "code",
   "execution_count": 3,
   "metadata": {},
   "outputs": [
    {
     "data": {
      "text/html": [
       "<table>\n",
       "<caption>A data.frame: 6 × 5</caption>\n",
       "<thead>\n",
       "\t<tr><th></th><th scope=col>type</th><th scope=col>year</th><th scope=col>period</th><th scope=col>service</th><th scope=col>incidents</th></tr>\n",
       "\t<tr><th></th><th scope=col>&lt;fct&gt;</th><th scope=col>&lt;fct&gt;</th><th scope=col>&lt;fct&gt;</th><th scope=col>&lt;int&gt;</th><th scope=col>&lt;int&gt;</th></tr>\n",
       "</thead>\n",
       "<tbody>\n",
       "\t<tr><th scope=row>40</th><td>E</td><td>75</td><td>75</td><td> 542</td><td>1</td></tr>\n",
       "\t<tr><th scope=row>28</th><td>D</td><td>65</td><td>75</td><td> 192</td><td>0</td></tr>\n",
       "\t<tr><th scope=row>18</th><td>C</td><td>60</td><td>75</td><td> 552</td><td>1</td></tr>\n",
       "\t<tr><th scope=row>19</th><td>C</td><td>65</td><td>60</td><td> 781</td><td>0</td></tr>\n",
       "\t<tr><th scope=row>5</th><td>A</td><td>70</td><td>60</td><td>1512</td><td>6</td></tr>\n",
       "\t<tr><th scope=row>32</th><td>D</td><td>75</td><td>75</td><td>2051</td><td>4</td></tr>\n",
       "</tbody>\n",
       "</table>\n"
      ],
      "text/latex": [
       "A data.frame: 6 × 5\n",
       "\\begin{tabular}{r|lllll}\n",
       "  & type & year & period & service & incidents\\\\\n",
       "  & <fct> & <fct> & <fct> & <int> & <int>\\\\\n",
       "\\hline\n",
       "\t40 & E & 75 & 75 &  542 & 1\\\\\n",
       "\t28 & D & 65 & 75 &  192 & 0\\\\\n",
       "\t18 & C & 60 & 75 &  552 & 1\\\\\n",
       "\t19 & C & 65 & 60 &  781 & 0\\\\\n",
       "\t5 & A & 70 & 60 & 1512 & 6\\\\\n",
       "\t32 & D & 75 & 75 & 2051 & 4\\\\\n",
       "\\end{tabular}\n"
      ],
      "text/markdown": [
       "\n",
       "A data.frame: 6 × 5\n",
       "\n",
       "| <!--/--> | type &lt;fct&gt; | year &lt;fct&gt; | period &lt;fct&gt; | service &lt;int&gt; | incidents &lt;int&gt; |\n",
       "|---|---|---|---|---|---|\n",
       "| 40 | E | 75 | 75 |  542 | 1 |\n",
       "| 28 | D | 65 | 75 |  192 | 0 |\n",
       "| 18 | C | 60 | 75 |  552 | 1 |\n",
       "| 19 | C | 65 | 60 |  781 | 0 |\n",
       "| 5 | A | 70 | 60 | 1512 | 6 |\n",
       "| 32 | D | 75 | 75 | 2051 | 4 |\n",
       "\n"
      ],
      "text/plain": [
       "   type year period service incidents\n",
       "40 E    75   75      542    1        \n",
       "28 D    65   75      192    0        \n",
       "18 C    60   75      552    1        \n",
       "19 C    65   60      781    0        \n",
       "5  A    70   60     1512    6        \n",
       "32 D    75   75     2051    4        "
      ]
     },
     "metadata": {},
     "output_type": "display_data"
    },
    {
     "data": {
      "text/plain": [
       " type  year   period     service          incidents    \n",
       " A:5   60:7   60:11   Min.   :   45.0   Min.   : 0.00  \n",
       " B:5   65:8   75:16   1st Qu.:  318.5   1st Qu.: 0.50  \n",
       " C:6   70:8           Median : 1095.0   Median : 2.00  \n",
       " D:7   75:4           Mean   : 5012.2   Mean   :10.63  \n",
       " E:4                  3rd Qu.: 2202.5   3rd Qu.:11.50  \n",
       "                      Max.   :44882.0   Max.   :58.00  "
      ]
     },
     "metadata": {},
     "output_type": "display_data"
    }
   ],
   "source": [
    "data(ships)\n",
    "ships = ships[ships$service != 0,]\n",
    "ships$year = as.factor(ships$year)\n",
    "ships$period = as.factor(ships$period)\n",
    "\n",
    "set.seed(11)\n",
    "n = floor(0.8 * nrow(ships))\n",
    "index = sample(seq_len(nrow(ships)), size = n)\n",
    "\n",
    "train = ships[index, ]\n",
    "test = ships[-index, ]\n",
    "head(train)\n",
    "summary(train)"
   ]
  },
  {
   "cell_type": "markdown",
   "metadata": {},
   "source": [
    "### 2. (a) Poisson Regression Fitting\n",
    "\n",
    "Use the training set to develop an appropriate regression model for `incidents`, using `type`, `period`, and `year` as predictors (HINT: is this a count model or a rate model?).\n",
    "\n",
    "Calculate the mean squared prediction error (MSPE) for the test set. Display your results."
   ]
  },
  {
   "cell_type": "code",
   "execution_count": 4,
   "metadata": {},
   "outputs": [
    {
     "data": {
      "text/plain": [
       "\n",
       "Call:\n",
       "glm(formula = incidents ~ type + period + year, family = \"poisson\", \n",
       "    data = train)\n",
       "\n",
       "Deviance Residuals: \n",
       "    Min       1Q   Median       3Q      Max  \n",
       "-4.0775  -1.9869  -0.0418   0.7612   3.6618  \n",
       "\n",
       "Coefficients:\n",
       "            Estimate Std. Error z value Pr(>|z|)    \n",
       "(Intercept)   1.5644     0.2199   7.113 1.13e-12 ***\n",
       "typeB         1.6795     0.1889   8.889  < 2e-16 ***\n",
       "typeC        -2.0789     0.4408  -4.717 2.40e-06 ***\n",
       "typeD        -1.1551     0.2930  -3.943 8.06e-05 ***\n",
       "typeE        -0.5113     0.2781  -1.839   0.0660 .  \n",
       "period75      0.4123     0.1282   3.216   0.0013 ** \n",
       "year65        0.4379     0.1885   2.324   0.0201 *  \n",
       "year70        0.2260     0.1916   1.180   0.2382    \n",
       "year75        0.1436     0.3147   0.456   0.6481    \n",
       "---\n",
       "Signif. codes:  0 ‘***’ 0.001 ‘**’ 0.01 ‘*’ 0.05 ‘.’ 0.1 ‘ ’ 1\n",
       "\n",
       "(Dispersion parameter for poisson family taken to be 1)\n",
       "\n",
       "    Null deviance: 554.70  on 26  degrees of freedom\n",
       "Residual deviance: 109.21  on 18  degrees of freedom\n",
       "AIC: 200.92\n",
       "\n",
       "Number of Fisher Scoring iterations: 6\n"
      ]
     },
     "metadata": {},
     "output_type": "display_data"
    },
    {
     "data": {
      "text/html": [
       "131.077556337426"
      ],
      "text/latex": [
       "131.077556337426"
      ],
      "text/markdown": [
       "131.077556337426"
      ],
      "text/plain": [
       "[1] 131.0776"
      ]
     },
     "metadata": {},
     "output_type": "display_data"
    }
   ],
   "source": [
    "model = glm(incidents~type+period+year, train, family=\"poisson\")\n",
    "summary(model)\n",
    "p = predict(model, test, type = \"response\")\n",
    "MSPE = mean((test$incidents - p)^2)\n",
    "MSPE"
   ]
  },
  {
   "cell_type": "markdown",
   "metadata": {},
   "source": []
  },
  {
   "cell_type": "markdown",
   "metadata": {},
   "source": [
    "### 2. (b) Poisson Regression Model Selection\n",
    "\n",
    "Do we really need all of these predictors? Construct a new regression model leaving out `year` and calculate the MSPE for this second model. \n",
    "\n",
    "Decide which model is better. Explain why you chose the model that you did."
   ]
  },
  {
   "cell_type": "code",
   "execution_count": 6,
   "metadata": {},
   "outputs": [
    {
     "data": {
      "text/plain": [
       "\n",
       "Call:\n",
       "glm(formula = incidents ~ type + period, family = \"poisson\", \n",
       "    data = train)\n",
       "\n",
       "Deviance Residuals: \n",
       "    Min       1Q   Median       3Q      Max  \n",
       "-4.2377  -1.9003  -0.1372   0.6377   3.8906  \n",
       "\n",
       "Coefficients:\n",
       "            Estimate Std. Error z value Pr(>|z|)    \n",
       "(Intercept)   1.7190     0.1838   9.355  < 2e-16 ***\n",
       "typeB         1.7831     0.1781  10.014  < 2e-16 ***\n",
       "typeC        -2.0573     0.4394  -4.683 2.83e-06 ***\n",
       "typeD        -1.1281     0.2918  -3.866 0.000111 ***\n",
       "typeE        -0.4831     0.2767  -1.746 0.080787 .  \n",
       "period75      0.4723     0.1222   3.865 0.000111 ***\n",
       "---\n",
       "Signif. codes:  0 ‘***’ 0.001 ‘**’ 0.01 ‘*’ 0.05 ‘.’ 0.1 ‘ ’ 1\n",
       "\n",
       "(Dispersion parameter for poisson family taken to be 1)\n",
       "\n",
       "    Null deviance: 554.70  on 26  degrees of freedom\n",
       "Residual deviance: 115.63  on 21  degrees of freedom\n",
       "AIC: 201.34\n",
       "\n",
       "Number of Fisher Scoring iterations: 6\n"
      ]
     },
     "metadata": {},
     "output_type": "display_data"
    },
    {
     "data": {
      "text/html": [
       "275.122550627591"
      ],
      "text/latex": [
       "275.122550627591"
      ],
      "text/markdown": [
       "275.122550627591"
      ],
      "text/plain": [
       "[1] 275.1226"
      ]
     },
     "metadata": {},
     "output_type": "display_data"
    }
   ],
   "source": [
    "model_no_year = glm(incidents~type+period, train, family=\"poisson\")\n",
    "summary(model_no_year)\n",
    "p_no_year = predict(model_no_year, test, type = \"response\")\n",
    "MSPE_no_year = mean((test$incidents - p_no_year)^2)\n",
    "MSPE_no_year"
   ]
  },
  {
   "cell_type": "code",
   "execution_count": 9,
   "metadata": {},
   "outputs": [
    {
     "data": {
      "text/html": [
       "0.0929203838345225"
      ],
      "text/latex": [
       "0.0929203838345225"
      ],
      "text/markdown": [
       "0.0929203838345225"
      ],
      "text/plain": [
       "[1] 0.09292038"
      ]
     },
     "metadata": {},
     "output_type": "display_data"
    }
   ],
   "source": [
    "# Can compare nested poisson models with a chi-squared \n",
    "diff_dev <- model_no_year$deviance - model$deviance\n",
    "diff_resid <- model_no_year$df.residual - model$df.residual\n",
    "p_value <- pchisq(diff_dev, df = diff_resid, lower.tail = FALSE)\n",
    "p_value"
   ]
  },
  {
   "cell_type": "markdown",
   "metadata": {},
   "source": [
    "p value is >.05 so we do not need the more complicated model"
   ]
  },
  {
   "cell_type": "markdown",
   "metadata": {},
   "source": [
    "### 2. (c) Deviance\n",
    "\n",
    "How do we determine if our model is explaining anything? With linear regression, we had a F-test, but we can't do that for Poisson Regression. If we want to check if our model is better than the null model, then we're going to have to check directly. In particular, we need to compare the deviances of the models to see if they're significantly different.\n",
    "\n",
    "Conduct two $\\chi^2$ tests (using the deviance). Let $\\alpha = 0.05$: \n",
    "\n",
    "1. Test the adequacy of null model.\n",
    "\n",
    "2. Test the adequacy of your chosen model against the full model (the model fit to all predictors). \n",
    "\n",
    "What conclusions should you draw from these tests?"
   ]
  },
  {
   "cell_type": "code",
   "execution_count": 11,
   "metadata": {},
   "outputs": [
    {
     "data": {
      "text/html": [
       "4.22139949448423e-13"
      ],
      "text/latex": [
       "4.22139949448423e-13"
      ],
      "text/markdown": [
       "4.22139949448423e-13"
      ],
      "text/plain": [
       "[1] 4.221399e-13"
      ]
     },
     "metadata": {},
     "output_type": "display_data"
    },
    {
     "data": {
      "text/html": [
       "1.85320875968548e-19"
      ],
      "text/latex": [
       "1.85320875968548e-19"
      ],
      "text/markdown": [
       "1.85320875968548e-19"
      ],
      "text/plain": [
       "[1] 1.853209e-19"
      ]
     },
     "metadata": {},
     "output_type": "display_data"
    }
   ],
   "source": [
    "# Your Code Here\n",
    "# Test if the model is better than the null model\n",
    "fitted_values <- fitted(model)\n",
    "chisq.stat <- sum((train$incidents - fitted_values)^2 / fitted_values)\n",
    "\n",
    "# Test chi_sq stat\n",
    "pchisq(chisq.stat, df=model$df.residual, lower.tail=FALSE)\n",
    "\n",
    "# Test against the full model\n",
    "\n",
    "saturated_model = glm(incidents~., train, family=\"poisson\")\n",
    "\n",
    "diff_dev <- model$deviance - saturated_model$deviance\n",
    "diff_resid <- model$df.residual - saturated_model$df.residual\n",
    "pchisq(diff_dev, df = diff_resid, lower.tail = FALSE)\n",
    "\n"
   ]
  },
  {
   "cell_type": "markdown",
   "metadata": {},
   "source": [
    "both are < .05, but our model is worse than the full (saturated) model"
   ]
  },
  {
   "cell_type": "markdown",
   "metadata": {},
   "source": [
    "### 2. (d) Poisson Regression Visualizations\n",
    "\n",
    "Just like with linear regression, we can use visualizations to assess the fit and appropriateness of our model. Is it maintaining the assumptions that it should be? Is there a discernable structure that isn't being accounted for? And, again like linear regression, it can be up to the user's interpretation what is an isn't a good model.\n",
    "\n",
    "Plot the deviance residuals against the linear predictor $\\eta$. Interpret this plot."
   ]
  },
  {
   "cell_type": "code",
   "execution_count": 15,
   "metadata": {},
   "outputs": [
    {
     "data": {
      "image/png": "[encoded data removed]",
      "text/plain": [
       "plot without title"
      ]
     },
     "metadata": {
      "image/png": {
       "height": 420,
       "width": 420
      },
      "text/plain": {
       "height": 420,
       "width": 420
      }
     },
     "output_type": "display_data"
    }
   ],
   "source": [
    "library(ggplot2)\n",
    "linear_predictors <- model$linear.predictors\n",
    "residuals <- model$residuals\n",
    "\n",
    "df <- data.frame(linear_predictors = linear_predictors, residuals = residuals)\n",
    "\n",
    "# Create the plot using ggplot2\n",
    "ggplot(df, aes(x = linear_predictors, y = residuals)) +\n",
    "  geom_point() +\n",
    "  labs(x = \"Linear Predictors\", y = \"Residuals\")"
   ]
  },
  {
   "cell_type": "markdown",
   "metadata": {},
   "source": [
    "there is an outlier, but everything else looks good to go. "
   ]
  },
  {
   "cell_type": "markdown",
   "metadata": {},
   "source": [
    "### 2. (e) Overdispersion\n",
    "\n",
    "For linear regression, the variance of the data is controlled through the standard deviation $\\sigma$, which is independent of the other parameters like the mean $\\mu$. However, some GLMs do not have this independence, which can lead to a problem called overdispersion. Overdispersion occurs when the observed data's variance is higher than expected, if the model is correct. \n",
    "\n",
    "For Poisson Regression, we expect that the mean of the data should equal the variance. If overdispersion is present, then the assumptions of the model are not being met and we can not trust its output (or our beloved p-values)!\n",
    "\n",
    "Explore the two models fit in the beginning of this question for evidence of overdisperion. If you find evidence of overdispersion, you do not need to fix it (but it would be useful for you to know how to). Describe your process and conclusions."
   ]
  },
  {
   "cell_type": "code",
   "execution_count": 17,
   "metadata": {},
   "outputs": [
    {
     "data": {
      "text/plain": [
       "\n",
       "Call:\n",
       "glm(formula = incidents ~ type + period + year, family = \"poisson\", \n",
       "    data = train)\n",
       "\n",
       "Deviance Residuals: \n",
       "    Min       1Q   Median       3Q      Max  \n",
       "-4.0775  -1.9869  -0.0418   0.7612   3.6618  \n",
       "\n",
       "Coefficients:\n",
       "            Estimate Std. Error z value Pr(>|z|)    \n",
       "(Intercept)   1.5644     0.2199   7.113 1.13e-12 ***\n",
       "typeB         1.6795     0.1889   8.889  < 2e-16 ***\n",
       "typeC        -2.0789     0.4408  -4.717 2.40e-06 ***\n",
       "typeD        -1.1551     0.2930  -3.943 8.06e-05 ***\n",
       "typeE        -0.5113     0.2781  -1.839   0.0660 .  \n",
       "period75      0.4123     0.1282   3.216   0.0013 ** \n",
       "year65        0.4379     0.1885   2.324   0.0201 *  \n",
       "year70        0.2260     0.1916   1.180   0.2382    \n",
       "year75        0.1436     0.3147   0.456   0.6481    \n",
       "---\n",
       "Signif. codes:  0 ‘***’ 0.001 ‘**’ 0.01 ‘*’ 0.05 ‘.’ 0.1 ‘ ’ 1\n",
       "\n",
       "(Dispersion parameter for poisson family taken to be 1)\n",
       "\n",
       "    Null deviance: 554.70  on 26  degrees of freedom\n",
       "Residual deviance: 109.21  on 18  degrees of freedom\n",
       "AIC: 200.92\n",
       "\n",
       "Number of Fisher Scoring iterations: 6\n"
      ]
     },
     "metadata": {},
     "output_type": "display_data"
    },
    {
     "data": {
      "text/plain": [
       "\n",
       "Call:\n",
       "glm(formula = incidents ~ type + period, family = \"poisson\", \n",
       "    data = train)\n",
       "\n",
       "Deviance Residuals: \n",
       "    Min       1Q   Median       3Q      Max  \n",
       "-4.2377  -1.9003  -0.1372   0.6377   3.8906  \n",
       "\n",
       "Coefficients:\n",
       "            Estimate Std. Error z value Pr(>|z|)    \n",
       "(Intercept)   1.7190     0.1838   9.355  < 2e-16 ***\n",
       "typeB         1.7831     0.1781  10.014  < 2e-16 ***\n",
       "typeC        -2.0573     0.4394  -4.683 2.83e-06 ***\n",
       "typeD        -1.1281     0.2918  -3.866 0.000111 ***\n",
       "typeE        -0.4831     0.2767  -1.746 0.080787 .  \n",
       "period75      0.4723     0.1222   3.865 0.000111 ***\n",
       "---\n",
       "Signif. codes:  0 ‘***’ 0.001 ‘**’ 0.01 ‘*’ 0.05 ‘.’ 0.1 ‘ ’ 1\n",
       "\n",
       "(Dispersion parameter for poisson family taken to be 1)\n",
       "\n",
       "    Null deviance: 554.70  on 26  degrees of freedom\n",
       "Residual deviance: 115.63  on 21  degrees of freedom\n",
       "AIC: 201.34\n",
       "\n",
       "Number of Fisher Scoring iterations: 6\n"
      ]
     },
     "metadata": {},
     "output_type": "display_data"
    }
   ],
   "source": [
    "# Your Code Here\n",
    "summary(model)\n",
    "summary(model_no_year)"
   ]
  },
  {
   "cell_type": "markdown",
   "metadata": {},
   "source": [
    "since the DOF for both are not the same for the null and residual deviances, we can assume there is some overdispersion"
   ]
  }
 ],
 "metadata": {
  "kernelspec": {
   "display_name": "R",
   "language": "R",
   "name": "ir"
  }
 },
 "nbformat": 4,
 "nbformat_minor": 4
}
