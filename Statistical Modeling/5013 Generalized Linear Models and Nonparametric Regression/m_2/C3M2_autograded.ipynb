{
 "cells": [
  {
   "cell_type": "markdown",
   "metadata": {
    "deletable": false,
    "editable": false,
    "nbgrader": {
     "cell_type": "markdown",
     "checksum": "13c99c961bb123aa28c49dc36dc169d8",
     "grade": false,
     "grade_id": "cell-efccf958eed0aeba",
     "locked": true,
     "schema_version": 3,
     "solution": false,
     "task": false
    }
   },
   "source": [
    "# C3M2: Autograded Assignment"
   ]
  },
  {
   "cell_type": "markdown",
   "metadata": {
    "deletable": false,
    "editable": false,
    "nbgrader": {
     "cell_type": "markdown",
     "checksum": "17b08b40e677182b10e3fb78c8fc1e9f",
     "grade": false,
     "grade_id": "cell-7ab2b43d34632de1",
     "locked": true,
     "schema_version": 3,
     "solution": false,
     "task": false
    }
   },
   "source": [
    "### Outline:\n",
    "**Here are the objectives of this assignment:**\n",
    "\n",
    "1. Understand when to apply different kinds of regression models.\n",
    "2. Fit a GLM to count data and go through model diagnostics and interpretation.\n",
    "3. Compare the effectiveness of GLMs to Linear Regression models.\n",
    "\n",
    "**Here are some general tips:**\n",
    "\n",
    "1. Read the questions carefully to understand what is being asked.\n",
    "2. When you feel that your work is completed, feel free to hit the ```Validate``` button to see your results on the *visible* unit tests. If you have questions about unit testing, please refer to the \"Module 0: Introduction\" notebook provided as an optional resource for this course. In this assignment, there are hidden unit tests that check your code. You will not recieve any feedback for failed hidden unit tests until the assignment is submitted. **Do not misinterpret the feedback from visible unit tests as all possible tests for a given question--write your code carefully!**\n",
    "3. Before submitting, we recommend restarting the kernel and running all the cells in order that they appear to make sure that there are no additional bugs in your code."
   ]
  },
  {
   "cell_type": "code",
   "execution_count": 23,
   "metadata": {
    "deletable": false,
    "editable": false,
    "nbgrader": {
     "cell_type": "code",
     "checksum": "31092c4e79d1fa81d68bce1ea6fc0da6",
     "grade": false,
     "grade_id": "cell-1dfd99e4fcf51b8b",
     "locked": true,
     "schema_version": 3,
     "solution": false,
     "task": false
    }
   },
   "outputs": [],
   "source": [
    "# Load required packages\n",
    "library(tidyverse)\n",
    "library(testthat)\n",
    "library(ggplot2)"
   ]
  },
  {
   "cell_type": "markdown",
   "metadata": {
    "deletable": false,
    "editable": false,
    "nbgrader": {
     "cell_type": "markdown",
     "checksum": "7ce6c2ce27267a4c7eddecc545cd480d",
     "grade": false,
     "grade_id": "cell-557d703ad242eb47",
     "locked": true,
     "schema_version": 3,
     "solution": false,
     "task": false
    }
   },
   "source": [
    "# Problem 1: Counts, Rates and Measurements. (15 points)\n",
    "\n",
    "As we've seen, there are many kinds of models for the many kinds of data out there, and fitting a good model start with understanding the data. For the following questions, determine which kind of model should be used for the specified data and question.\n",
    "\n",
    "For each question, input the string answer of the specified model in the respective answer variable. Choose your answers from the models: `\"linear\"`, `\"binomial\"` and `\"poisson\"`, case sensitive. Note: Some features may be suitable for different kinds of models. Pick the model that would work the best.\n",
    "\n",
    "1. You are trying to predict the number of home run scored by baseball players during their next season. Your predictors are the player's age, the number of years spent in professional baseball, and the number of home runs they scored in the previous $5$ years.\n",
    "2. You are trying to determine whether people in cities buy more cereal than people in suburbs or in rural areas. Your response is the number of cereal boxes sold, rounded to the nearest $1000$. Your predictors are the type of area, the population, the number of grocery stores, and the average cost.\n",
    "3. You want to predict ratings for hotels based on user reviews. The rating is on a scale of $1$ to $5$ stars. The predictors are different statistics extracted from their review, such as word count and the number of times the review used the word \"bathroom.\""
   ]
  },
  {
   "cell_type": "code",
   "execution_count": 24,
   "metadata": {
    "deletable": false,
    "nbgrader": {
     "cell_type": "code",
     "checksum": "65ef8fa7550054de17d2925be9db7187",
     "grade": false,
     "grade_id": "cell-340a5c66f859c6d2",
     "locked": false,
     "schema_version": 3,
     "solution": true,
     "task": false
    }
   },
   "outputs": [],
   "source": [
    "# Remember, your answers should be strings\n",
    "prob.1.1 = \"poisson\"\n",
    "\n",
    "prob.1.2 = \"linear\"\n",
    "\n",
    "prob.1.3 = \"binomial\"\n",
    "\n",
    "# your code here\n"
   ]
  },
  {
   "cell_type": "code",
   "execution_count": 25,
   "metadata": {
    "deletable": false,
    "editable": false,
    "nbgrader": {
     "cell_type": "code",
     "checksum": "1004c4c7cc78431d27e3fa396088a73b",
     "grade": true,
     "grade_id": "cell-724da27dc1880c87",
     "locked": true,
     "points": 5,
     "schema_version": 3,
     "solution": false,
     "task": false
    }
   },
   "outputs": [],
   "source": [
    "# Test Cell\n",
    "if(!test_that(\"Checking answer types\", {expect_is(prob.1.1, \"character\")\n",
    "                                        expect_is(prob.1.2, \"character\")\n",
    "                                        expect_is(prob.1.3, \"character\")})){\n",
    "    print(\"Make sure your answers are strings!\")\n",
    "}"
   ]
  },
  {
   "cell_type": "code",
   "execution_count": null,
   "metadata": {
    "deletable": false,
    "editable": false,
    "nbgrader": {
     "cell_type": "code",
     "checksum": "d79dca1ea29c35aec70d693293d39836",
     "grade": true,
     "grade_id": "cell-4e9ce2437e82ab4c",
     "locked": true,
     "points": 5,
     "schema_version": 3,
     "solution": false,
     "task": false
    }
   },
   "outputs": [],
   "source": []
  },
  {
   "cell_type": "code",
   "execution_count": null,
   "metadata": {
    "deletable": false,
    "editable": false,
    "nbgrader": {
     "cell_type": "code",
     "checksum": "81475a7ccbd7c2e26192ee819d029467",
     "grade": true,
     "grade_id": "cell-9cab605d4dfedd70",
     "locked": true,
     "points": 5,
     "schema_version": 3,
     "solution": false,
     "task": false
    }
   },
   "outputs": [],
   "source": []
  },
  {
   "cell_type": "markdown",
   "metadata": {
    "deletable": false,
    "editable": false,
    "nbgrader": {
     "cell_type": "markdown",
     "checksum": "3817bce336fc09b18133bb4691cccb88",
     "grade": false,
     "grade_id": "cell-993e5a1779d944e4",
     "locked": true,
     "schema_version": 3,
     "solution": false,
     "task": false
    }
   },
   "source": [
    "# Problem 2: MLRs vs. GLMs\n",
    "\n",
    "For each 30 Galapagos islands, we have a count of the number of plant species found on each island and the number that are endemic to that island. We also have five geographic variables for each island. \n",
    "\n",
    "1. Species: the number of plant species found on the island\n",
    "2. Endemics: the number of endemic species\n",
    "3. Area: the area of the island (km$^2$)\n",
    "4. Elevation: the highest elevation of the island (m)\n",
    "5. Nearest: the distance from the nearest island (km)\n",
    "6. Scruz: the distance from Santa Cruz island (km)\n",
    "7. Adjacent: the area of the adjacent island (square km)"
   ]
  },
  {
   "cell_type": "code",
   "execution_count": 26,
   "metadata": {
    "deletable": false,
    "editable": false,
    "nbgrader": {
     "cell_type": "code",
     "checksum": "12019b2d7d007c8ad026068179736101",
     "grade": false,
     "grade_id": "cell-a619e56a7a080f87",
     "locked": true,
     "schema_version": 3,
     "solution": false,
     "task": false
    }
   },
   "outputs": [
    {
     "data": {
      "text/html": [
       "<table>\n",
       "<caption>A data.frame: 6 × 8</caption>\n",
       "<thead>\n",
       "\t<tr><th></th><th scope=col>Location</th><th scope=col>Species</th><th scope=col>Endemics</th><th scope=col>Area</th><th scope=col>Elevation</th><th scope=col>Nearest</th><th scope=col>Scruz</th><th scope=col>Adjacent</th></tr>\n",
       "\t<tr><th></th><th scope=col>&lt;chr&gt;</th><th scope=col>&lt;int&gt;</th><th scope=col>&lt;int&gt;</th><th scope=col>&lt;dbl&gt;</th><th scope=col>&lt;int&gt;</th><th scope=col>&lt;dbl&gt;</th><th scope=col>&lt;dbl&gt;</th><th scope=col>&lt;dbl&gt;</th></tr>\n",
       "</thead>\n",
       "<tbody>\n",
       "\t<tr><th scope=row>1</th><td>Baltra      </td><td>58</td><td>23</td><td>25.09</td><td>346</td><td>0.6</td><td> 0.6</td><td>  1.84</td></tr>\n",
       "\t<tr><th scope=row>2</th><td>Bartolome   </td><td>31</td><td>21</td><td> 1.24</td><td>109</td><td>0.6</td><td>26.3</td><td>572.33</td></tr>\n",
       "\t<tr><th scope=row>3</th><td>Caldwell    </td><td> 3</td><td> 3</td><td> 0.21</td><td>114</td><td>2.8</td><td>58.7</td><td>  0.78</td></tr>\n",
       "\t<tr><th scope=row>4</th><td>Champion    </td><td>25</td><td> 9</td><td> 0.10</td><td> 46</td><td>1.9</td><td>47.4</td><td>  0.18</td></tr>\n",
       "\t<tr><th scope=row>5</th><td>Coamano     </td><td> 2</td><td> 1</td><td> 0.05</td><td> 77</td><td>1.9</td><td> 1.9</td><td>903.82</td></tr>\n",
       "\t<tr><th scope=row>6</th><td>Daphne.Major</td><td>18</td><td>11</td><td> 0.34</td><td>119</td><td>8.0</td><td> 8.0</td><td>  1.84</td></tr>\n",
       "</tbody>\n",
       "</table>\n"
      ],
      "text/latex": [
       "A data.frame: 6 × 8\n",
       "\\begin{tabular}{r|llllllll}\n",
       "  & Location & Species & Endemics & Area & Elevation & Nearest & Scruz & Adjacent\\\\\n",
       "  & <chr> & <int> & <int> & <dbl> & <int> & <dbl> & <dbl> & <dbl>\\\\\n",
       "\\hline\n",
       "\t1 & Baltra       & 58 & 23 & 25.09 & 346 & 0.6 &  0.6 &   1.84\\\\\n",
       "\t2 & Bartolome    & 31 & 21 &  1.24 & 109 & 0.6 & 26.3 & 572.33\\\\\n",
       "\t3 & Caldwell     &  3 &  3 &  0.21 & 114 & 2.8 & 58.7 &   0.78\\\\\n",
       "\t4 & Champion     & 25 &  9 &  0.10 &  46 & 1.9 & 47.4 &   0.18\\\\\n",
       "\t5 & Coamano      &  2 &  1 &  0.05 &  77 & 1.9 &  1.9 & 903.82\\\\\n",
       "\t6 & Daphne.Major & 18 & 11 &  0.34 & 119 & 8.0 &  8.0 &   1.84\\\\\n",
       "\\end{tabular}\n"
      ],
      "text/markdown": [
       "\n",
       "A data.frame: 6 × 8\n",
       "\n",
       "| <!--/--> | Location &lt;chr&gt; | Species &lt;int&gt; | Endemics &lt;int&gt; | Area &lt;dbl&gt; | Elevation &lt;int&gt; | Nearest &lt;dbl&gt; | Scruz &lt;dbl&gt; | Adjacent &lt;dbl&gt; |\n",
       "|---|---|---|---|---|---|---|---|---|\n",
       "| 1 | Baltra       | 58 | 23 | 25.09 | 346 | 0.6 |  0.6 |   1.84 |\n",
       "| 2 | Bartolome    | 31 | 21 |  1.24 | 109 | 0.6 | 26.3 | 572.33 |\n",
       "| 3 | Caldwell     |  3 |  3 |  0.21 | 114 | 2.8 | 58.7 |   0.78 |\n",
       "| 4 | Champion     | 25 |  9 |  0.10 |  46 | 1.9 | 47.4 |   0.18 |\n",
       "| 5 | Coamano      |  2 |  1 |  0.05 |  77 | 1.9 |  1.9 | 903.82 |\n",
       "| 6 | Daphne.Major | 18 | 11 |  0.34 | 119 | 8.0 |  8.0 |   1.84 |\n",
       "\n"
      ],
      "text/plain": [
       "  Location     Species Endemics Area  Elevation Nearest Scruz Adjacent\n",
       "1 Baltra       58      23       25.09 346       0.6      0.6    1.84  \n",
       "2 Bartolome    31      21        1.24 109       0.6     26.3  572.33  \n",
       "3 Caldwell      3       3        0.21 114       2.8     58.7    0.78  \n",
       "4 Champion     25       9        0.10  46       1.9     47.4    0.18  \n",
       "5 Coamano       2       1        0.05  77       1.9      1.9  903.82  \n",
       "6 Daphne.Major 18      11        0.34 119       8.0      8.0    1.84  "
      ]
     },
     "metadata": {},
     "output_type": "display_data"
    }
   ],
   "source": [
    "# Load the data\n",
    "data.gala = read.csv(\"gala.csv\")\n",
    "\n",
    "colnames(data.gala)[1] = \"Location\"\n",
    "data.gala$Location = as.character(data.gala$Location)\n",
    "head(data.gala)"
   ]
  },
  {
   "cell_type": "markdown",
   "metadata": {
    "deletable": false,
    "editable": false,
    "nbgrader": {
     "cell_type": "markdown",
     "checksum": "5b325da45337337ec49ea9ebd1b02fbc",
     "grade": false,
     "grade_id": "cell-af181788df0a59a4",
     "locked": true,
     "schema_version": 3,
     "solution": false,
     "task": false
    }
   },
   "source": [
    "### 2. (a) Trying a Linear Model (15 points)\n",
    "\n",
    "Fit a linear model called `lmod.gala` with `Species` as the response and all other variables, except `Location` and `Endemics`, as predictors. Run some diagnostics and think about why this model may not be the best fit. For each assumption variable, answer `TRUE` if the assumptoin is being met by the model, and `FALSE` if the assumption is not being met by the model."
   ]
  },
  {
   "cell_type": "code",
   "execution_count": 27,
   "metadata": {
    "deletable": false,
    "nbgrader": {
     "cell_type": "code",
     "checksum": "f99a6ad010205c91fccfa82d89400bb9",
     "grade": false,
     "grade_id": "cell-265adce9bc5f9356",
     "locked": false,
     "schema_version": 3,
     "solution": true,
     "task": false
    }
   },
   "outputs": [],
   "source": [
    "lmod.gala <- lm(Species ~ Area + Elevation + Nearest + Scruz + Adjacent, data = data.gala)\n",
    "# Code the following as TRUE or FALSE\n",
    "lmod.gala.linear <- FALSE  # Assume the linearity assumption is not met by default\n",
    "\n",
    "# Homoscedasticity assumption\n",
    "lmod.gala.homoskedasticity <- FALSE  # Assume the homoscedasticity assumption is not met by default\n",
    "\n",
    "# Normality assumption\n",
    "lmod.gala.normality <- FALSE  # Assume the normality assumption is not met by default\n",
    "\n",
    "# # Diagnostics\n",
    "# plot(lmod.gala, which = c(1, 2, 3))  # Plotting diagnostics: residuals vs. fitted values, normal Q-Q plot, scale-location plot\n",
    "\n",
    "# # Check linearity assumption\n",
    "# if (all(abs(lmod.gala$residuals) < 0.5)) {\n",
    "#   lmod.gala.linear <- TRUE\n",
    "# }\n",
    "\n",
    "# # Check homoscedasticity assumption (using a plot)\n",
    "# if (!any(abs(rstandard(lmod.gala)) > 2)) {\n",
    "#   lmod.gala.homoskedasticity <- TRUE\n",
    "# }\n",
    "\n",
    "# shapiro_test <- shapiro.test(lmod.gala$residuals)\n",
    "# if (shapiro_test$p.value > 0.05) {\n",
    "#   lmod.gala.normality <- TRUE\n",
    "# }\n",
    "\n",
    "# lmod.gala.linear\n",
    "# lmod.gala.homoskedasticity\n",
    "# lmod.gala.normality"
   ]
  },
  {
   "cell_type": "code",
   "execution_count": 28,
   "metadata": {
    "deletable": false,
    "editable": false,
    "nbgrader": {
     "cell_type": "code",
     "checksum": "340d9290ea35fa0f04f98154425522f4",
     "grade": true,
     "grade_id": "cell-fcdd78da7e2bf672",
     "locked": true,
     "points": 5,
     "schema_version": 3,
     "solution": false,
     "task": false
    }
   },
   "outputs": [],
   "source": [
    "# Test Cell\n",
    "if(!test_that(\"Checking if model coefficients are correct\", {expect_equal(7.068221, as.numeric(lmod.gala$coef[1]), tol=1e-4)\n",
    "                                                             expect_equal(-0.023938, as.numeric(lmod.gala$coef[2]), tol=1e-4)\n",
    "                                                             expect_equal(0.319456, as.numeric(lmod.gala$coef[3]), tol=1e-4)})){\n",
    "    print(\"At least one of the coefficients was wrong. Make sure your model is correct before doing diagnostics.\")\n",
    "}\n",
    "# This cell has hidden test cases that will run after submission."
   ]
  },
  {
   "cell_type": "code",
   "execution_count": null,
   "metadata": {
    "deletable": false,
    "editable": false,
    "nbgrader": {
     "cell_type": "code",
     "checksum": "7d453a8202e6f66cf72524df9cfb4faa",
     "grade": true,
     "grade_id": "cell-e35e134f322dbe5d",
     "locked": true,
     "points": 5,
     "schema_version": 3,
     "solution": false,
     "task": false
    }
   },
   "outputs": [],
   "source": []
  },
  {
   "cell_type": "code",
   "execution_count": null,
   "metadata": {
    "deletable": false,
    "editable": false,
    "nbgrader": {
     "cell_type": "code",
     "checksum": "a461723b8992c472c79bd72a6d5d8d9b",
     "grade": true,
     "grade_id": "cell-665bc65bb20b94aa",
     "locked": true,
     "points": 5,
     "schema_version": 3,
     "solution": false,
     "task": false
    }
   },
   "outputs": [],
   "source": []
  },
  {
   "cell_type": "markdown",
   "metadata": {
    "deletable": false,
    "editable": false,
    "nbgrader": {
     "cell_type": "markdown",
     "checksum": "177d9e5b7c81c486043d984ecfac4604",
     "grade": false,
     "grade_id": "cell-3b29caf0d4a4c76e",
     "locked": true,
     "schema_version": 3,
     "solution": false,
     "task": false
    }
   },
   "source": [
    "### 2. (b) Linear Transformations (8 points)\n",
    "\n",
    "Recall that one strategy we used to address models that had nonconstant variance was to transform the response variable. Try the square root transform on the response fit to the same predictors. Store this model as `lmod.gala.sqrt`. Look at the diagnostic plots and consider if this model's assumptions are better than the last. Similar to the previous problem, for each assumption, answer `TRUE` if the model meets the assumption `FALSE` if not. Note that if a plot looks ambiguous, you can interpret it as \"no evidence of a violation\" and answer `TRUE`.\n",
    "\n",
    "One thing to keep in mind is that transformations make the model harder to interpret. Think about how a $1$ unit increase in `Nearest` for your transformed model would affect `Species`. Put your answers into `sqrt.gala.linearity`, `sqrt.gala.homoskedasticity` and `sqrt.gala.normality`."
   ]
  },
  {
   "cell_type": "code",
   "execution_count": 29,
   "metadata": {
    "deletable": false,
    "nbgrader": {
     "cell_type": "code",
     "checksum": "ed34beb81ddb5cc33ff1a02fd4f010b9",
     "grade": false,
     "grade_id": "cell-b9976ba66035ecde",
     "locked": false,
     "schema_version": 3,
     "solution": true,
     "task": false
    }
   },
   "outputs": [
    {
     "data": {
      "image/png": "[encoded data removed]",
      "text/plain": [
       "Plot with title “”"
      ]
     },
     "metadata": {
      "image/png": {
       "height": 420,
       "width": 420
      },
      "text/plain": {
       "height": 420,
       "width": 420
      }
     },
     "output_type": "display_data"
    },
    {
     "data": {
      "image/png": "[encoded data removed]",
      "text/plain": [
       "Plot with title “”"
      ]
     },
     "metadata": {
      "image/png": {
       "height": 420,
       "width": 420
      },
      "text/plain": {
       "height": 420,
       "width": 420
      }
     },
     "output_type": "display_data"
    },
    {
     "data": {
      "image/png": "[encoded data removed]",
      "text/plain": [
       "Plot with title “”"
      ]
     },
     "metadata": {
      "image/png": {
       "height": 420,
       "width": 420
      },
      "text/plain": {
       "height": 420,
       "width": 420
      }
     },
     "output_type": "display_data"
    }
   ],
   "source": [
    "lmod.gala.sqrt <- lm(sqrt(Species) ~ Area + Elevation + Nearest + Scruz + Adjacent, data = data.gala)\n",
    "\n",
    "\n",
    "sqrt.gala.linearity <- FALSE\n",
    "sqrt.gala.homoskedasticity <- TRUE\n",
    "sqrt.gala.normality <- FALSE\n",
    "\n",
    "# your code here\n"
   ]
  },
  {
   "cell_type": "code",
   "execution_count": 30,
   "metadata": {
    "deletable": false,
    "editable": false,
    "nbgrader": {
     "cell_type": "code",
     "checksum": "f1659f0f59d759d21c2253cd62e59f07",
     "grade": true,
     "grade_id": "cell-8b2ba5fb3d78d832",
     "locked": true,
     "points": 4,
     "schema_version": 3,
     "solution": false,
     "task": false
    }
   },
   "outputs": [],
   "source": [
    "# Test Cell\n",
    "# This cell has hidden test cases that will run after submission."
   ]
  },
  {
   "cell_type": "code",
   "execution_count": null,
   "metadata": {
    "deletable": false,
    "editable": false,
    "nbgrader": {
     "cell_type": "code",
     "checksum": "43bf966d58886bf53f972b8f07e1e6f1",
     "grade": true,
     "grade_id": "cell-51c721861b2c0848",
     "locked": true,
     "points": 4,
     "schema_version": 3,
     "solution": false,
     "task": false
    }
   },
   "outputs": [],
   "source": []
  },
  {
   "cell_type": "markdown",
   "metadata": {
    "deletable": false,
    "editable": false,
    "nbgrader": {
     "cell_type": "markdown",
     "checksum": "ac1be98f4df64041783b33e2f7fa6edc",
     "grade": false,
     "grade_id": "cell-d9a4ae8035bc8627",
     "locked": true,
     "schema_version": 3,
     "solution": false,
     "task": false
    }
   },
   "source": [
    "### 2. (c) GLMs to the Rescue (6 points)\n",
    "\n",
    "There's still some problems with the model. Because our response variable is counts, maybe linear models aren't the best anyways. Fit a GLM of appropriate family to the (untransformed) data, using the same predictors. Store this model as `glm.gala`. Plot the diagnostics plots and think about what assumptions should be met.\n",
    "\n",
    "How do we interpret this model? In particular, fill in the blank: \"A 1-unit increase in `Elevation` is associated with a multiplicative increase of $\\text{_____}$ in `Species`, on average.\" Store this value as `glm.interp`."
   ]
  },
  {
   "cell_type": "code",
   "execution_count": 31,
   "metadata": {
    "deletable": false,
    "nbgrader": {
     "cell_type": "code",
     "checksum": "c7b0d882ee3aca1a34a7530c97ace27a",
     "grade": false,
     "grade_id": "cell-c8563dcfc34fc1ca",
     "locked": false,
     "schema_version": 3,
     "solution": true,
     "task": false
    }
   },
   "outputs": [
    {
     "data": {
      "text/plain": [
       "\n",
       "Call:\n",
       "glm(formula = Species ~ . - Location - Endemics, family = poisson, \n",
       "    data = data.gala)\n",
       "\n",
       "Deviance Residuals: \n",
       "    Min       1Q   Median       3Q      Max  \n",
       "-8.2752  -4.4966  -0.9443   1.9168  10.1849  \n",
       "\n",
       "Coefficients:\n",
       "              Estimate Std. Error z value Pr(>|z|)    \n",
       "(Intercept)  3.155e+00  5.175e-02  60.963  < 2e-16 ***\n",
       "Area        -5.799e-04  2.627e-05 -22.074  < 2e-16 ***\n",
       "Elevation    3.541e-03  8.741e-05  40.507  < 2e-16 ***\n",
       "Nearest      8.826e-03  1.821e-03   4.846 1.26e-06 ***\n",
       "Scruz       -5.709e-03  6.256e-04  -9.126  < 2e-16 ***\n",
       "Adjacent    -6.630e-04  2.933e-05 -22.608  < 2e-16 ***\n",
       "---\n",
       "Signif. codes:  0 ‘***’ 0.001 ‘**’ 0.01 ‘*’ 0.05 ‘.’ 0.1 ‘ ’ 1\n",
       "\n",
       "(Dispersion parameter for poisson family taken to be 1)\n",
       "\n",
       "    Null deviance: 3510.73  on 29  degrees of freedom\n",
       "Residual deviance:  716.85  on 24  degrees of freedom\n",
       "AIC: 889.68\n",
       "\n",
       "Number of Fisher Scoring iterations: 5\n"
      ]
     },
     "metadata": {},
     "output_type": "display_data"
    },
    {
     "data": {
      "text/html": [
       "<strong>Elevation:</strong> 1.00354686931573"
      ],
      "text/latex": [
       "\\textbf{Elevation:} 1.00354686931573"
      ],
      "text/markdown": [
       "**Elevation:** 1.00354686931573"
      ],
      "text/plain": [
       "Elevation \n",
       " 1.003547 "
      ]
     },
     "metadata": {},
     "output_type": "display_data"
    }
   ],
   "source": [
    "glm.gala <- glm(Species ~ . - Location - Endemics, data = data.gala, family = poisson)\n",
    "summary(glm.gala)\n",
    "glm.interp = exp(coef(glm.gala)[\"Elevation\"])\n",
    "glm.interp\n",
    "# your code here\n"
   ]
  },
  {
   "cell_type": "code",
   "execution_count": 32,
   "metadata": {
    "deletable": false,
    "editable": false,
    "nbgrader": {
     "cell_type": "code",
     "checksum": "4854011a0e2a02b9cfe8aa9845f02d2b",
     "grade": true,
     "grade_id": "cell-ffbb3e3983e8db85",
     "locked": true,
     "points": 2,
     "schema_version": 3,
     "solution": false,
     "task": false
    }
   },
   "outputs": [],
   "source": [
    "# Test Cell\n",
    "# This cell has hidden test cases that will run after submission."
   ]
  },
  {
   "cell_type": "code",
   "execution_count": 33,
   "metadata": {
    "deletable": false,
    "editable": false,
    "nbgrader": {
     "cell_type": "code",
     "checksum": "756cc1dd89d331c238f6b23a7bd6de2e",
     "grade": true,
     "grade_id": "cell-2f833909d3198c77",
     "locked": true,
     "points": 2,
     "schema_version": 3,
     "solution": false,
     "task": false
    }
   },
   "outputs": [],
   "source": [
    "# Test Cell\n",
    "# This cell has hidden test cases that will run after submission."
   ]
  },
  {
   "cell_type": "code",
   "execution_count": 34,
   "metadata": {
    "deletable": false,
    "editable": false,
    "nbgrader": {
     "cell_type": "code",
     "checksum": "b18d9629b38fa2d653a61c141bd86117",
     "grade": true,
     "grade_id": "cell-c157c2f762676f1e",
     "locked": true,
     "points": 2,
     "schema_version": 3,
     "solution": false,
     "task": false
    }
   },
   "outputs": [],
   "source": [
    "# Test Cell\n",
    "# This cell has hidden test cases that will run after submission."
   ]
  },
  {
   "cell_type": "markdown",
   "metadata": {
    "deletable": false,
    "editable": false,
    "nbgrader": {
     "cell_type": "markdown",
     "checksum": "b6c095c31581dca22b113bf30659c7b5",
     "grade": false,
     "grade_id": "cell-4d8cef1d6f67ab92",
     "locked": true,
     "schema_version": 3,
     "solution": false,
     "task": false
    }
   },
   "source": [
    "### 2. (d) GLM Goodness of Fit (6 points)\n",
    "\n",
    "Our linear models didn't do a great job of fitting the data, how do we know if our GLM fits the data any better? Well, we don't have an easy scale of reference, like the $R^2$ value, for GLMs. What we can do is compare our model to other models, such as the null model, and see if ours performs significantly better.\n",
    "\n",
    "Calculate the deviance of your model and store it as `glm.deviance`. Then check the goodness of fit of your model using Pearson's $\\chi^2$ statistic. Store this value as `glm.chisq.stat`. Calculate the p-value for this statistic and store it as `glm.chisq.pval`. What does this tell you about your model?"
   ]
  },
  {
   "cell_type": "code",
   "execution_count": 38,
   "metadata": {
    "deletable": false,
    "nbgrader": {
     "cell_type": "code",
     "checksum": "49d0382a93d5b27848a5ac1d40db837a",
     "grade": false,
     "grade_id": "cell-f4d7f67cb4e7d801",
     "locked": false,
     "schema_version": 3,
     "solution": true,
     "task": false
    }
   },
   "outputs": [
    {
     "data": {
      "text/plain": [
       "\n",
       "Call:\n",
       "glm(formula = Species ~ Area + Elevation + Nearest + Scruz + \n",
       "    Adjacent + sqrt(Species), family = poisson, data = data.gala)\n",
       "\n",
       "Deviance Residuals: \n",
       "    Min       1Q   Median       3Q      Max  \n",
       "-4.0759  -2.3663  -0.1194   1.4271   4.0810  \n",
       "\n",
       "Coefficients:\n",
       "                Estimate Std. Error z value Pr(>|z|)    \n",
       "(Intercept)    2.338e+00  6.951e-02  33.633  < 2e-16 ***\n",
       "Area          -1.362e-04  3.567e-05  -3.818 0.000135 ***\n",
       "Elevation      5.630e-04  1.661e-04   3.389 0.000700 ***\n",
       "Nearest        2.868e-03  1.605e-03   1.787 0.073866 .  \n",
       "Scruz          1.346e-04  5.878e-04   0.229 0.818880    \n",
       "Adjacent      -4.151e-05  4.224e-05  -0.983 0.325815    \n",
       "sqrt(Species)  1.699e-01  7.418e-03  22.901  < 2e-16 ***\n",
       "---\n",
       "Signif. codes:  0 ‘***’ 0.001 ‘**’ 0.01 ‘*’ 0.05 ‘.’ 0.1 ‘ ’ 1\n",
       "\n",
       "(Dispersion parameter for poisson family taken to be 1)\n",
       "\n",
       "    Null deviance: 3510.73  on 29  degrees of freedom\n",
       "Residual deviance:  169.45  on 23  degrees of freedom\n",
       "AIC: 344.28\n",
       "\n",
       "Number of Fisher Scoring iterations: 4\n"
      ]
     },
     "metadata": {},
     "output_type": "display_data"
    },
    {
     "data": {
      "text/plain": [
       "\n",
       "Call:\n",
       "lm(formula = sqrt(Species) ~ Area + Elevation + Nearest + Scruz + \n",
       "    Adjacent, data = data.gala)\n",
       "\n",
       "Residuals:\n",
       "    Min      1Q  Median      3Q     Max \n",
       "-4.5572 -1.4969 -0.3031  1.3527  5.2110 \n",
       "\n",
       "Coefficients:\n",
       "              Estimate Std. Error t value Pr(>|t|)    \n",
       "(Intercept)  3.3919243  0.8712678   3.893 0.000690 ***\n",
       "Area        -0.0019718  0.0010199  -1.933 0.065080 .  \n",
       "Elevation    0.0164784  0.0024410   6.751 5.55e-07 ***\n",
       "Nearest      0.0249326  0.0479495   0.520 0.607844    \n",
       "Scruz       -0.0134826  0.0097980  -1.376 0.181509    \n",
       "Adjacent    -0.0033669  0.0008051  -4.182 0.000333 ***\n",
       "---\n",
       "Signif. codes:  0 ‘***’ 0.001 ‘**’ 0.01 ‘*’ 0.05 ‘.’ 0.1 ‘ ’ 1\n",
       "\n",
       "Residual standard error: 2.774 on 24 degrees of freedom\n",
       "Multiple R-squared:  0.7827,\tAdjusted R-squared:  0.7374 \n",
       "F-statistic: 17.29 on 5 and 24 DF,  p-value: 2.874e-07\n"
      ]
     },
     "metadata": {},
     "output_type": "display_data"
    }
   ],
   "source": [
    "# glm.gala <- glm(Species ~ Area + Elevation + Nearest + Scruz + Adjacent + sqrt(Species), data = data.gala, family = poisson)\n",
    "\n",
    "glm.deviance <- deviance(lmod.gala.sqrt) #incorrect\n",
    "glm.chisq.stat <- sum(residuals(lmod.gala.sqrt, type = \"pearson\")^2) #incorrect - somehow? \n",
    "glm.chisq.pval <- 1 - pchisq(glm.chisq.stat, df = df.residual(lmod.gala.sqrt))\n"
   ]
  },
  {
   "cell_type": "code",
   "execution_count": null,
   "metadata": {
    "deletable": false,
    "editable": false,
    "nbgrader": {
     "cell_type": "code",
     "checksum": "7410e4d1a94a69e98f68ef3996270fb6",
     "grade": true,
     "grade_id": "cell-16aa8364161967a2",
     "locked": true,
     "points": 2,
     "schema_version": 3,
     "solution": false,
     "task": false
    }
   },
   "outputs": [],
   "source": [
    "# Test Cell\n",
    "# This cell has hidden test cases that will run after submission."
   ]
  },
  {
   "cell_type": "code",
   "execution_count": null,
   "metadata": {
    "deletable": false,
    "editable": false,
    "nbgrader": {
     "cell_type": "code",
     "checksum": "3c6d8aeb81220fdd43ae16ef4581ea40",
     "grade": true,
     "grade_id": "cell-f8f057d9d4abe494",
     "locked": true,
     "points": 2,
     "schema_version": 3,
     "solution": false,
     "task": false
    }
   },
   "outputs": [],
   "source": [
    "# Test Cell\n",
    "# This cell has hidden test cases that will run after submission."
   ]
  },
  {
   "cell_type": "code",
   "execution_count": null,
   "metadata": {
    "deletable": false,
    "editable": false,
    "nbgrader": {
     "cell_type": "code",
     "checksum": "2e53b4e19d6020e37fb09076482a7349",
     "grade": true,
     "grade_id": "cell-4b58cc48831ff52a",
     "locked": true,
     "points": 2,
     "schema_version": 3,
     "solution": false,
     "task": false
    }
   },
   "outputs": [],
   "source": [
    "# Test Cell\n",
    "# This cell has hidden test cases that will run after submission."
   ]
  }
 ],
 "metadata": {
  "kernelspec": {
   "display_name": "R",
   "language": "R",
   "name": "ir"
  },
  "language_info": {
   "codemirror_mode": "r",
   "file_extension": ".r",
   "mimetype": "text/x-r-source",
   "name": "R",
   "pygments_lexer": "r",
   "version": "3.6.3"
  }
 },
 "nbformat": 4,
 "nbformat_minor": 4
}
