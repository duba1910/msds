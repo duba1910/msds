{
 "cells": [
  {
   "cell_type": "markdown",
   "metadata": {},
   "source": [
    " #### How are the models that we’ve used in this course so far (and in this specialization more broadly) based on the process of induction?\n",
    "\n",
    " Linear binomial regression models are based on induction, drawing general rules from specific historical data. Linear regression identifies a linear relationship between variables to predict outcomes, while binomial regression models the probability of a binary outcome based on predictor variables. Both methods generalize from observed data to make predictions about new cases. This inductive process enables the creation of models that apply learned patterns to future instances."
   ]
  },
  {
   "cell_type": "markdown",
   "metadata": {},
   "source": [
    "#### “The fact that machine learning is ‘evidence-based” by no means ensures that it will lead to accurate, reliable, or fair decisions.” Provide 2-3 examples of this claim. \n",
    "\n",
    "1. Automated systems used for underwriting loans have shown less racial disparity compared to human decision-makers, but this does not ensure fairness. If the historical data used to train these models reflect past prejudices, the models may still perpetuate these biases​\n",
    "\n",
    "\n",
    "2. Machine learning models used in predictive policing can lead to discriminatory practices. If these models are trained on historical crime data that disproportionately target certain neighborhoods or racial groups, they can reinforce and perpetuate these biases, leading to over-policing of marginalized communities​"
   ]
  },
  {
   "cell_type": "markdown",
   "metadata": {},
   "source": [
    "#### Do you believe that Amazon's same-day delivery system mention on page 3-4 is unfair or unjust? Why or why not?\n",
    "\n",
    "Despite race not being an explicit factor in the system's design, the outcome still resulted in racial disparities. The system provided unequal opportunities based on geographic and demographic factors, which can perpetuate existing inequalities. Given the historical context of racial segregation and economic disparities in the United States, such outcomes are concerning as they can contribute to the cycle of inequality​​."
   ]
  },
  {
   "cell_type": "markdown",
   "metadata": {},
   "source": [
    "#### What is the machine learning loop? Do you think that the machine learning loop, given in figure 1, applies to statistical modeling? Justify your answer.\n",
    "\n",
    "The machine learning loop involves several stages:\n",
    "1. Measurement: Collecting and formatting data\n",
    "2. Learning: Developing a model by training it on the collected data.\n",
    "3. Prediction: Applying the model to new data to make predictions or decisions.\n",
    "4. Feedback: Using the outcomes of these predictions to refine and improve the model.\n",
    "\n",
    "The loop applies to statistical modeling as well. Both machine learning and traditional statistical modeling involve collecting data, identifying patterns, creating models, making predictions, and refining models based on feedback. "
   ]
  }
 ],
 "metadata": {
  "kernelspec": {
   "display_name": "Python 3",
   "language": "python",
   "name": "python3"
  },
  "language_info": {
   "codemirror_mode": {
    "name": "ipython",
    "version": 3
   },
   "file_extension": ".py",
   "mimetype": "text/x-python",
   "name": "python",
   "nbconvert_exporter": "python",
   "pygments_lexer": "ipython3",
   "version": "3.11.1"
  }
 },
 "nbformat": 4,
 "nbformat_minor": 2
}
