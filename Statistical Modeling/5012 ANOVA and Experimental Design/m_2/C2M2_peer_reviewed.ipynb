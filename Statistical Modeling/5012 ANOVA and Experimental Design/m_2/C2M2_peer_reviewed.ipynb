{
 "cells": [
  {
   "cell_type": "markdown",
   "metadata": {},
   "source": [
    "# C2M2: Peer Reviewed Assignment"
   ]
  },
  {
   "cell_type": "markdown",
   "metadata": {},
   "source": [
    "### Outline:\n",
    "The objectives for this assignment:\n",
    "\n",
    "1. Utilize contrasts to see how different pairwise comparison tests can be conducted.\n",
    "2. Understand power and why it's important to statistical conclusions.\n",
    "3. Understand the different kinds of post-hoc tests and when they should be used.\n",
    "\n",
    "General tips:\n",
    "\n",
    "1. Read the questions carefully to understand what is being asked.\n",
    "2. This work will be reviewed by another human, so make sure that you are clear and concise in what your explanations and answers."
   ]
  },
  {
   "cell_type": "markdown",
   "metadata": {},
   "source": [
    "# Problem 1: Contrasts and Coupons\n",
    "\n",
    "Consider a hardness testing machine that presses a rod with a pointed tip into a metal specimen with a known force. By measuring the depth of the depression caused by the tip, the hardness of the specimen is determined.\n",
    "\n",
    "Suppose we wish to determine whether or not four different tips produce different readings on a hardness testing machine. The experimenter has decided to obtain four observations on Rockwell C-scale hardness for each tip. There is only one factor - tip type - and a completely randomized single-factor design would consist of randomly assigning each one of the  4×4=16  runs to an experimental unit, that is, a metal coupon, and observing the hardness reading that results. Thus, 16 different metal test coupons would be required in this experiment, one for each run in the design."
   ]
  },
  {
   "cell_type": "code",
   "execution_count": 1,
   "metadata": {},
   "outputs": [
    {
     "data": {
      "text/html": [
       "<table>\n",
       "<caption>A data.frame: 16 × 3</caption>\n",
       "<thead>\n",
       "\t<tr><th scope=col>y</th><th scope=col>tip</th><th scope=col>coupon</th></tr>\n",
       "\t<tr><th scope=col>&lt;dbl&gt;</th><th scope=col>&lt;fct&gt;</th><th scope=col>&lt;fct&gt;</th></tr>\n",
       "</thead>\n",
       "<tbody>\n",
       "\t<tr><td> 9.3</td><td>1</td><td>1</td></tr>\n",
       "\t<tr><td> 9.4</td><td>1</td><td>2</td></tr>\n",
       "\t<tr><td> 9.6</td><td>1</td><td>3</td></tr>\n",
       "\t<tr><td>10.0</td><td>1</td><td>4</td></tr>\n",
       "\t<tr><td> 9.4</td><td>2</td><td>1</td></tr>\n",
       "\t<tr><td> 9.3</td><td>2</td><td>2</td></tr>\n",
       "\t<tr><td> 9.8</td><td>2</td><td>3</td></tr>\n",
       "\t<tr><td> 9.9</td><td>2</td><td>4</td></tr>\n",
       "\t<tr><td> 9.2</td><td>3</td><td>1</td></tr>\n",
       "\t<tr><td> 9.4</td><td>3</td><td>2</td></tr>\n",
       "\t<tr><td> 9.5</td><td>3</td><td>3</td></tr>\n",
       "\t<tr><td> 9.7</td><td>3</td><td>4</td></tr>\n",
       "\t<tr><td> 9.7</td><td>4</td><td>1</td></tr>\n",
       "\t<tr><td> 9.6</td><td>4</td><td>2</td></tr>\n",
       "\t<tr><td>10.0</td><td>4</td><td>3</td></tr>\n",
       "\t<tr><td>10.2</td><td>4</td><td>4</td></tr>\n",
       "</tbody>\n",
       "</table>\n"
      ],
      "text/latex": [
       "A data.frame: 16 × 3\n",
       "\\begin{tabular}{lll}\n",
       " y & tip & coupon\\\\\n",
       " <dbl> & <fct> & <fct>\\\\\n",
       "\\hline\n",
       "\t  9.3 & 1 & 1\\\\\n",
       "\t  9.4 & 1 & 2\\\\\n",
       "\t  9.6 & 1 & 3\\\\\n",
       "\t 10.0 & 1 & 4\\\\\n",
       "\t  9.4 & 2 & 1\\\\\n",
       "\t  9.3 & 2 & 2\\\\\n",
       "\t  9.8 & 2 & 3\\\\\n",
       "\t  9.9 & 2 & 4\\\\\n",
       "\t  9.2 & 3 & 1\\\\\n",
       "\t  9.4 & 3 & 2\\\\\n",
       "\t  9.5 & 3 & 3\\\\\n",
       "\t  9.7 & 3 & 4\\\\\n",
       "\t  9.7 & 4 & 1\\\\\n",
       "\t  9.6 & 4 & 2\\\\\n",
       "\t 10.0 & 4 & 3\\\\\n",
       "\t 10.2 & 4 & 4\\\\\n",
       "\\end{tabular}\n"
      ],
      "text/markdown": [
       "\n",
       "A data.frame: 16 × 3\n",
       "\n",
       "| y &lt;dbl&gt; | tip &lt;fct&gt; | coupon &lt;fct&gt; |\n",
       "|---|---|---|\n",
       "|  9.3 | 1 | 1 |\n",
       "|  9.4 | 1 | 2 |\n",
       "|  9.6 | 1 | 3 |\n",
       "| 10.0 | 1 | 4 |\n",
       "|  9.4 | 2 | 1 |\n",
       "|  9.3 | 2 | 2 |\n",
       "|  9.8 | 2 | 3 |\n",
       "|  9.9 | 2 | 4 |\n",
       "|  9.2 | 3 | 1 |\n",
       "|  9.4 | 3 | 2 |\n",
       "|  9.5 | 3 | 3 |\n",
       "|  9.7 | 3 | 4 |\n",
       "|  9.7 | 4 | 1 |\n",
       "|  9.6 | 4 | 2 |\n",
       "| 10.0 | 4 | 3 |\n",
       "| 10.2 | 4 | 4 |\n",
       "\n"
      ],
      "text/plain": [
       "   y    tip coupon\n",
       "1   9.3 1   1     \n",
       "2   9.4 1   2     \n",
       "3   9.6 1   3     \n",
       "4  10.0 1   4     \n",
       "5   9.4 2   1     \n",
       "6   9.3 2   2     \n",
       "7   9.8 2   3     \n",
       "8   9.9 2   4     \n",
       "9   9.2 3   1     \n",
       "10  9.4 3   2     \n",
       "11  9.5 3   3     \n",
       "12  9.7 3   4     \n",
       "13  9.7 4   1     \n",
       "14  9.6 4   2     \n",
       "15 10.0 4   3     \n",
       "16 10.2 4   4     "
      ]
     },
     "metadata": {},
     "output_type": "display_data"
    }
   ],
   "source": [
    "tip    <- factor(rep(1:4, each = 4))\n",
    "coupon <- factor(rep(1:4, times = 4))\n",
    "y <- c(9.3, 9.4, 9.6, 10,\n",
    "       9.4, 9.3, 9.8, 9.9,\n",
    "       9.2, 9.4, 9.5, 9.7,\n",
    "       9.7, 9.6, 10, 10.2)\n",
    "hardness <- data.frame(y, tip, coupon)\n",
    "hardness"
   ]
  },
  {
   "cell_type": "markdown",
   "metadata": {},
   "source": [
    "### 1. (a) Visualize the Groups\n",
    "\n",
    "Before we start throwing math at anything, let's visualize our data to get an idea of what to expect from the eventual results.\n",
    "\n",
    "Construct interaction plots for `tip` and `coupon` using ggplot(). Be sure to explain what you can from the plots."
   ]
  },
  {
   "cell_type": "code",
   "execution_count": 8,
   "metadata": {},
   "outputs": [
    {
     "data": {
      "image/png": "[encoded data removed]",
      "text/plain": [
       "plot without title"
      ]
     },
     "metadata": {
      "image/png": {
       "height": 420,
       "width": 420
      },
      "text/plain": {
       "height": 420,
       "width": 420
      }
     },
     "output_type": "display_data"
    },
    {
     "data": {
      "image/png": "[encoded data removed]",
      "text/plain": [
       "plot without title"
      ]
     },
     "metadata": {
      "image/png": {
       "height": 420,
       "width": 420
      },
      "text/plain": {
       "height": 420,
       "width": 420
      }
     },
     "output_type": "display_data"
    }
   ],
   "source": [
    "library(ggplot2)\n",
    "# Your Code Here\n",
    "ggplot(hardness, aes(x = coupon, y = y,group = tip, linetype =\n",
    "tip)) +\n",
    "  geom_line() +\n",
    "  geom_point() +\n",
    "  labs(x = \"Coupon\", y = \"Hardness\", color = \"Tip\") +\n",
    "  ggtitle(\"Tip and Coupon\")\n",
    "\n",
    "ggplot(hardness, aes(x = tip, y = y, group = coupon, linetype =\n",
    "coupon)) +\n",
    "  geom_line() +\n",
    "  geom_point() +\n",
    "  labs(x = \"tip\", y = \"Hardness\", color = \"Tip\") +\n",
    "  ggtitle(\"Tip and Coupon\")"
   ]
  },
  {
   "cell_type": "markdown",
   "metadata": {},
   "source": [
    "the plots do not show a clear evidence of interaction"
   ]
  },
  {
   "cell_type": "markdown",
   "metadata": {},
   "source": [
    "### 1. (b) Interactions\n",
    "\n",
    "Should we test for interactions between `tip` and `coupon`? Maybe there is an interaction between the different metals that goes beyond our current scientific understanding!\n",
    "\n",
    "Fit a linear model to the data with predictors `tip` and `coupon`, and an interaction between the two. Display the summary and explain why (or why not) an interaction term makes sense for this data."
   ]
  },
  {
   "cell_type": "code",
   "execution_count": 9,
   "metadata": {},
   "outputs": [
    {
     "data": {
      "text/plain": [
       "\n",
       "Call:\n",
       "lm(formula = y ~ coupon + tip + tip:coupon, data = hardness)\n",
       "\n",
       "Residuals:\n",
       "ALL 16 residuals are 0: no residual degrees of freedom!\n",
       "\n",
       "Coefficients:\n",
       "               Estimate Std. Error t value Pr(>|t|)\n",
       "(Intercept)   9.300e+00         NA      NA       NA\n",
       "coupon2       1.000e-01         NA      NA       NA\n",
       "coupon3       3.000e-01         NA      NA       NA\n",
       "coupon4       7.000e-01         NA      NA       NA\n",
       "tip2          1.000e-01         NA      NA       NA\n",
       "tip3         -1.000e-01         NA      NA       NA\n",
       "tip4          4.000e-01         NA      NA       NA\n",
       "coupon2:tip2 -2.000e-01         NA      NA       NA\n",
       "coupon3:tip2  1.000e-01         NA      NA       NA\n",
       "coupon4:tip2 -2.000e-01         NA      NA       NA\n",
       "coupon2:tip3  1.000e-01         NA      NA       NA\n",
       "coupon3:tip3 -3.689e-15         NA      NA       NA\n",
       "coupon4:tip3 -2.000e-01         NA      NA       NA\n",
       "coupon2:tip4 -2.000e-01         NA      NA       NA\n",
       "coupon3:tip4 -3.784e-15         NA      NA       NA\n",
       "coupon4:tip4 -2.000e-01         NA      NA       NA\n",
       "\n",
       "Residual standard error: NaN on 0 degrees of freedom\n",
       "Multiple R-squared:      1,\tAdjusted R-squared:    NaN \n",
       "F-statistic:   NaN on 15 and 0 DF,  p-value: NA\n"
      ]
     },
     "metadata": {},
     "output_type": "display_data"
    }
   ],
   "source": [
    "lmod_int = lm(y ~ coupon + tip + tip:coupon, data = hardness)\n",
    "summary(lmod_int)"
   ]
  },
  {
   "cell_type": "markdown",
   "metadata": {},
   "source": [
    "it does not make sense  to include an interaction term"
   ]
  },
  {
   "cell_type": "markdown",
   "metadata": {},
   "source": [
    "### 1. (c) Contrasts\n",
    "\n",
    "Let's take a look at the use of contrasts. Recall that a contrast takes the form \n",
    "\n",
    "$$\\sum_{i=1}^t c_i\\mu_i = 0,$$\n",
    "\n",
    "where $\\mathbf{c} = (c_1,...,c_t)$ is a constant vector and $\\mathbf{\\mu} = (\\mu_1,...,\\mu_t)$ is a parameter vector (e.g., $\\mu_1$ is the mean of the $i^{th}$ group). \n",
    "\n",
    "We can note that $\\mathbf{c} = (1,-1,0,0)$ corresponds to the null hypothesis $H_0: \\mu_2 - \\mu_1 = 0$, where $\\mu_1$ is the mean associated with tip1 and $\\mu_2$ is the mean associated with tip2. The code below tests this hypothesis. \n",
    "\n",
    "Repeat this test for the hypothesis $H_0: \\mu_4 - \\mu_3 = 0$. Interpret the results. What are your conclusions?"
   ]
  },
  {
   "cell_type": "code",
   "execution_count": 10,
   "metadata": {},
   "outputs": [
    {
     "name": "stderr",
     "output_type": "stream",
     "text": [
      "Loading required package: mvtnorm\n",
      "\n",
      "Loading required package: survival\n",
      "\n",
      "Loading required package: TH.data\n",
      "\n",
      "Loading required package: MASS\n",
      "\n",
      "\n",
      "Attaching package: ‘TH.data’\n",
      "\n",
      "\n",
      "The following object is masked from ‘package:MASS’:\n",
      "\n",
      "    geyser\n",
      "\n",
      "\n"
     ]
    },
    {
     "data": {
      "text/html": [
       "0.0250000000000021"
      ],
      "text/latex": [
       "0.0250000000000021"
      ],
      "text/markdown": [
       "0.0250000000000021"
      ],
      "text/plain": [
       "[1] 0.025"
      ]
     },
     "metadata": {},
     "output_type": "display_data"
    },
    {
     "data": {
      "text/plain": [
       "\n",
       "\t Simultaneous Tests for General Linear Hypotheses\n",
       "\n",
       "Multiple Comparisons of Means: User-defined Contrasts\n",
       "\n",
       "\n",
       "Fit: lm(formula = y ~ tip + coupon, data = hardness)\n",
       "\n",
       "Linear Hypotheses:\n",
       "       Estimate Std. Error t value Pr(>|t|)    \n",
       "1 == 0  0.42500    0.06667   6.375 0.000129 ***\n",
       "---\n",
       "Signif. codes:  0 ‘***’ 0.001 ‘**’ 0.01 ‘*’ 0.05 ‘.’ 0.1 ‘ ’ 1\n",
       "(Adjusted p values reported -- single-step method)\n"
      ]
     },
     "metadata": {},
     "output_type": "display_data"
    },
    {
     "data": {
      "text/html": [
       "0.425000000000001"
      ],
      "text/latex": [
       "0.425000000000001"
      ],
      "text/markdown": [
       "0.425000000000001"
      ],
      "text/plain": [
       "[1] 0.425"
      ]
     },
     "metadata": {},
     "output_type": "display_data"
    }
   ],
   "source": [
    "library(multcomp)\n",
    "lmod = lm(y~tip+coupon, data=hardness)\n",
    "fit.gh2 = glht(lmod, linfct = mcp(tip = c(1,-1,0,0)))\n",
    "\n",
    "#estimate of mu_2 - mu_1\n",
    "with(hardness, sum(y[tip == 2])/length(y[tip == 2]) - \n",
    "     sum(y[tip == 1])/length(y[tip == 1])) \n",
    "     \n",
    "fit.gh2 = glht(lmod, linfct = mcp(tip = c(0,0,-1,1)))\n",
    "summary(fit.gh2)\n",
    "#estimate of mu_4 - mu_3\n",
    "with(hardness, sum(y[tip == 4])/length(y[tip == 4]) -\n",
    "     sum(y[tip == 3])/length(y[tip == 3]))"
   ]
  },
  {
   "cell_type": "markdown",
   "metadata": {},
   "source": [
    "since estimate = .425 and t test is significant, so there is a difference between 4 and 3"
   ]
  },
  {
   "cell_type": "markdown",
   "metadata": {},
   "source": [
    "### 1. (d) All Pairwise Comparisons\n",
    "\n",
    "What if we want to test all possible pairwise comparisons between treatments. This can be done by setting the treatment factor (`tip`) to \"Tukey\". Notice that the p-values are adjusted (because we are conducting multiple hypotheses!).\n",
    "\n",
    "Perform all possible Tukey Pairwise tests. What are your conclusions?"
   ]
  },
  {
   "cell_type": "code",
   "execution_count": 11,
   "metadata": {},
   "outputs": [
    {
     "data": {
      "text/plain": [
       "\n",
       "\t Simultaneous Tests for General Linear Hypotheses\n",
       "\n",
       "Multiple Comparisons of Means: User-defined Contrasts\n",
       "\n",
       "\n",
       "Fit: lm(formula = y ~ tip + coupon, data = hardness)\n",
       "\n",
       "Linear Hypotheses:\n",
       "       Estimate Std. Error t value Pr(>|t|)  \n",
       "1 == 0 -0.15000    0.06667   -2.25    0.051 .\n",
       "---\n",
       "Signif. codes:  0 ‘***’ 0.001 ‘**’ 0.01 ‘*’ 0.05 ‘.’ 0.1 ‘ ’ 1\n",
       "(Adjusted p values reported -- single-step method)\n"
      ]
     },
     "metadata": {},
     "output_type": "display_data"
    },
    {
     "data": {
      "text/plain": [
       "\n",
       "\t Simultaneous Tests for General Linear Hypotheses\n",
       "\n",
       "Multiple Comparisons of Means: Tukey Contrasts\n",
       "\n",
       "\n",
       "Fit: lm(formula = y ~ tip + coupon, data = hardness)\n",
       "\n",
       "Linear Hypotheses:\n",
       "           Estimate Std. Error t value Pr(>|t|)    \n",
       "2 - 1 == 0  0.02500    0.06667   0.375  0.98090    \n",
       "3 - 1 == 0 -0.12500    0.06667  -1.875  0.30292    \n",
       "4 - 1 == 0  0.30000    0.06667   4.500  0.00648 ** \n",
       "3 - 2 == 0 -0.15000    0.06667  -2.250  0.18165    \n",
       "4 - 2 == 0  0.27500    0.06667   4.125  0.01116 *  \n",
       "4 - 3 == 0  0.42500    0.06667   6.375  < 0.001 ***\n",
       "---\n",
       "Signif. codes:  0 ‘***’ 0.001 ‘**’ 0.01 ‘*’ 0.05 ‘.’ 0.1 ‘ ’ 1\n",
       "(Adjusted p values reported -- single-step method)\n"
      ]
     },
     "metadata": {},
     "output_type": "display_data"
    }
   ],
   "source": [
    "fit.gh = glht(lmod, linfct = mcp(tip = c(0,-1,1,0)))\n",
    "summary(fit.gh)\n",
    "\n",
    "\n",
    "fit.gh = glht(lmod, linfct = mcp(tip = \"Tukey\"))\n",
    "summary(fit.gh)"
   ]
  },
  {
   "cell_type": "markdown",
   "metadata": {},
   "source": [
    "there is evidence that there is difference between 4&1, 4&2, and 4&3"
   ]
  },
  {
   "cell_type": "markdown",
   "metadata": {},
   "source": [
    "# Problem 2: Ethics in my Math Class!\n",
    "\n",
    "In your own words, answer the following questions:\n",
    "\n",
    "* What is power, in the statistical context?\n",
    "* Why is power important?\n",
    "* What are potential consequences of ignoring/not including power calculations in statistical analyses?"
   ]
  },
  {
   "cell_type": "markdown",
   "metadata": {},
   "source": [
    "1. how likely a test is to find a real effect. It tells us if our test can spot something meaningful when it's actually there.\n",
    "2. shows if our test is good at finding real effects. If power is high, the test is good at catching important things and avoiding mistakes where it misses them.\n",
    "3. we might miss real effects in our data, or we might think we found something important when we didn't."
   ]
  },
  {
   "cell_type": "markdown",
   "metadata": {},
   "source": [
    "# Problem 3: Post-Hoc Tests\n",
    "\n",
    "There's so many different post-hoc tests! Let's try to understand them better. Answer the following questsions in the markdown cell:\n",
    "\n",
    "* Why are there multiple post-hoc tests?\n",
    "* When would we choose to use Tukey's Method over the Bonferroni correction, and vice versa?\n",
    "* Do some outside research on other post-hoc tests. Explain what the method is and when it would be used."
   ]
  },
  {
   "cell_type": "markdown",
   "metadata": {},
   "source": [
    "1. Different post-hoc tests exist because they tackle different problems in data analysis. \n",
    "\n",
    "2. Tukey's Method is good when you want to compare pairs of groups. It helps prevent making too many Type I errors. Tukey's Method works well there are lots of comparisons, but it works best if the groups have similar variances and sizes.\n",
    "\n",
    "3. Scheffé's method adjusts significance levels in linear regression to handle multiple comparisons. Unlike Tukey's method, Scheffé's method covers all possible contrasts among factor level means. "
   ]
  }
 ],
 "metadata": {
  "kernelspec": {
   "display_name": "R",
   "language": "R",
   "name": "ir"
  }
 },
 "nbformat": 4,
 "nbformat_minor": 4
}
