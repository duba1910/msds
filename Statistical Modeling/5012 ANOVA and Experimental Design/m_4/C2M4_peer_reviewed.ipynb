{
 "cells": [
  {
   "cell_type": "markdown",
   "metadata": {},
   "source": [
    "# C2M4: Peer Reviewed Assignment"
   ]
  },
  {
   "cell_type": "markdown",
   "metadata": {},
   "source": [
    "### Outline:\n",
    "The objectives for this assignment:\n",
    "\n",
    "1. Get a better understanding of Experimental design patterns.\n",
    "2. Prove some of the background intuition in blocking and interblock interactions.\n",
    "3. Understand how and when to apply different model strucutres for different experimental designs.\n",
    "\n",
    "General tips:\n",
    "\n",
    "1. Read the questions carefully to understand what is being asked.\n",
    "2. This work will be reviewed by another human, so make sure that you are clear and concise in what your explanations and answers."
   ]
  },
  {
   "cell_type": "markdown",
   "metadata": {},
   "source": [
    "# Problem 1: Experimental Design\n",
    "\n",
    "This problem is to get you thinking about how experiments are designed and how data is collected, because those influence what models we end up using."
   ]
  },
  {
   "cell_type": "markdown",
   "metadata": {},
   "source": [
    "### 1. (a)\n",
    "\n",
    "In your own words, define experimental design. Describe some negative effects of making an incorrect experimental design decision."
   ]
  },
  {
   "cell_type": "markdown",
   "metadata": {},
   "source": [
    " - experimental design: approach that is carefully scturctured to maintain control over the treatment\n",
    " - negative effects of an incorrect experimental design decision: if we imprperly structure our experiment, we can get inaccurate or misleading results\n"
   ]
  },
  {
   "cell_type": "markdown",
   "metadata": {},
   "source": [
    "### 1. (b)\n",
    "\n",
    "In your own words, describe the difference between an experimental unit and a treatment unit. Why does this distinction matter?"
   ]
  },
  {
   "cell_type": "markdown",
   "metadata": {},
   "source": [
    " - experimental unit: entity which is being applied the treatment\n",
    " - treatment unit: entity which response is measured\n",
    " - why it matters: in some situations, experimental units are the same as the treatment units, and some situations they are different. If they are different (the social media advertising campain example from class) we would imprperly believe thereare many replications"
   ]
  },
  {
   "cell_type": "markdown",
   "metadata": {},
   "source": [
    "# Problem 2: Proving the Intuition\n",
    "\n",
    "Show that, for the randomized complete block design: $$SS_{total} = SS_{treat} + SS_{block} + SS_{R}$$"
   ]
  },
  {
   "cell_type": "markdown",
   "metadata": {},
   "source": [
    "the total sum of squares measures the total variation of the response. it can be broken out into 3 parts:\n",
    "\n",
    "1. Treatment Sum of Squares (SStreat): the variation due to the differences between treatment (treatment effect).\n",
    "\n",
    "2. Block Sum of Squares (SSblock): the variation due to differences between blocks (differences among experimental units)\n",
    "\n",
    "3. Residual Sum of Squares (SSresid): unexplained variation after accounting for treatment and block effects."
   ]
  },
  {
   "cell_type": "markdown",
   "metadata": {},
   "source": [
    "$$\\text{SStotal} = \\sum_{i=1}^{t} \\sum_{j=1}^{b} (Y_{ij} - \\bar{Y}_{..})^2$$\n",
    "$$\\text{SStreat} = b \\sum_{i=1}^{t} (\\bar{Y}_{i.} - \\bar{Y}_{..})^2$$\n",
    "$$\\text{SSblock} = t \\sum_{j=1}^{b} (\\bar{Y}_{.j} - \\bar{Y}_{..})^2$$\n",
    "$$\\text{SSresid} = \\sum_{i=1}^{t} \\sum_{j=1}^{b} (Y_{ij} - \\bar{Y}_{i.} - \\bar{Y}_{.j} + \\bar{Y}_{..})^2$$\n",
    "Using the identity:\n",
    "$$Y_{ij} - \\bar{Y}_{..} = (Y_{ij} - \\bar{Y}_{i.} - \\bar{Y}_{.j} + \\bar{Y}_{..}) + (\\bar{Y}_{i.} - \\bar{Y}_{..}) + (\\bar{Y}_{.j} - \\bar{Y}_{..})$$\n",
    "$$\\text{SStotal} = \\sum_{i=1}^{t} \\sum_{j=1}^{b} \\left[ (Y_{ij} - \\bar{Y}_{i.} - \\bar{Y}_{.j} + \\bar{Y}_{..}) + (\\bar{Y}_{i.} - \\bar{Y}_{..}) + (\\bar{Y}_{.j} - \\bar{Y}_{..}) \\right]^2$$\n",
    "\n",
    "\n",
    "$$\\text{SStotal} = \\sum_{i=1}^{t} \\sum_{j=1}^{b} (Y_{ij} - \\bar{Y}_{i.} - \\bar{Y}_{.j} + \\bar{Y}_{..})^2 + \\sum_{i=1}^{t} \\sum_{j=1}^{b} (\\bar{Y}_{i.} - \\bar{Y}_{..})^2 + \\sum_{i=1}^{t} \\sum_{j=1}^{b} (\\bar{Y}_{.j} - \\bar{Y}_{..})^2$$\n",
    "\n",
    "Therefore:\n",
    "$$SS_{total} = SS_{treat} + SS_{block} + SS_{R}$$\n",
    "\n"
   ]
  },
  {
   "cell_type": "markdown",
   "metadata": {},
   "source": [
    "# Problem 3: Interblock Interactions\n",
    "\n",
    "Describe why, in a randomized complete block design (RCBD), it is not possible to test whether interactions exist between the treatment and blocks."
   ]
  },
  {
   "cell_type": "markdown",
   "metadata": {},
   "source": [
    "Because blocks in the RCBD are not systematically manipulated to study interactions with treatments, it is not possible to directly test for interactions between treatments and blocks within this design. To assess interactions, a factorial design would be necessary."
   ]
  },
  {
   "cell_type": "markdown",
   "metadata": {},
   "source": [
    "# Problem 4: 99 Designs for 99 Problems\n",
    "\n",
    "For each of the following design patterns, give an example (that wasn't given in the videos) for an experiment that would best lend itself to the specified design pattern. Make sure to explain why the specified design is more applicable for your experiment than the other design patterns.\n",
    "\n",
    "1. Complete Randomized Design (CRD)\n",
    "2. Complete Randomized Block Design (CRBD)\n",
    "3. Factorial Design"
   ]
  },
  {
   "cell_type": "markdown",
   "metadata": {},
   "source": [
    "1. Complete Randomized Design (CRD): In a study comparing the effectiveness of different teaching methods across classrooms. It is is ideal because it randomly assigns each method to classrooms, ensuring unbiased comparisons.\n",
    "\n",
    "2. Complete Randomized Block Design (CRBD): For research investigating the impact of various fertilizer types on plant growth in different soil conditions. it is ideas because assigns each fertilizer treatment randomly within distinct soil types, reducing variability and allowing for more accurate treatment comparisons.\n",
    "\n",
    "3. Factorial Design: In an experiment examining the combined effects of temperature and humidity on crop yield in agricultural research. It is ideas beacause systematically varies both factors to understand their individual and interactive impacts on the outcome."
   ]
  }
 ],
 "metadata": {
  "kernelspec": {
   "display_name": "R",
   "language": "R",
   "name": "ir"
  }
 },
 "nbformat": 4,
 "nbformat_minor": 4
}
