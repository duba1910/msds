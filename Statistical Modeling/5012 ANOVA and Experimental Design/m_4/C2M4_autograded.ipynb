{
 "cells": [
  {
   "cell_type": "markdown",
   "metadata": {
    "deletable": false,
    "editable": false,
    "nbgrader": {
     "cell_type": "markdown",
     "checksum": "5b49911371c515f77a252a945c99d59a",
     "grade": false,
     "grade_id": "cell-2a8b6e96f4404a65",
     "locked": true,
     "schema_version": 3,
     "solution": false,
     "task": false
    }
   },
   "source": [
    "# Module 4 - Autograded"
   ]
  },
  {
   "cell_type": "markdown",
   "metadata": {
    "ExecuteTime": {
     "end_time": "2020-12-12T17:56:56.835854Z",
     "start_time": "2020-12-12T17:56:56.779Z"
    },
    "deletable": false,
    "editable": false,
    "nbgrader": {
     "cell_type": "markdown",
     "checksum": "c9ec15aa7fa66cb38586e5d8fef3dbb3",
     "grade": false,
     "grade_id": "cell-56f78762732e7489",
     "locked": true,
     "schema_version": 3,
     "solution": false,
     "task": false
    }
   },
   "source": [
    "### Outline:\n",
    "**Here are the objectives of this assignment:**\n",
    "\n",
    "1.\n",
    "\n",
    "**Here are some general tips:**\n",
    "\n",
    "1. Read the questions carefully to understand what is being asked.\n",
    "2. When you feel that your work is completed, feel free to hit the ```Validate``` button to see your results on the *visible* unit tests. If you have questions about unit testing, please refer to the \"Module 0: Introduction\" notebook provided as an optional resource for this course. In this assignment, there are hidden unit tests that check your code. **Do not misinterpret the feedback from visible unit tests as all possible tests for a given question--write your code carefully!**\n",
    "3. Before submitting, we recommend restarting the kernel and running all the cells in order that they appear to make sure that there are no additional bugs in your code."
   ]
  },
  {
   "cell_type": "code",
   "execution_count": null,
   "metadata": {
    "deletable": false,
    "editable": false,
    "nbgrader": {
     "cell_type": "code",
     "checksum": "565314ed4f0fec4e0d506738392ffd82",
     "grade": false,
     "grade_id": "cell-c1a8ac513599a910",
     "locked": true,
     "schema_version": 3,
     "solution": false,
     "task": false
    }
   },
   "outputs": [],
   "source": [
    "# Load Required Libraries\n",
    "library(testthat)"
   ]
  },
  {
   "cell_type": "markdown",
   "metadata": {
    "deletable": false,
    "editable": false,
    "nbgrader": {
     "cell_type": "markdown",
     "checksum": "36f622c7a779d9d928f99f947f4e9fb0",
     "grade": false,
     "grade_id": "cell-1de351c6a8efb93d",
     "locked": true,
     "schema_version": 3,
     "solution": false,
     "task": false
    }
   },
   "source": [
    "# Problem 1\n",
    "\n",
    "This question is to get you thinking about different parts of each experiment. You will answer multiple choice questions about \n",
    "a hypothetical situation. For each question #, fill in the corresponding `prob.1.#` with the correct corresponding answer number. Consider a the following experiment:\n",
    "\n",
    "You want to evaluate the effects of water from different streams on fish lesions. You set up 2 sets of 3 aquaria (6 total), each with 50 fish. One set of 3 aquaria will have Red Fish, and the other set of 3 aquaria will have Blue fish. Other than the type of fish, the sets are identical. You randomly assign a water treatment (Stream A vs. Stream B vs. control) to each of the aquaria in each set. After 1 month, you catch 10 fish from each aquarium and count the number of lesions. "
   ]
  },
  {
   "cell_type": "markdown",
   "metadata": {
    "deletable": false,
    "editable": false,
    "nbgrader": {
     "cell_type": "markdown",
     "checksum": "c8b2e09d68ef5128a87eae8d78c0e4b9",
     "grade": false,
     "grade_id": "cell-03e0b482c2bcc3a8",
     "locked": true,
     "schema_version": 3,
     "solution": false,
     "task": false
    }
   },
   "source": [
    "### 1. (a) Experimental Unit\n",
    "\n",
    "In the above experiment, what is the experimental unit? \n",
    "\n",
    "1. A fish\n",
    "2. An aquarium\n",
    "3. The water used\n",
    "4. 10 fish\n",
    "5. None of the above"
   ]
  },
  {
   "cell_type": "code",
   "execution_count": null,
   "metadata": {
    "deletable": false,
    "nbgrader": {
     "cell_type": "code",
     "checksum": "af9809e7ead9ddac266919cb38f802ef",
     "grade": false,
     "grade_id": "cell-f15103191109770f",
     "locked": false,
     "schema_version": 3,
     "solution": true,
     "task": false
    }
   },
   "outputs": [],
   "source": [
    "prob.1.a = 2\n",
    "\n",
    "# your code here\n"
   ]
  },
  {
   "cell_type": "code",
   "execution_count": null,
   "metadata": {
    "deletable": false,
    "editable": false,
    "nbgrader": {
     "cell_type": "code",
     "checksum": "c7966305f9d2f65e4d074dd1e22e4d24",
     "grade": true,
     "grade_id": "cell-dd4a3a9f25bd891c",
     "locked": true,
     "points": 6,
     "schema_version": 3,
     "solution": false,
     "task": false
    }
   },
   "outputs": [],
   "source": [
    "# Test Cell\n",
    "if (!expect_is(prob.1.a, \"numeric\")){\n",
    "    print(\"Make sure your answers are numeric.\")\n",
    "}\n",
    "# This cell has hidden test cases that will run after submission."
   ]
  },
  {
   "cell_type": "markdown",
   "metadata": {
    "deletable": false,
    "editable": false,
    "nbgrader": {
     "cell_type": "markdown",
     "checksum": "bf606f9ab7a8d811289a39a821616b11",
     "grade": false,
     "grade_id": "cell-389a6004dd17fdd6",
     "locked": true,
     "schema_version": 3,
     "solution": false,
     "task": false
    }
   },
   "source": [
    "### 1. (b) Sample Unit\n",
    "\n",
    "What is the sample unit in the experiment?\n",
    "\n",
    "1. A fish\n",
    "2. An aquarium\n",
    "3. The water used\n",
    "4. 10 fish\n",
    "5. None of the above"
   ]
  },
  {
   "cell_type": "code",
   "execution_count": null,
   "metadata": {
    "deletable": false,
    "nbgrader": {
     "cell_type": "code",
     "checksum": "ddce6467eb7d0638cbc68e45ae58deaa",
     "grade": false,
     "grade_id": "cell-40921a3709de7e83",
     "locked": false,
     "schema_version": 3,
     "solution": true,
     "task": false
    }
   },
   "outputs": [],
   "source": [
    "prob.1.b = 1\n",
    "\n",
    "# your code here\n"
   ]
  },
  {
   "cell_type": "code",
   "execution_count": null,
   "metadata": {
    "deletable": false,
    "editable": false,
    "nbgrader": {
     "cell_type": "code",
     "checksum": "58082fc287385e92db140a230d3ac466",
     "grade": true,
     "grade_id": "cell-d99808b1bd5351fa",
     "locked": true,
     "points": 6,
     "schema_version": 3,
     "solution": false,
     "task": false
    }
   },
   "outputs": [],
   "source": [
    "# Test Cell\n",
    "# This cell has hidden test cases that will run after submission."
   ]
  },
  {
   "cell_type": "markdown",
   "metadata": {
    "deletable": false,
    "editable": false,
    "nbgrader": {
     "cell_type": "markdown",
     "checksum": "90ece95f502743a7daeff5344413c216",
     "grade": false,
     "grade_id": "cell-195a6c870848c7e7",
     "locked": true,
     "schema_version": 3,
     "solution": false,
     "task": false
    }
   },
   "source": [
    "### 1. (c) Replication\n",
    "\n",
    "How many times was this experiment replicated?\n",
    "\n",
    "1. 1 time\n",
    "2. 2 times\n",
    "3. 3 times\n",
    "4. 0 times.\n",
    "5. None of the above."
   ]
  },
  {
   "cell_type": "code",
   "execution_count": null,
   "metadata": {
    "deletable": false,
    "nbgrader": {
     "cell_type": "code",
     "checksum": "ddf67c4ad4f8d9f28561fc1ee8126d5d",
     "grade": false,
     "grade_id": "cell-63c02f42f52fcc26",
     "locked": false,
     "schema_version": 3,
     "solution": true,
     "task": false
    }
   },
   "outputs": [],
   "source": [
    "prob.1.c = 4\n",
    "\n",
    "# your code here\n"
   ]
  },
  {
   "cell_type": "code",
   "execution_count": null,
   "metadata": {
    "deletable": false,
    "editable": false,
    "nbgrader": {
     "cell_type": "code",
     "checksum": "c6a6f4cfce04056d9d3174a3364fd924",
     "grade": true,
     "grade_id": "cell-09dc10d0fa5504c1",
     "locked": true,
     "points": 6,
     "schema_version": 3,
     "solution": false,
     "task": false
    }
   },
   "outputs": [],
   "source": [
    "# Test Cell\n",
    "# This cell has hidden test cases that will run after submission."
   ]
  },
  {
   "cell_type": "markdown",
   "metadata": {
    "deletable": false,
    "editable": false,
    "nbgrader": {
     "cell_type": "markdown",
     "checksum": "b375a415d8cba03be1f255de550597cf",
     "grade": false,
     "grade_id": "cell-266c89ebb63135b3",
     "locked": true,
     "schema_version": 3,
     "solution": false,
     "task": false
    }
   },
   "source": [
    "### 1. (d) Experimental Design\n",
    "\n",
    "What kind of experiment is this?\n",
    "\n",
    "1. Completely Randomized Design\n",
    "2. Randomized Complete Block Design\n",
    "3. Factorial Design\n",
    "4. None of the above"
   ]
  },
  {
   "cell_type": "code",
   "execution_count": null,
   "metadata": {
    "deletable": false,
    "nbgrader": {
     "cell_type": "code",
     "checksum": "086be423745a445405b46ebe81cb0e99",
     "grade": false,
     "grade_id": "cell-f204cedae85da966",
     "locked": false,
     "schema_version": 3,
     "solution": true,
     "task": false
    }
   },
   "outputs": [],
   "source": [
    "prob.1.d = 2\n",
    "\n",
    "# your code here\n"
   ]
  },
  {
   "cell_type": "code",
   "execution_count": null,
   "metadata": {
    "deletable": false,
    "editable": false,
    "nbgrader": {
     "cell_type": "code",
     "checksum": "f01e18bd388625d4dd83196ddc94795e",
     "grade": true,
     "grade_id": "cell-c560ae97df56221c",
     "locked": true,
     "points": 6,
     "schema_version": 3,
     "solution": false,
     "task": false
    }
   },
   "outputs": [],
   "source": [
    "# Test Cell\n",
    "# This cell has hidden test cases that will run after submission."
   ]
  },
  {
   "cell_type": "markdown",
   "metadata": {
    "deletable": false,
    "editable": false,
    "nbgrader": {
     "cell_type": "markdown",
     "checksum": "48c1ab5dc3c8855257fb1631c8ccb43a",
     "grade": false,
     "grade_id": "cell-81c972bb4b03673f",
     "locked": true,
     "schema_version": 3,
     "solution": false,
     "task": false
    }
   },
   "source": [
    "# Problem 2\n",
    "\n",
    "In the 1800's, some physicists proposed that all electromagnetic and graviational forces required a \"medium\" for the forces to be applied through. This medium was called \"the aether\" and filled all space. The Michelson-Morley experiment was one of the first experiments that aimed to test this theory. In the experiment, the scientists measured the speed of light shown in perpendicular directions, one in the direction of the aether and one against the aether. We can can use their data, along with our new understanding of blocking, to determine if there actually is an aether!\n",
    "\n",
    "The data from that experiment is loading in below. Information about this dataset can be found [here](https://www.rdocumentation.org/packages/datasets/versions/3.6.2/topics/morley)."
   ]
  },
  {
   "cell_type": "code",
   "execution_count": 1,
   "metadata": {
    "deletable": false,
    "editable": false,
    "nbgrader": {
     "cell_type": "code",
     "checksum": "64b31d625b16b389493c6244a966ffe4",
     "grade": false,
     "grade_id": "cell-127eb392df420f0e",
     "locked": true,
     "schema_version": 3,
     "solution": false,
     "task": false
    }
   },
   "outputs": [
    {
     "data": {
      "text/html": [
       "<table>\n",
       "<caption>A data.frame: 6 × 3</caption>\n",
       "<thead>\n",
       "\t<tr><th></th><th scope=col>Expt</th><th scope=col>Run</th><th scope=col>Speed</th></tr>\n",
       "\t<tr><th></th><th scope=col>&lt;int&gt;</th><th scope=col>&lt;int&gt;</th><th scope=col>&lt;int&gt;</th></tr>\n",
       "</thead>\n",
       "<tbody>\n",
       "\t<tr><th scope=row>001</th><td>1</td><td>1</td><td> 850</td></tr>\n",
       "\t<tr><th scope=row>002</th><td>1</td><td>2</td><td> 740</td></tr>\n",
       "\t<tr><th scope=row>003</th><td>1</td><td>3</td><td> 900</td></tr>\n",
       "\t<tr><th scope=row>004</th><td>1</td><td>4</td><td>1070</td></tr>\n",
       "\t<tr><th scope=row>005</th><td>1</td><td>5</td><td> 930</td></tr>\n",
       "\t<tr><th scope=row>006</th><td>1</td><td>6</td><td> 850</td></tr>\n",
       "</tbody>\n",
       "</table>\n"
      ],
      "text/latex": [
       "A data.frame: 6 × 3\n",
       "\\begin{tabular}{r|lll}\n",
       "  & Expt & Run & Speed\\\\\n",
       "  & <int> & <int> & <int>\\\\\n",
       "\\hline\n",
       "\t001 & 1 & 1 &  850\\\\\n",
       "\t002 & 1 & 2 &  740\\\\\n",
       "\t003 & 1 & 3 &  900\\\\\n",
       "\t004 & 1 & 4 & 1070\\\\\n",
       "\t005 & 1 & 5 &  930\\\\\n",
       "\t006 & 1 & 6 &  850\\\\\n",
       "\\end{tabular}\n"
      ],
      "text/markdown": [
       "\n",
       "A data.frame: 6 × 3\n",
       "\n",
       "| <!--/--> | Expt &lt;int&gt; | Run &lt;int&gt; | Speed &lt;int&gt; |\n",
       "|---|---|---|---|\n",
       "| 001 | 1 | 1 |  850 |\n",
       "| 002 | 1 | 2 |  740 |\n",
       "| 003 | 1 | 3 |  900 |\n",
       "| 004 | 1 | 4 | 1070 |\n",
       "| 005 | 1 | 5 |  930 |\n",
       "| 006 | 1 | 6 |  850 |\n",
       "\n"
      ],
      "text/plain": [
       "    Expt Run Speed\n",
       "001 1    1    850 \n",
       "002 1    2    740 \n",
       "003 1    3    900 \n",
       "004 1    4   1070 \n",
       "005 1    5    930 \n",
       "006 1    6    850 "
      ]
     },
     "metadata": {},
     "output_type": "display_data"
    }
   ],
   "source": [
    "# Load in and clean the data\n",
    "data(morley)\n",
    "head(morley)\n",
    "\n",
    "morley$Expt = as.factor(morley$Expt)\n",
    "morley$Run = as.factor(morley$Run)"
   ]
  },
  {
   "cell_type": "markdown",
   "metadata": {
    "deletable": false,
    "editable": false,
    "nbgrader": {
     "cell_type": "markdown",
     "checksum": "b4f22f33214e4de39af2134e1cf06edd",
     "grade": false,
     "grade_id": "cell-bb121c5833bb5c93",
     "locked": true,
     "schema_version": 3,
     "solution": false,
     "task": false
    }
   },
   "source": [
    "### 2. (a) Testing Aether Thoery\n",
    "\n",
    "The Michelson-Morley data can be viewed as a randomized block experiment with `Run` as the treatment factor and `Expt` as the blocking factor. Model this relationship and store your model as `morley.lmod`.\n",
    "\n",
    "Determine if there is a difference between the speed of light among different runs. Save your answer in `is.different`, being `TRUE` if there is a noticable difference among runs and `FALSE` if there is not."
   ]
  },
  {
   "cell_type": "code",
   "execution_count": 3,
   "metadata": {
    "ExecuteTime": {
     "end_time": "2020-04-14T15:14:23.373017Z",
     "start_time": "2020-04-14T15:14:21.935Z"
    },
    "deletable": false,
    "nbgrader": {
     "cell_type": "code",
     "checksum": "f9ad6446ad1c1125d1782c6e5f9ee8b7",
     "grade": false,
     "grade_id": "cell-f7a501edbd633e3d",
     "locked": false,
     "schema_version": 3,
     "solution": true,
     "task": false
    }
   },
   "outputs": [
    {
     "data": {
      "text/plain": [
       "\n",
       "Call:\n",
       "lm(formula = Speed ~ Run, data = morley)\n",
       "\n",
       "Residuals:\n",
       "   Min     1Q Median     3Q    Max \n",
       "-174.0  -48.5   -4.0   48.5  170.0 \n",
       "\n",
       "Coefficients:\n",
       "              Estimate Std. Error t value Pr(>|t|)    \n",
       "(Intercept)  8.940e+02  3.552e+01  25.169   <2e-16 ***\n",
       "Run2        -5.200e+01  5.023e+01  -1.035   0.3037    \n",
       "Run3        -2.800e+01  5.023e+01  -0.557   0.5788    \n",
       "Run4         6.000e+00  5.023e+01   0.119   0.9052    \n",
       "Run5        -7.600e+01  5.023e+01  -1.513   0.1342    \n",
       "Run6        -1.040e+02  5.023e+01  -2.070   0.0416 *  \n",
       "Run7        -1.000e+02  5.023e+01  -1.991   0.0499 *  \n",
       "Run8        -4.000e+01  5.023e+01  -0.796   0.4282    \n",
       "Run9        -1.000e+01  5.023e+01  -0.199   0.8427    \n",
       "Run10       -3.800e+01  5.023e+01  -0.756   0.4516    \n",
       "Run11        4.000e+00  5.023e+01   0.080   0.9367    \n",
       "Run12        2.187e-14  5.023e+01   0.000   1.0000    \n",
       "Run13       -3.600e+01  5.023e+01  -0.717   0.4757    \n",
       "Run14       -9.400e+01  5.023e+01  -1.871   0.0650 .  \n",
       "Run15       -6.000e+01  5.023e+01  -1.194   0.2358    \n",
       "Run16       -6.600e+01  5.023e+01  -1.314   0.1926    \n",
       "Run17       -6.000e+00  5.023e+01  -0.119   0.9052    \n",
       "Run18       -3.800e+01  5.023e+01  -0.756   0.4516    \n",
       "Run19       -5.000e+01  5.023e+01  -0.995   0.3226    \n",
       "Run20       -4.400e+01  5.023e+01  -0.876   0.3837    \n",
       "---\n",
       "Signif. codes:  0 ‘***’ 0.001 ‘**’ 0.01 ‘*’ 0.05 ‘.’ 0.1 ‘ ’ 1\n",
       "\n",
       "Residual standard error: 79.43 on 80 degrees of freedom\n",
       "Multiple R-squared:  0.1834,\tAdjusted R-squared:  -0.01055 \n",
       "F-statistic: 0.9456 on 19 and 80 DF,  p-value: 0.5313\n"
      ]
     },
     "metadata": {},
     "output_type": "display_data"
    },
    {
     "data": {
      "text/html": [
       "<strong>Run2:</strong> FALSE"
      ],
      "text/latex": [
       "\\textbf{Run2:} FALSE"
      ],
      "text/markdown": [
       "**Run2:** FALSE"
      ],
      "text/plain": [
       " Run2 \n",
       "FALSE "
      ]
     },
     "metadata": {},
     "output_type": "display_data"
    }
   ],
   "source": [
    "morley.lmod = lm(Speed ~ Run, data = morley)\n",
    "summary(morley.lmod)\n",
    "summary(morley.lmod)$coef[, \"Pr(>|t|)\"][2] < 0.05\n",
    "is.different = summary(morley.lmod)$coef[, \"Pr(>|t|)\"][2] < 0.05\n",
    "\n",
    "# your code here\n"
   ]
  },
  {
   "cell_type": "code",
   "execution_count": null,
   "metadata": {
    "ExecuteTime": {
     "end_time": "2020-04-14T15:14:23.374590Z",
     "start_time": "2020-04-14T15:14:21.938Z"
    },
    "deletable": false,
    "editable": false,
    "nbgrader": {
     "cell_type": "code",
     "checksum": "3e46611b1397f58ddb4a6305f8fce796",
     "grade": true,
     "grade_id": "cell-4c55324751eb7fbd",
     "locked": true,
     "points": 10,
     "schema_version": 3,
     "solution": false,
     "task": false
    }
   },
   "outputs": [],
   "source": [
    "# Test Cell\n",
    "# This cell has hidden test cases that will run after submission."
   ]
  },
  {
   "cell_type": "markdown",
   "metadata": {
    "deletable": false,
    "editable": false,
    "nbgrader": {
     "cell_type": "markdown",
     "checksum": "c2133af17908e37f0f062d5022bbe42e",
     "grade": false,
     "grade_id": "cell-060b16ea7683360c",
     "locked": true,
     "schema_version": 3,
     "solution": false,
     "task": false
    }
   },
   "source": [
    "### 2. (b) Relative Efficiency\n",
    "\n",
    "Relative efficiency is defined as:\n",
    "\n",
    "$$e = \\widehat\\sigma^2_{CRD}\\bigg/\\widehat\\sigma^2_{RCBD}$$\n",
    "\n",
    "This value tells us how many more observations we would need for a CRD to obtain the same level of precision as a RCBD. For example, if $e = 1.66$, then a CRD would require 66% more observations to obtain the same level of precision as an RCBD. \n",
    "\n",
    "Calculate the the relative efficiency for your model. Store your answer in a variable called e."
   ]
  },
  {
   "cell_type": "code",
   "execution_count": 6,
   "metadata": {
    "ExecuteTime": {
     "end_time": "2020-04-19T20:41:21.083353Z",
     "start_time": "2020-04-19T20:41:21.072Z"
    },
    "deletable": false,
    "nbgrader": {
     "cell_type": "code",
     "checksum": "37a836a7e067c3f385c74691b8d96907",
     "grade": false,
     "grade_id": "cell-5296593a1f356ecc",
     "locked": false,
     "schema_version": 3,
     "solution": true,
     "task": false
    }
   },
   "outputs": [
    {
     "data": {
      "text/html": [
       "6308.5"
      ],
      "text/latex": [
       "6308.5"
      ],
      "text/markdown": [
       "6308.5"
      ],
      "text/plain": [
       "[1] 6308.5"
      ]
     },
     "metadata": {},
     "output_type": "display_data"
    },
    {
     "data": {
      "text/html": [
       "5396.92105263157"
      ],
      "text/latex": [
       "5396.92105263157"
      ],
      "text/markdown": [
       "5396.92105263157"
      ],
      "text/plain": [
       "[1] 5396.921"
      ]
     },
     "metadata": {},
     "output_type": "display_data"
    },
    {
     "data": {
      "text/html": [
       "1.16890722292925"
      ],
      "text/latex": [
       "1.16890722292925"
      ],
      "text/markdown": [
       "1.16890722292925"
      ],
      "text/plain": [
       "[1] 1.168907"
      ]
     },
     "metadata": {},
     "output_type": "display_data"
    }
   ],
   "source": [
    "lm_morley_crd <- lm(Speed ~ Run, data = morley)\n",
    "summary(lm_morley_crd)$sigma^2\n",
    "crd_mse <- summary(lm_morley_crd)$sigma^2\n",
    "\n",
    "lm_morley_rcbd <- lm(Speed ~ Run + Expt, data = morley)\n",
    "summary(lm_morley_rcbd)$sigma^2\n",
    "rcbd_mse <- summary(lm_morley_rcbd)$sigma^2\n",
    "\n",
    "e = crd_mse/rcbd_mse\n",
    "e\n",
    "# your code here\n"
   ]
  },
  {
   "cell_type": "code",
   "execution_count": null,
   "metadata": {
    "ExecuteTime": {
     "end_time": "2020-04-14T15:14:23.378504Z",
     "start_time": "2020-04-14T15:14:21.942Z"
    },
    "deletable": false,
    "editable": false,
    "nbgrader": {
     "cell_type": "code",
     "checksum": "9eeff94c11d75947bded92cd70abd76c",
     "grade": true,
     "grade_id": "cell-49c84582e48002f3",
     "locked": true,
     "points": 10,
     "schema_version": 3,
     "solution": false,
     "task": false
    }
   },
   "outputs": [],
   "source": [
    "# Test Cell\n",
    "# This cell has hidden test cases that will run after submission."
   ]
  }
 ],
 "metadata": {
  "kernelspec": {
   "display_name": "R",
   "language": "R",
   "name": "ir"
  },
  "language_info": {
   "codemirror_mode": "r",
   "file_extension": ".r",
   "mimetype": "text/x-r-source",
   "name": "R",
   "pygments_lexer": "r",
   "version": "3.6.3"
  }
 },
 "nbformat": 4,
 "nbformat_minor": 2
}
