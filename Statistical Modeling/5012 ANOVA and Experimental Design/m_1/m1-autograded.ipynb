{
 "cells": [
  {
   "cell_type": "markdown",
   "metadata": {
    "deletable": false,
    "editable": false,
    "nbgrader": {
     "cell_type": "markdown",
     "checksum": "b852d97da6b1bceeeb3a28185421d283",
     "grade": false,
     "grade_id": "cell-605dccb395ec3804",
     "locked": true,
     "schema_version": 3,
     "solution": false,
     "task": false
    }
   },
   "source": [
    "## Module 1 - Autograded"
   ]
  },
  {
   "cell_type": "markdown",
   "metadata": {
    "deletable": false,
    "editable": false,
    "nbgrader": {
     "cell_type": "markdown",
     "checksum": "5e8f8c27602e630e12be0e7e4ed8f86d",
     "grade": false,
     "grade_id": "cell-4ac16cd79343be4b",
     "locked": true,
     "schema_version": 3,
     "solution": false,
     "task": false
    }
   },
   "source": [
    "### Outline:\n",
    "**Here are the objectives of this assignment:**\n",
    "\n",
    "1. Define and interpret the ANCOVA model with interaction terms.\n",
    "2. Conduct basic hypothesis tests (full F-test, individual t-tests) to check whether there are statistically significant differences with respect to the mean of a continuous variable across groups.\n",
    "3. Show that the one-way ANOVA (and ANCOVA) model(s) can be written as a linear regression model.\n",
    "4. Define the one-way (single-factor) ANOVA model, and write the model in two different but equivalent ways: as a means model and effects model.\n",
    "5. To apply your understanding of these models to a real-world datasets\n",
    "\n",
    "**Here are some general tips:**\n",
    "\n",
    "1. Read the questions carefully to understand what is being asked.\n",
    "2. When you feel that your work is completed, feel free to hit the ```Validate``` button to see your results on the *visible* unit tests. If you have questions about unit testing, please refer to the \"Module 0: Introduction\" notebook provided as an optional resource for this course. In this assignment, there are hidden unit tests that check your code. **Do not misinterpret the feedback from visible unit tests as all possible tests for a given question--write your code carefully!**\n",
    "3. Before submitting, we recommend restarting the kernel and running all the cells in order that they appear to make sure that there are no additional bugs in your code."
   ]
  },
  {
   "cell_type": "code",
   "execution_count": 1,
   "metadata": {
    "ExecuteTime": {
     "end_time": "2020-08-31T17:04:54.392433Z",
     "start_time": "2020-08-31T17:04:54.379Z"
    },
    "deletable": false,
    "editable": false,
    "nbgrader": {
     "cell_type": "code",
     "checksum": "2123650c97fbb7a52846f7acc8b6c7c2",
     "grade": false,
     "grade_id": "cell-4fd8d4fe404e65f7",
     "locked": true,
     "schema_version": 3,
     "solution": false,
     "task": false
    }
   },
   "outputs": [
    {
     "name": "stderr",
     "output_type": "stream",
     "text": [
      "── \u001b[1mAttaching packages\u001b[22m ─────────────────────────────────────── tidyverse 1.3.0 ──\n",
      "\n",
      "\u001b[32m✔\u001b[39m \u001b[34mggplot2\u001b[39m 3.3.0     \u001b[32m✔\u001b[39m \u001b[34mpurrr  \u001b[39m 0.3.4\n",
      "\u001b[32m✔\u001b[39m \u001b[34mtibble \u001b[39m 3.0.1     \u001b[32m✔\u001b[39m \u001b[34mdplyr  \u001b[39m 0.8.5\n",
      "\u001b[32m✔\u001b[39m \u001b[34mtidyr  \u001b[39m 1.0.2     \u001b[32m✔\u001b[39m \u001b[34mstringr\u001b[39m 1.4.0\n",
      "\u001b[32m✔\u001b[39m \u001b[34mreadr  \u001b[39m 1.3.1     \u001b[32m✔\u001b[39m \u001b[34mforcats\u001b[39m 0.5.0\n",
      "\n",
      "── \u001b[1mConflicts\u001b[22m ────────────────────────────────────────── tidyverse_conflicts() ──\n",
      "\u001b[31m✖\u001b[39m \u001b[34mdplyr\u001b[39m::\u001b[32mfilter()\u001b[39m  masks \u001b[34mstats\u001b[39m::filter()\n",
      "\u001b[31m✖\u001b[39m \u001b[34mpurrr\u001b[39m::\u001b[32mis_null()\u001b[39m masks \u001b[34mtestthat\u001b[39m::is_null()\n",
      "\u001b[31m✖\u001b[39m \u001b[34mdplyr\u001b[39m::\u001b[32mlag()\u001b[39m     masks \u001b[34mstats\u001b[39m::lag()\n",
      "\u001b[31m✖\u001b[39m \u001b[34mdplyr\u001b[39m::\u001b[32mmatches()\u001b[39m masks \u001b[34mtidyr\u001b[39m::matches(), \u001b[34mtestthat\u001b[39m::matches()\n",
      "\n"
     ]
    }
   ],
   "source": [
    "# Run this cell to import the required packages for this assignment:\n",
    "library(testthat)\n",
    "library(tidyverse)\n",
    "# remotes::install_github(\"allisonhorst/palmerpenguins\")\n",
    "# citation(\"palmerpenguins\")\n",
    "# library(palmerpenguins)"
   ]
  },
  {
   "cell_type": "markdown",
   "metadata": {
    "deletable": false,
    "editable": false,
    "nbgrader": {
     "cell_type": "markdown",
     "checksum": "c402955d3c9815ac7a6285862a94515d",
     "grade": false,
     "grade_id": "cell-359fc1bb2faf3628",
     "locked": true,
     "schema_version": 3,
     "solution": false,
     "task": false
    }
   },
   "source": [
    "### Problem #1: Introduction to ANCOVA (20 points)\n",
    "\n",
    "First, we import the ```sightsing``` dataset for you.\n",
    "\n",
    "It contains two treatment groups. The main part of this question you are asked to fill in a function, ```my_ancova_model``` that returns the linear ANCOVA model from this dataset."
   ]
  },
  {
   "cell_type": "code",
   "execution_count": 2,
   "metadata": {
    "ExecuteTime": {
     "end_time": "2020-08-31T17:04:54.419241Z",
     "start_time": "2020-08-31T17:04:54.381Z"
    },
    "deletable": false,
    "editable": false,
    "nbgrader": {
     "cell_type": "code",
     "checksum": "302acbcf442db50faa0ea950d9ddf3dc",
     "grade": false,
     "grade_id": "cell-e36fd4da345abb1a",
     "locked": true,
     "schema_version": 3,
     "solution": false,
     "task": false
    }
   },
   "outputs": [
    {
     "name": "stdout",
     "output_type": "stream",
     "text": [
      "   treat test1 test2\n",
      "1      1   0.0   8.5\n",
      "2      1   0.0   0.0\n",
      "3      1   0.0   4.3\n",
      "4      1   2.5   0.0\n",
      "5      1   0.0  25.6\n",
      "6      1  10.7   0.0\n",
      "7      1  46.9  63.9\n",
      "8      1   0.0   0.0\n",
      "9      1   6.4   4.3\n",
      "10     1  27.7  23.4\n",
      "11     1  21.3  36.2\n",
      "12     1   0.0   0.0\n",
      "13     1   0.0   4.3\n",
      "14     1   0.0  17.0\n",
      "15     1   6.4   0.0\n",
      "16     1  12.8   2.1\n",
      "17     1   0.0  25.6\n",
      "18     1   8.5   8.5\n",
      "19     1   8.5   4.3\n",
      "20     1   2.5  10.7\n",
      "21     2   0.0  25.6\n",
      "22     2   0.0  55.4\n",
      "23     2   0.0   8.5\n",
      "24     2   0.0   0.0\n",
      "25     2   8.5  42.6\n",
      "26     2   8.5  25.6\n",
      "27     2   0.0  29.3\n",
      "28     2   0.0   0.0\n",
      "29     2   2.1  14.8\n",
      "30     2   0.0   8.5\n",
      "31     2   0.0  14.9\n",
      "32     2  19.2  23.4\n",
      "33     2   8.5  34.1\n",
      "34     2   4.3  29.8\n",
      "35     2   0.0   4.3\n",
      "36     2   8.5   4.3\n",
      "37     2   8.5  25.6\n",
      "38     2  21.3  31.0\n",
      "39     2   2.5  25.6\n",
      "40     2  72.4  42.6\n"
     ]
    },
    {
     "data": {
      "text/html": [
       "<table>\n",
       "<caption>A tibble: 2 × 5</caption>\n",
       "<thead>\n",
       "\t<tr><th scope=col>treat</th><th scope=col>n_pre</th><th scope=col>mean_test1</th><th scope=col>n_post</th><th scope=col>mean_test2</th></tr>\n",
       "\t<tr><th scope=col>&lt;fct&gt;</th><th scope=col>&lt;int&gt;</th><th scope=col>&lt;dbl&gt;</th><th scope=col>&lt;int&gt;</th><th scope=col>&lt;dbl&gt;</th></tr>\n",
       "</thead>\n",
       "<tbody>\n",
       "\t<tr><td>1</td><td>20</td><td>7.710</td><td>20</td><td>11.935</td></tr>\n",
       "\t<tr><td>2</td><td>20</td><td>8.215</td><td>20</td><td>22.295</td></tr>\n",
       "</tbody>\n",
       "</table>\n"
      ],
      "text/latex": [
       "A tibble: 2 × 5\n",
       "\\begin{tabular}{lllll}\n",
       " treat & n\\_pre & mean\\_test1 & n\\_post & mean\\_test2\\\\\n",
       " <fct> & <int> & <dbl> & <int> & <dbl>\\\\\n",
       "\\hline\n",
       "\t 1 & 20 & 7.710 & 20 & 11.935\\\\\n",
       "\t 2 & 20 & 8.215 & 20 & 22.295\\\\\n",
       "\\end{tabular}\n"
      ],
      "text/markdown": [
       "\n",
       "A tibble: 2 × 5\n",
       "\n",
       "| treat &lt;fct&gt; | n_pre &lt;int&gt; | mean_test1 &lt;dbl&gt; | n_post &lt;int&gt; | mean_test2 &lt;dbl&gt; |\n",
       "|---|---|---|---|---|\n",
       "| 1 | 20 | 7.710 | 20 | 11.935 |\n",
       "| 2 | 20 | 8.215 | 20 | 22.295 |\n",
       "\n"
      ],
      "text/plain": [
       "  treat n_pre mean_test1 n_post mean_test2\n",
       "1 1     20    7.710      20     11.935    \n",
       "2 2     20    8.215      20     22.295    "
      ]
     },
     "metadata": {},
     "output_type": "display_data"
    }
   ],
   "source": [
    "### Read in the data and display means for each group.\n",
    "sing = read.table('sightsing.dat', sep = ',')\n",
    "names(sing) = c(\"treat\", \"test1\", \"test2\")\n",
    "sing = sing %>%\n",
    "    mutate(treat = as.factor(treat))\n",
    "print(head(sing,nrow(sing)))\n",
    "sing %>%\n",
    "    group_by(treat) %>%\n",
    "    summarise(n_pre = n(), mean_test1 = mean(test1), n_post = n(), mean_test2 = mean(test2)) "
   ]
  },
  {
   "cell_type": "markdown",
   "metadata": {
    "deletable": false,
    "editable": false,
    "nbgrader": {
     "cell_type": "markdown",
     "checksum": "55b9bb65cfeb2b798dc74d2aac455236",
     "grade": false,
     "grade_id": "cell-842029d010c2988e",
     "locked": true,
     "schema_version": 3,
     "solution": false,
     "task": false
    }
   },
   "source": [
    "#### 1. (a) Plot this data \n",
    "\n",
    "Plot the ```sing``` data with ```test1``` on the x-axis and ```test2``` on the y-axis, with an attribute like color for the ```treat``` variable. This ggplot object will be stored in a variable denoted ```p```. If you need a refresher on ggplot, check this link: https://ggplot2.tidyverse.org/"
   ]
  },
  {
   "cell_type": "code",
   "execution_count": null,
   "metadata": {
    "ExecuteTime": {
     "end_time": "2020-08-31T17:04:54.753531Z",
     "start_time": "2020-08-31T17:04:54.383Z"
    },
    "deletable": false,
    "nbgrader": {
     "cell_type": "code",
     "checksum": "89da0309bc3ff89ed7e0cfd6ec779474",
     "grade": false,
     "grade_id": "cell-e862e2231924a376",
     "locked": false,
     "schema_version": 3,
     "solution": true,
     "task": false
    }
   },
   "outputs": [],
   "source": [
    "options(repr.plot.width = 12, repr.plot.height = 7)\n",
    "p = ggplot(sing, aes(x = test1, y = test2, color = treat)) +\n",
    "  geom_point()\n",
    "# your code here\n",
    "\n",
    "print(p)"
   ]
  },
  {
   "cell_type": "code",
   "execution_count": null,
   "metadata": {
    "ExecuteTime": {
     "end_time": "2020-08-31T17:04:54.765744Z",
     "start_time": "2020-08-31T17:04:54.385Z"
    },
    "deletable": false,
    "editable": false,
    "nbgrader": {
     "cell_type": "code",
     "checksum": "ee83832ccdc7d37e708b6d5d2c6b05fc",
     "grade": true,
     "grade_id": "cell-94ec15ff3330de51",
     "locked": true,
     "points": 5,
     "schema_version": 3,
     "solution": false,
     "task": false
    }
   },
   "outputs": [],
   "source": [
    "# Test Cell\n",
    "# Note: There may be hidden tests for each question!\n",
    "# Make sure you are confident in your solutions."
   ]
  },
  {
   "cell_type": "markdown",
   "metadata": {
    "deletable": false,
    "editable": false,
    "nbgrader": {
     "cell_type": "markdown",
     "checksum": "51a71df7428726384854cc5a4e81a3ef",
     "grade": false,
     "grade_id": "cell-9fff95daa4b1d0fc",
     "locked": true,
     "schema_version": 3,
     "solution": false,
     "task": false
    }
   },
   "source": [
    "#### 1. (b) Fill in the following function, which takes the dataset as an argument and returns the linear model object:\n",
    "\n",
    "This model should be of the following structure:\n",
    "\n",
    "$$Y_i = \\beta_0 + \\beta_1 X + \\beta_2 Z + \\varepsilon_i$$\n",
    "\n",
    "Where:\n",
    "- $Y_i$ is ```test2```\n",
    "- $X_i$ is ```test1```\n",
    "- $Z$ is an indicator for the ```treat``` group\n",
    "- $\\varepsilon_i \\overset{iid}{\\sim} N(0,\\sigma^2)$\n",
    "\n",
    "(tip: be sure to include a ```return``` statement)\n",
    "\n",
    "(note: the order you input the variables into your lm() function will impact grading. Use the same order as the equation above)"
   ]
  },
  {
   "cell_type": "code",
   "execution_count": null,
   "metadata": {
    "ExecuteTime": {
     "end_time": "2020-08-31T17:04:54.775900Z",
     "start_time": "2020-08-31T17:04:54.386Z"
    },
    "deletable": false,
    "nbgrader": {
     "cell_type": "code",
     "checksum": "55fd7e8261f0d304591965578b828918",
     "grade": false,
     "grade_id": "cell-ef1f6bfa667cb7dd",
     "locked": false,
     "schema_version": 3,
     "solution": true,
     "task": false
    }
   },
   "outputs": [],
   "source": [
    "my_ancova_model <- function(mydataset){\n",
    "    model <- lm(test2 ~ test1 + treat, data = mydataset)\n",
    "    return(model)\n",
    "    \n",
    "}"
   ]
  },
  {
   "cell_type": "code",
   "execution_count": null,
   "metadata": {
    "ExecuteTime": {
     "end_time": "2020-08-31T17:04:54.802428Z",
     "start_time": "2020-08-31T17:04:54.388Z"
    },
    "deletable": false,
    "editable": false,
    "nbgrader": {
     "cell_type": "code",
     "checksum": "2dae0c51b4c146261d6205768057df9f",
     "grade": true,
     "grade_id": "cell-b84e56e6b33c9f10",
     "locked": true,
     "points": 10,
     "schema_version": 3,
     "solution": false,
     "task": false
    }
   },
   "outputs": [],
   "source": [
    "# Test Cell\n",
    "if(class(my_ancova_model(sing)) == 'lm'){\n",
    "    expect_is(my_ancova_model(sing), \"lm\")\n",
    "    print('Checking linear model object: ... Correct')\n",
    "    print('Tip: Make sure that your linear model object has the correct variables!')\n",
    "}else{\n",
    "    print('Checking linear model object: ... Incorrect')\n",
    "    print('Tip: check out the lm() function!')\n",
    "}\n",
    "\n",
    "# This cell has hidden test cases that will run after submission."
   ]
  },
  {
   "cell_type": "markdown",
   "metadata": {
    "deletable": false,
    "editable": false,
    "nbgrader": {
     "cell_type": "markdown",
     "checksum": "ace0302cef4af717916c71fbdf5ca49e",
     "grade": false,
     "grade_id": "cell-cf61346fcc24a7db",
     "locked": true,
     "schema_version": 3,
     "solution": false,
     "task": false
    }
   },
   "source": [
    "#### 1. (c) Fill in the following function which takes a linear model as an argument and returns the p-values column from the ```anova``` table:"
   ]
  },
  {
   "cell_type": "code",
   "execution_count": null,
   "metadata": {
    "ExecuteTime": {
     "end_time": "2020-08-31T17:04:54.813211Z",
     "start_time": "2020-08-31T17:04:54.389Z"
    },
    "deletable": false,
    "nbgrader": {
     "cell_type": "code",
     "checksum": "6e6ba34d536f9879a0d12d5ceed7dd4d",
     "grade": false,
     "grade_id": "cell-9963f66e73534da9",
     "locked": false,
     "schema_version": 3,
     "solution": true,
     "task": false
    }
   },
   "outputs": [],
   "source": [
    "my_ancova_table <- function(myancovamodel){\n",
    "  anova_result <- anova(myancovamodel)\n",
    "  p_values <- anova_result$'Pr(>F)'\n",
    "  return(p_values)\n",
    "    \n",
    "}\n"
   ]
  },
  {
   "cell_type": "code",
   "execution_count": null,
   "metadata": {
    "ExecuteTime": {
     "end_time": "2020-08-31T17:04:54.847179Z",
     "start_time": "2020-08-31T17:04:54.391Z"
    },
    "deletable": false,
    "editable": false,
    "nbgrader": {
     "cell_type": "code",
     "checksum": "2e13ffa7ab2c29b5efc60ae2ce30ae4f",
     "grade": true,
     "grade_id": "cell-817df6b1eeb94025",
     "locked": true,
     "points": 5,
     "schema_version": 3,
     "solution": false,
     "task": false
    }
   },
   "outputs": [],
   "source": [
    "# Test Cell\n",
    "if(test_that('Checking p-values type',{expect_is(my_ancova_table(my_ancova_model(sing)),'numeric')})){\n",
    "    print('Checking p-values type: Correct')\n",
    "}\n",
    "# This cell has hidden test cases that will run after submission."
   ]
  },
  {
   "cell_type": "markdown",
   "metadata": {
    "deletable": false,
    "editable": false,
    "nbgrader": {
     "cell_type": "markdown",
     "checksum": "1db011c80129318c9b23b8acc5b607e9",
     "grade": false,
     "grade_id": "cell-77e572232b91e4a4",
     "locked": true,
     "schema_version": 3,
     "solution": false,
     "task": false
    }
   },
   "source": [
    "###  Problem #2. Penguins dataset analysis (15 points)\n",
    "\n",
    "First, we import the ```penguins``` dataset and plot it for you. More info on this dataset can be found here:\n",
    "\n",
    "  Gorman KB, Williams TD, Fraser WR (2014) Ecological Sexual Dimorphism\n",
    "  and Environmental Variability within a Community of Antarctic\n",
    "  Penguins (Genus Pygoscelis). PLoS ONE 9(3): e90081.\n",
    "  https://doi.org/10.1371/journal.pone.0090081\n",
    "  \n",
    "  https://github.com/allisonhorst/palmerpenguins\n",
    "\n",
    "In this question, we will explore linear ANCOVA models and potential interactions."
   ]
  },
  {
   "cell_type": "code",
   "execution_count": 3,
   "metadata": {
    "ExecuteTime": {
     "end_time": "2020-08-31T17:04:55.147954Z",
     "start_time": "2020-08-31T17:04:54.393Z"
    },
    "deletable": false,
    "editable": false,
    "nbgrader": {
     "cell_type": "code",
     "checksum": "5fbf82a170180e4b3211d275c57f3380",
     "grade": false,
     "grade_id": "cell-0f2298fd6f152ab8",
     "locked": true,
     "schema_version": 3,
     "solution": false,
     "task": false
    }
   },
   "outputs": [
    {
     "data": {
      "image/png": "[encoded data removed]",
      "text/plain": [
       "plot without title"
      ]
     },
     "metadata": {
      "image/png": {
       "height": 360,
       "width": 600
      },
      "text/plain": {
       "height": 360,
       "width": 600
      }
     },
     "output_type": "display_data"
    }
   ],
   "source": [
    "penguins <- read.table('penguins.csv', sep = ',')\n",
    "penguins <- penguins %>% drop_na()\n",
    "options(repr.plot.width=10, repr.plot.height=6)\n",
    "p = ggplot(data = penguins) + \n",
    "        geom_point(aes(x = flipper_length_mm, y = body_mass_g,shape = species,color=species)) +\n",
    "        xlab('Flipper Length (mm)') + ylab('Body Mass (g)') +\n",
    "        ggtitle('Palmer Penguins')\n",
    "p"
   ]
  },
  {
   "cell_type": "markdown",
   "metadata": {
    "deletable": false,
    "editable": false,
    "nbgrader": {
     "cell_type": "markdown",
     "checksum": "a0c3e282fe544ac99f21da3b10eaa40b",
     "grade": false,
     "grade_id": "cell-a7b6e367740767f0",
     "locked": true,
     "schema_version": 3,
     "solution": false,
     "task": false
    }
   },
   "source": [
    "#### 2. (a) Create two models regressing body mass on flipper length and including species (as a factor):\n",
    "\n",
    "- one model in a variable ```penguins_no_interaction``` without interaction between flipper length and species\n",
    "    - (hint: of the form $Y_i = \\beta_0 + \\beta_1 X + \\beta_2 Z + \\varepsilon_i$)\n",
    "- one model in a variable ```penguins_with_interaction``` with interaction between flipper length and species\n",
    "    - (hint: of the form $Y_i = \\beta_0 + \\beta_1 X + \\beta_2 Z + \\beta_3XZ + \\varepsilon_i$)\n",
    "\n",
    "(tip: use ```head(penguins)``` to take a look at the dataset and remember to input your variables in the same order as the models above)"
   ]
  },
  {
   "cell_type": "code",
   "execution_count": null,
   "metadata": {
    "ExecuteTime": {
     "end_time": "2020-08-31T17:04:55.166014Z",
     "start_time": "2020-08-31T17:04:54.394Z"
    },
    "deletable": false,
    "nbgrader": {
     "cell_type": "code",
     "checksum": "3c8734caa7d25eb9672995a4d392cce0",
     "grade": false,
     "grade_id": "cell-61cdb498d99d1d88",
     "locked": false,
     "schema_version": 3,
     "solution": true,
     "task": false
    }
   },
   "outputs": [],
   "source": [
    "penguins_no_interaction <- lm(body_mass_g ~ flipper_length_mm + species, data = penguins)\n",
    "penguins_with_interaction <- lm(body_mass_g ~ flipper_length_mm * species, data = penguins)\n",
    "\n",
    "# your code here\n"
   ]
  },
  {
   "cell_type": "code",
   "execution_count": null,
   "metadata": {
    "ExecuteTime": {
     "end_time": "2020-08-31T17:04:55.185695Z",
     "start_time": "2020-08-31T17:04:54.396Z"
    },
    "deletable": false,
    "editable": false,
    "nbgrader": {
     "cell_type": "code",
     "checksum": "0dd95ec53b7f7790f05246cde3a441f8",
     "grade": true,
     "grade_id": "cell-659f8cd8a71e2d34",
     "locked": true,
     "points": 5,
     "schema_version": 3,
     "solution": false,
     "task": false
    }
   },
   "outputs": [],
   "source": [
    "# Test Cell\n",
    "if(test_that('Checking no_interaction linear model object TYPE:',{expect_is(penguins_no_interaction,'lm')})){\n",
    "    print('Checking no_interaction linear model object TYPE: ... Correct')\n",
    "}\n",
    "# This cell has hidden test cases that will run after submission."
   ]
  },
  {
   "cell_type": "code",
   "execution_count": null,
   "metadata": {
    "ExecuteTime": {
     "end_time": "2020-08-31T17:04:55.205833Z",
     "start_time": "2020-08-31T17:04:54.397Z"
    },
    "deletable": false,
    "editable": false,
    "nbgrader": {
     "cell_type": "code",
     "checksum": "02a6bce4655203d7d8ca097fcb93d1b6",
     "grade": true,
     "grade_id": "cell-9e83e929e70c5456",
     "locked": true,
     "points": 5,
     "schema_version": 3,
     "solution": false,
     "task": false
    }
   },
   "outputs": [],
   "source": [
    "# Test Cell\n",
    "if(test_that('Checking with_interaction linear model object TYPE',{expect_is(penguins_with_interaction,'lm')})){\n",
    "    print('Checking with_interaction linear model object TYPE: ... Correct')\n",
    "}\n",
    "# This cell has hidden test cases that will run after submission."
   ]
  },
  {
   "cell_type": "markdown",
   "metadata": {
    "deletable": false,
    "editable": false,
    "nbgrader": {
     "cell_type": "markdown",
     "checksum": "2f656863777308413ca8371db4513742",
     "grade": false,
     "grade_id": "cell-b4c507bf7e37de49",
     "locked": true,
     "schema_version": 3,
     "solution": false,
     "task": false
    }
   },
   "source": [
    "#### 2. (b) Fill in the following function to compute the Mean Square Error (MSE) from a linear model object:\n"
   ]
  },
  {
   "cell_type": "code",
   "execution_count": null,
   "metadata": {
    "ExecuteTime": {
     "end_time": "2020-08-31T17:04:55.216311Z",
     "start_time": "2020-08-31T17:04:54.398Z"
    },
    "deletable": false,
    "nbgrader": {
     "cell_type": "code",
     "checksum": "b94bfe067bbe3f9720c469796d262204",
     "grade": false,
     "grade_id": "cell-f7e5b777aaa1410c",
     "locked": false,
     "schema_version": 3,
     "solution": true,
     "task": false
    }
   },
   "outputs": [],
   "source": [
    "extract_mse <- function(linear_model){\n",
    "  residuals <- residuals(linear_model)\n",
    "  mse <- mean(residuals^2)\n",
    "  return(mse)\n",
    "    \n",
    "}\n"
   ]
  },
  {
   "cell_type": "code",
   "execution_count": null,
   "metadata": {
    "ExecuteTime": {
     "end_time": "2020-08-31T17:04:55.960900Z",
     "start_time": "2020-08-31T17:04:55.934Z"
    },
    "deletable": false,
    "editable": false,
    "nbgrader": {
     "cell_type": "code",
     "checksum": "2f68c12c28d790847b66fb7467f5485a",
     "grade": true,
     "grade_id": "cell-93a86da1b4180da8",
     "locked": true,
     "points": 5,
     "schema_version": 3,
     "solution": false,
     "task": false
    }
   },
   "outputs": [],
   "source": [
    "# Test Cell\n",
    "if(test_that('Checking mse_type',{expect_is(extract_mse(lm(body_mass_g ~ flipper_length_mm, data = penguins)),'numeric')})){\n",
    "    print('Checking mse_type: ... Correct')\n",
    "}\n",
    "\n",
    "# This cell has hidden test cases that will run after submission."
   ]
  }
 ],
 "metadata": {
  "kernelspec": {
   "display_name": "R",
   "language": "R",
   "name": "ir"
  },
  "language_info": {
   "codemirror_mode": "r",
   "file_extension": ".r",
   "mimetype": "text/x-r-source",
   "name": "R",
   "pygments_lexer": "r",
   "version": "3.6.3"
  }
 },
 "nbformat": 4,
 "nbformat_minor": 4
}
