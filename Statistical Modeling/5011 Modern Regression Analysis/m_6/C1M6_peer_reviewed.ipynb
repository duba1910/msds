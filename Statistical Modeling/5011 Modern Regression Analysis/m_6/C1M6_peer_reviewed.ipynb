{
 "cells": [
  {
   "cell_type": "markdown",
   "metadata": {},
   "source": [
    "# Module 6: Peer Reviewed Assignment"
   ]
  },
  {
   "cell_type": "markdown",
   "metadata": {},
   "source": [
    "### Outline:\n",
    "The objectives for this assignment:\n",
    "\n",
    "1. Apply the processes of model selection with real datasets.\n",
    "2. Understand why and how some problems are simpler to solve with some forms of model selection, and others are more difficult.\n",
    "3. Be able to explain the balance between model power and simplicity.\n",
    "3. Observe the difference between different model selection criterion.\n",
    "\n",
    "General tips:\n",
    "\n",
    "1. Read the questions carefully to understand what is being asked.\n",
    "2. This work will be reviewed by another human, so make sure that you are clear and concise in what your explanations and answers."
   ]
  },
  {
   "cell_type": "code",
   "execution_count": 14,
   "metadata": {},
   "outputs": [],
   "source": [
    "# This cell loads in the necesary packages\n",
    "library(tidyverse)\n",
    "library(leaps)\n",
    "library(ggplot2)"
   ]
  },
  {
   "cell_type": "markdown",
   "metadata": {},
   "source": [
    "## Problem 1: We Need Concrete Evidence!\n",
    "\n",
    "[Ralphie](https://en.wikipedia.org/wiki/Ralphie_the_Buffalo) is studying to become a civil engineer. That means she has to know everything about concrete, including what ingredients go in it and how they affect the concrete's properties. She's currently writting up a project about concrete flow, and has asked you to help her figure out which ingredients are the most important. Let's use our new model selection techniques to help Ralphie out!\n",
    "\n",
    "Data Source: Yeh, I-Cheng, \"Modeling slump flow of concrete using second-order regressions and \n",
    "artificial neural networks,\" Cement and Concrete Composites, Vol.29, No. 6, 474-480, \n",
    "2007."
   ]
  },
  {
   "cell_type": "code",
   "execution_count": 15,
   "metadata": {},
   "outputs": [
    {
     "data": {
      "text/html": [
       "<table>\n",
       "<caption>A data.frame: 6 × 8</caption>\n",
       "<thead>\n",
       "\t<tr><th></th><th scope=col>cement</th><th scope=col>slag</th><th scope=col>ash</th><th scope=col>water</th><th scope=col>sp</th><th scope=col>course.agg</th><th scope=col>fine.agg</th><th scope=col>flow</th></tr>\n",
       "\t<tr><th></th><th scope=col>&lt;dbl&gt;</th><th scope=col>&lt;dbl&gt;</th><th scope=col>&lt;dbl&gt;</th><th scope=col>&lt;dbl&gt;</th><th scope=col>&lt;dbl&gt;</th><th scope=col>&lt;dbl&gt;</th><th scope=col>&lt;dbl&gt;</th><th scope=col>&lt;dbl&gt;</th></tr>\n",
       "</thead>\n",
       "<tbody>\n",
       "\t<tr><th scope=row>1</th><td>273</td><td> 82</td><td>105</td><td>210</td><td> 9</td><td>904</td><td>680</td><td>62.0</td></tr>\n",
       "\t<tr><th scope=row>2</th><td>163</td><td>149</td><td>191</td><td>180</td><td>12</td><td>843</td><td>746</td><td>20.0</td></tr>\n",
       "\t<tr><th scope=row>3</th><td>162</td><td>148</td><td>191</td><td>179</td><td>16</td><td>840</td><td>743</td><td>20.0</td></tr>\n",
       "\t<tr><th scope=row>4</th><td>162</td><td>148</td><td>190</td><td>179</td><td>19</td><td>838</td><td>741</td><td>21.5</td></tr>\n",
       "\t<tr><th scope=row>5</th><td>154</td><td>112</td><td>144</td><td>220</td><td>10</td><td>923</td><td>658</td><td>64.0</td></tr>\n",
       "\t<tr><th scope=row>6</th><td>147</td><td> 89</td><td>115</td><td>202</td><td> 9</td><td>860</td><td>829</td><td>55.0</td></tr>\n",
       "</tbody>\n",
       "</table>\n"
      ],
      "text/latex": [
       "A data.frame: 6 × 8\n",
       "\\begin{tabular}{r|llllllll}\n",
       "  & cement & slag & ash & water & sp & course.agg & fine.agg & flow\\\\\n",
       "  & <dbl> & <dbl> & <dbl> & <dbl> & <dbl> & <dbl> & <dbl> & <dbl>\\\\\n",
       "\\hline\n",
       "\t1 & 273 &  82 & 105 & 210 &  9 & 904 & 680 & 62.0\\\\\n",
       "\t2 & 163 & 149 & 191 & 180 & 12 & 843 & 746 & 20.0\\\\\n",
       "\t3 & 162 & 148 & 191 & 179 & 16 & 840 & 743 & 20.0\\\\\n",
       "\t4 & 162 & 148 & 190 & 179 & 19 & 838 & 741 & 21.5\\\\\n",
       "\t5 & 154 & 112 & 144 & 220 & 10 & 923 & 658 & 64.0\\\\\n",
       "\t6 & 147 &  89 & 115 & 202 &  9 & 860 & 829 & 55.0\\\\\n",
       "\\end{tabular}\n"
      ],
      "text/markdown": [
       "\n",
       "A data.frame: 6 × 8\n",
       "\n",
       "| <!--/--> | cement &lt;dbl&gt; | slag &lt;dbl&gt; | ash &lt;dbl&gt; | water &lt;dbl&gt; | sp &lt;dbl&gt; | course.agg &lt;dbl&gt; | fine.agg &lt;dbl&gt; | flow &lt;dbl&gt; |\n",
       "|---|---|---|---|---|---|---|---|---|\n",
       "| 1 | 273 |  82 | 105 | 210 |  9 | 904 | 680 | 62.0 |\n",
       "| 2 | 163 | 149 | 191 | 180 | 12 | 843 | 746 | 20.0 |\n",
       "| 3 | 162 | 148 | 191 | 179 | 16 | 840 | 743 | 20.0 |\n",
       "| 4 | 162 | 148 | 190 | 179 | 19 | 838 | 741 | 21.5 |\n",
       "| 5 | 154 | 112 | 144 | 220 | 10 | 923 | 658 | 64.0 |\n",
       "| 6 | 147 |  89 | 115 | 202 |  9 | 860 | 829 | 55.0 |\n",
       "\n"
      ],
      "text/plain": [
       "  cement slag ash water sp course.agg fine.agg flow\n",
       "1 273     82  105 210    9 904        680      62.0\n",
       "2 163    149  191 180   12 843        746      20.0\n",
       "3 162    148  191 179   16 840        743      20.0\n",
       "4 162    148  190 179   19 838        741      21.5\n",
       "5 154    112  144 220   10 923        658      64.0\n",
       "6 147     89  115 202    9 860        829      55.0"
      ]
     },
     "metadata": {},
     "output_type": "display_data"
    }
   ],
   "source": [
    "concrete.data = read.csv(\"Concrete.data\")\n",
    "\n",
    "concrete.data = concrete.data[, c(-1, -9, -11)]\n",
    "names(concrete.data) = c(\"cement\", \"slag\", \"ash\", \"water\", \"sp\", \"course.agg\", \"fine.agg\", \"flow\")\n",
    "\n",
    "head(concrete.data)"
   ]
  },
  {
   "cell_type": "markdown",
   "metadata": {},
   "source": [
    "### 1. (a) Initial Inspections\n",
    "\n",
    "Sometimes, the best way to start is to just jump in and mess around with the model. So let's do that. Create a linear model with `flow` as the response and all other columns as predictors.\n",
    "\n",
    "Just by looking at the summary for your model, is there reason to believe that our model could be simpler?"
   ]
  },
  {
   "cell_type": "code",
   "execution_count": 16,
   "metadata": {},
   "outputs": [
    {
     "data": {
      "text/plain": [
       "\n",
       "Call:\n",
       "lm(formula = flow ~ ., data = concrete.data)\n",
       "\n",
       "Residuals:\n",
       "    Min      1Q  Median      3Q     Max \n",
       "-30.880 -10.428   1.815   9.601  22.953 \n",
       "\n",
       "Coefficients:\n",
       "              Estimate Std. Error t value Pr(>|t|)  \n",
       "(Intercept) -252.87467  350.06649  -0.722   0.4718  \n",
       "cement         0.05364    0.11236   0.477   0.6342  \n",
       "slag          -0.00569    0.15638  -0.036   0.9710  \n",
       "ash            0.06115    0.11402   0.536   0.5930  \n",
       "water          0.73180    0.35282   2.074   0.0408 *\n",
       "sp             0.29833    0.66263   0.450   0.6536  \n",
       "course.agg     0.07366    0.13510   0.545   0.5869  \n",
       "fine.agg       0.09402    0.14191   0.663   0.5092  \n",
       "---\n",
       "Signif. codes:  0 ‘***’ 0.001 ‘**’ 0.01 ‘*’ 0.05 ‘.’ 0.1 ‘ ’ 1\n",
       "\n",
       "Residual standard error: 12.84 on 95 degrees of freedom\n",
       "Multiple R-squared:  0.5022,\tAdjusted R-squared:  0.4656 \n",
       "F-statistic: 13.69 on 7 and 95 DF,  p-value: 3.915e-12\n"
      ]
     },
     "metadata": {},
     "output_type": "display_data"
    }
   ],
   "source": [
    "# Your Code Here\n",
    "lmod <- lm(flow ~., data = concrete.data)\n",
    "summary(lmod)\n"
   ]
  },
  {
   "cell_type": "markdown",
   "metadata": {},
   "source": [
    "Yes - there are a lot that are significant so we can probably remove some of them"
   ]
  },
  {
   "cell_type": "markdown",
   "metadata": {},
   "source": [
    "### 1. (b) Backwards Selection\n",
    "Our model has $7$ predictors. That is not too many, so we can use backwards selection to narrow them down to the most impactful.\n",
    "\n",
    "Perform backwards selection on your model. You don't have to automate the backwards selection process."
   ]
  },
  {
   "cell_type": "code",
   "execution_count": 17,
   "metadata": {},
   "outputs": [
    {
     "data": {
      "text/plain": [
       "\n",
       "Call:\n",
       "lm(formula = flow ~ . - slag, data = concrete.data)\n",
       "\n",
       "Residuals:\n",
       "    Min      1Q  Median      3Q     Max \n",
       "-30.843 -10.451   1.771   9.589  22.939 \n",
       "\n",
       "Coefficients:\n",
       "              Estimate Std. Error t value Pr(>|t|)    \n",
       "(Intercept) -265.45032   55.46193  -4.786 6.16e-06 ***\n",
       "cement         0.05766    0.02088   2.761 0.006899 ** \n",
       "ash            0.06524    0.01987   3.283 0.001434 ** \n",
       "water          0.74420    0.09117   8.163 1.28e-12 ***\n",
       "sp             0.31366    0.50874   0.617 0.538997    \n",
       "course.agg     0.07849    0.02447   3.207 0.001820 ** \n",
       "fine.agg       0.09909    0.02644   3.747 0.000305 ***\n",
       "---\n",
       "Signif. codes:  0 ‘***’ 0.001 ‘**’ 0.01 ‘*’ 0.05 ‘.’ 0.1 ‘ ’ 1\n",
       "\n",
       "Residual standard error: 12.78 on 96 degrees of freedom\n",
       "Multiple R-squared:  0.5022,\tAdjusted R-squared:  0.4711 \n",
       "F-statistic: 16.14 on 6 and 96 DF,  p-value: 9.229e-13\n"
      ]
     },
     "metadata": {},
     "output_type": "display_data"
    },
    {
     "data": {
      "text/plain": [
       "\n",
       "Call:\n",
       "lm(formula = flow ~ . - slag - sp, data = concrete.data)\n",
       "\n",
       "Residuals:\n",
       "    Min      1Q  Median      3Q     Max \n",
       "-31.893 -10.125   1.773   9.559  23.914 \n",
       "\n",
       "Coefficients:\n",
       "              Estimate Std. Error t value Pr(>|t|)    \n",
       "(Intercept) -249.50866   48.90884  -5.102 1.67e-06 ***\n",
       "cement         0.05366    0.01979   2.712 0.007909 ** \n",
       "ash            0.06101    0.01859   3.281 0.001436 ** \n",
       "water          0.72313    0.08426   8.582 1.53e-13 ***\n",
       "course.agg     0.07291    0.02266   3.217 0.001760 ** \n",
       "fine.agg       0.09554    0.02573   3.714 0.000341 ***\n",
       "---\n",
       "Signif. codes:  0 ‘***’ 0.001 ‘**’ 0.01 ‘*’ 0.05 ‘.’ 0.1 ‘ ’ 1\n",
       "\n",
       "Residual standard error: 12.74 on 97 degrees of freedom\n",
       "Multiple R-squared:  0.5003,\tAdjusted R-squared:  0.4745 \n",
       "F-statistic: 19.42 on 5 and 97 DF,  p-value: 2.36e-13\n"
      ]
     },
     "metadata": {},
     "output_type": "display_data"
    }
   ],
   "source": [
    "# Your Code Here\n",
    "lmod_backwards <- lm(flow ~ . - slag, data = concrete.data)\n",
    "summary(lmod_backwards)\n",
    "\n",
    "lmod_backwards_again <- lm(flow ~ . - slag - sp, data = concrete.data)\n",
    "summary(lmod_backwards_again)"
   ]
  },
  {
   "cell_type": "markdown",
   "metadata": {},
   "source": []
  },
  {
   "cell_type": "markdown",
   "metadata": {},
   "source": [
    "### 1. (c) Objection!\n",
    "\n",
    "Stop right there! Think about what you just did. You just removed the \"worst\" features from your model. But we know that a model will become less powerful when we remove features so we should check that it's still just as powerful as the original model. Use a test to check whether the model at the end of backward selection is significantly different than the model with all the features.\n",
    "\n",
    "Describe why we want to balance explanatory power with simplicity."
   ]
  },
  {
   "cell_type": "code",
   "execution_count": 18,
   "metadata": {},
   "outputs": [
    {
     "data": {
      "text/html": [
       "<table>\n",
       "<caption>A anova: 2 × 6</caption>\n",
       "<thead>\n",
       "\t<tr><th></th><th scope=col>Res.Df</th><th scope=col>RSS</th><th scope=col>Df</th><th scope=col>Sum of Sq</th><th scope=col>F</th><th scope=col>Pr(&gt;F)</th></tr>\n",
       "\t<tr><th></th><th scope=col>&lt;dbl&gt;</th><th scope=col>&lt;dbl&gt;</th><th scope=col>&lt;dbl&gt;</th><th scope=col>&lt;dbl&gt;</th><th scope=col>&lt;dbl&gt;</th><th scope=col>&lt;dbl&gt;</th></tr>\n",
       "</thead>\n",
       "<tbody>\n",
       "\t<tr><th scope=row>1</th><td>97</td><td>15733.53</td><td>NA</td><td>      NA</td><td>       NA</td><td>       NA</td></tr>\n",
       "\t<tr><th scope=row>2</th><td>95</td><td>15671.26</td><td> 2</td><td>62.27123</td><td>0.1887457</td><td>0.8283068</td></tr>\n",
       "</tbody>\n",
       "</table>\n"
      ],
      "text/latex": [
       "A anova: 2 × 6\n",
       "\\begin{tabular}{r|llllll}\n",
       "  & Res.Df & RSS & Df & Sum of Sq & F & Pr(>F)\\\\\n",
       "  & <dbl> & <dbl> & <dbl> & <dbl> & <dbl> & <dbl>\\\\\n",
       "\\hline\n",
       "\t1 & 97 & 15733.53 & NA &       NA &        NA &        NA\\\\\n",
       "\t2 & 95 & 15671.26 &  2 & 62.27123 & 0.1887457 & 0.8283068\\\\\n",
       "\\end{tabular}\n"
      ],
      "text/markdown": [
       "\n",
       "A anova: 2 × 6\n",
       "\n",
       "| <!--/--> | Res.Df &lt;dbl&gt; | RSS &lt;dbl&gt; | Df &lt;dbl&gt; | Sum of Sq &lt;dbl&gt; | F &lt;dbl&gt; | Pr(&gt;F) &lt;dbl&gt; |\n",
       "|---|---|---|---|---|---|---|\n",
       "| 1 | 97 | 15733.53 | NA |       NA |        NA |        NA |\n",
       "| 2 | 95 | 15671.26 |  2 | 62.27123 | 0.1887457 | 0.8283068 |\n",
       "\n"
      ],
      "text/plain": [
       "  Res.Df RSS      Df Sum of Sq F         Pr(>F)   \n",
       "1 97     15733.53 NA       NA         NA        NA\n",
       "2 95     15671.26  2 62.27123  0.1887457 0.8283068"
      ]
     },
     "metadata": {},
     "output_type": "display_data"
    }
   ],
   "source": [
    "# Your Code Here\n",
    "anova(lmod_backwards_again, lmod)"
   ]
  },
  {
   "cell_type": "markdown",
   "metadata": {},
   "source": [
    "the p value of .82 shows we fail to reject, meaning the removed paramaters are not statistically significant"
   ]
  },
  {
   "cell_type": "markdown",
   "metadata": {},
   "source": [
    "### 1. (d) Checking our Model\n",
    "\n",
    "Ralphie is nervous about her project and wants to make sure our model is correct. She's found a function called `regsubsets()` in the leaps package which allows us to see which subsets of arguments produce the best combinations. Ralphie wrote up the code for you and the documentation for the function can be found [here](https://www.rdocumentation.org/packages/leaps/versions/2.1-1/topics/regsubsets). For each of the subsets of features, calculate the AIC, BIC and adjusted $R^2$. Plot the results of each criterion, with the score on the y-axis and the number of features on the x-axis. \n",
    "\n",
    "Do all of the criterion agree on how many features make the best model? Explain why the criterion will or will not always agree on the best model.\n",
    "\n",
    "**Hint**: It may help to look at the attributes stored within the regsubsets summary using `names(rs)`."
   ]
  },
  {
   "cell_type": "code",
   "execution_count": 19,
   "metadata": {},
   "outputs": [
    {
     "name": "stderr",
     "output_type": "stream",
     "text": [
      "Warning message in model.matrix.default(terms(formula, data = data), mm):\n",
      "“the response appeared on the right-hand side and was dropped”\n",
      "Warning message in model.matrix.default(terms(formula, data = data), mm):\n",
      "“problem with term 8 in model.matrix: no columns are assigned”\n"
     ]
    },
    {
     "data": {
      "text/html": [
       "<table>\n",
       "<caption>A matrix: 6 × 8 of type lgl</caption>\n",
       "<thead>\n",
       "\t<tr><th></th><th scope=col>(Intercept)</th><th scope=col>cement</th><th scope=col>slag</th><th scope=col>ash</th><th scope=col>water</th><th scope=col>sp</th><th scope=col>course.agg</th><th scope=col>fine.agg</th></tr>\n",
       "</thead>\n",
       "<tbody>\n",
       "\t<tr><th scope=row>1</th><td>TRUE</td><td>FALSE</td><td>FALSE</td><td>FALSE</td><td>TRUE</td><td>FALSE</td><td>FALSE</td><td>FALSE</td></tr>\n",
       "\t<tr><th scope=row>2</th><td>TRUE</td><td>FALSE</td><td> TRUE</td><td>FALSE</td><td>TRUE</td><td>FALSE</td><td>FALSE</td><td>FALSE</td></tr>\n",
       "\t<tr><th scope=row>3</th><td>TRUE</td><td>FALSE</td><td> TRUE</td><td>FALSE</td><td>TRUE</td><td>FALSE</td><td>FALSE</td><td> TRUE</td></tr>\n",
       "\t<tr><th scope=row>4</th><td>TRUE</td><td> TRUE</td><td> TRUE</td><td>FALSE</td><td>TRUE</td><td>FALSE</td><td>FALSE</td><td> TRUE</td></tr>\n",
       "\t<tr><th scope=row>5</th><td>TRUE</td><td>FALSE</td><td> TRUE</td><td> TRUE</td><td>TRUE</td><td>FALSE</td><td> TRUE</td><td> TRUE</td></tr>\n",
       "\t<tr><th scope=row>6</th><td>TRUE</td><td> TRUE</td><td>FALSE</td><td> TRUE</td><td>TRUE</td><td> TRUE</td><td> TRUE</td><td> TRUE</td></tr>\n",
       "</tbody>\n",
       "</table>\n"
      ],
      "text/latex": [
       "A matrix: 6 × 8 of type lgl\n",
       "\\begin{tabular}{r|llllllll}\n",
       "  & (Intercept) & cement & slag & ash & water & sp & course.agg & fine.agg\\\\\n",
       "\\hline\n",
       "\t1 & TRUE & FALSE & FALSE & FALSE & TRUE & FALSE & FALSE & FALSE\\\\\n",
       "\t2 & TRUE & FALSE &  TRUE & FALSE & TRUE & FALSE & FALSE & FALSE\\\\\n",
       "\t3 & TRUE & FALSE &  TRUE & FALSE & TRUE & FALSE & FALSE &  TRUE\\\\\n",
       "\t4 & TRUE &  TRUE &  TRUE & FALSE & TRUE & FALSE & FALSE &  TRUE\\\\\n",
       "\t5 & TRUE & FALSE &  TRUE &  TRUE & TRUE & FALSE &  TRUE &  TRUE\\\\\n",
       "\t6 & TRUE &  TRUE & FALSE &  TRUE & TRUE &  TRUE &  TRUE &  TRUE\\\\\n",
       "\\end{tabular}\n"
      ],
      "text/markdown": [
       "\n",
       "A matrix: 6 × 8 of type lgl\n",
       "\n",
       "| <!--/--> | (Intercept) | cement | slag | ash | water | sp | course.agg | fine.agg |\n",
       "|---|---|---|---|---|---|---|---|---|\n",
       "| 1 | TRUE | FALSE | FALSE | FALSE | TRUE | FALSE | FALSE | FALSE |\n",
       "| 2 | TRUE | FALSE |  TRUE | FALSE | TRUE | FALSE | FALSE | FALSE |\n",
       "| 3 | TRUE | FALSE |  TRUE | FALSE | TRUE | FALSE | FALSE |  TRUE |\n",
       "| 4 | TRUE |  TRUE |  TRUE | FALSE | TRUE | FALSE | FALSE |  TRUE |\n",
       "| 5 | TRUE | FALSE |  TRUE |  TRUE | TRUE | FALSE |  TRUE |  TRUE |\n",
       "| 6 | TRUE |  TRUE | FALSE |  TRUE | TRUE |  TRUE |  TRUE |  TRUE |\n",
       "\n"
      ],
      "text/plain": [
       "  (Intercept) cement slag  ash   water sp    course.agg fine.agg\n",
       "1 TRUE        FALSE  FALSE FALSE TRUE  FALSE FALSE      FALSE   \n",
       "2 TRUE        FALSE   TRUE FALSE TRUE  FALSE FALSE      FALSE   \n",
       "3 TRUE        FALSE   TRUE FALSE TRUE  FALSE FALSE       TRUE   \n",
       "4 TRUE         TRUE   TRUE FALSE TRUE  FALSE FALSE       TRUE   \n",
       "5 TRUE        FALSE   TRUE  TRUE TRUE  FALSE  TRUE       TRUE   \n",
       "6 TRUE         TRUE  FALSE  TRUE TRUE   TRUE  TRUE       TRUE   "
      ]
     },
     "metadata": {},
     "output_type": "display_data"
    },
    {
     "data": {
      "image/png": "[encoded data removed]",
      "text/plain": [
       "plot without title"
      ]
     },
     "metadata": {
      "image/png": {
       "height": 420,
       "width": 420
      },
      "text/plain": {
       "height": 420,
       "width": 420
      }
     },
     "output_type": "display_data"
    },
    {
     "data": {
      "image/png": "[encoded data removed]",
      "text/plain": [
       "plot without title"
      ]
     },
     "metadata": {
      "image/png": {
       "height": 420,
       "width": 420
      },
      "text/plain": {
       "height": 420,
       "width": 420
      }
     },
     "output_type": "display_data"
    },
    {
     "data": {
      "image/png": "[encoded data removed]",
      "text/plain": [
       "plot without title"
      ]
     },
     "metadata": {
      "image/png": {
       "height": 420,
       "width": 420
      },
      "text/plain": {
       "height": 420,
       "width": 420
      }
     },
     "output_type": "display_data"
    }
   ],
   "source": [
    "reg = regsubsets(flow ~ cement+slag+ash+water+sp+course.agg+fine.agg+flow, data=concrete.data, nvmax=6)\n",
    "rs = summary(reg)\n",
    "rs$which\n",
    "\n",
    "# Your Code Here\n",
    "\n",
    "n = dim(concrete.data)[1]\n",
    "AIC = 2*(2:7) + n*log(rs$rss/n);\n",
    "BIC = log(n)*(2:7) + n*log(rs$rss/n)\n",
    "\n",
    "data_AIC <- data.frame(n = 1:6, AIC = AIC)\n",
    "data_adj_r_squared <- data.frame(n = 1:6, adj_r_squared = rs$adjr2)\n",
    "data_BIC <- data.frame(n = 1:6, BIC = BIC)\n",
    "\n",
    "\n",
    "ggplot(data_AIC, aes(x = n, y = AIC)) +\n",
    "  geom_point() +\n",
    "  labs(x = \"n\", y = \"AIC\")\n",
    "\n",
    "\n",
    "ggplot(data_adj_r_squared, aes(x = n, y = adj_r_squared)) +\n",
    "  geom_point() +\n",
    "  labs(x = \"n\", y = \"Adjusted R-squared\")\n",
    "\n",
    "\n",
    "ggplot(data_BIC, aes(x = n, y = BIC)) +\n",
    "  geom_point() +\n",
    "  labs(x = \"n\", y = \"BIC\") "
   ]
  },
  {
   "cell_type": "markdown",
   "metadata": {},
   "source": [
    "according to all the plots, the best model will have 2 predictors"
   ]
  }
 ],
 "metadata": {
  "kernelspec": {
   "display_name": "R",
   "language": "R",
   "name": "ir"
  },
  "language_info": {
   "codemirror_mode": "r",
   "file_extension": ".r",
   "mimetype": "text/x-r-source",
   "name": "R",
   "pygments_lexer": "r",
   "version": "3.6.3"
  }
 },
 "nbformat": 4,
 "nbformat_minor": 4
}
