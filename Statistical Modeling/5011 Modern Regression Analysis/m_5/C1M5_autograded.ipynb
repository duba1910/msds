{
 "cells": [
  {
   "cell_type": "markdown",
   "metadata": {
    "deletable": false,
    "editable": false,
    "nbgrader": {
     "cell_type": "markdown",
     "checksum": "4d74b8b46ef3d0fb1bc49b3ce8c604ef",
     "grade": false,
     "grade_id": "cell-b999bbe7e3a9bc20",
     "locked": true,
     "schema_version": 3,
     "solution": false,
     "task": false
    }
   },
   "source": [
    "# Module 5: Autograded Assignment"
   ]
  },
  {
   "cell_type": "markdown",
   "metadata": {
    "deletable": false,
    "editable": false,
    "nbgrader": {
     "cell_type": "markdown",
     "checksum": "2196ae53b3dde2931ac0a3de993f75c1",
     "grade": false,
     "grade_id": "cell-88479c55d7708977",
     "locked": true,
     "schema_version": 3,
     "solution": false,
     "task": false
    }
   },
   "source": [
    "### Outline:\n",
    "**Here are the objectives of this assignment:**\n",
    "\n",
    "1. Practice the skills needed for evaulating the validity of model assumptions.\n",
    "2. Implement some basic methods of fixing model assumptions.\n",
    "\n",
    "**Here are some general tips:**\n",
    "\n",
    "1. Read the questions carefully to understand what is being asked.\n",
    "2. When you feel that your work is completed, feel free to hit the ```Validate``` button to see your results on the *visible* unit tests. If you have questions about unit testing, please refer to the \"Module 0: Introduction\" notebook provided as an optional resource for this course. In this assignment, there are hidden unit tests that check your code. You will not recieve any feedback for failed hidden unit tests until the assignment is submitted. **Do not misinterpret the feedback from visible unit tests as all possible tests for a given question--write your code carefully!**\n",
    "3. Before submitting, we recommend restarting the kernel and running all the cells in order that they appear to make sure that there are no additional bugs in your code.\n",
    "4. There are 40 points total in this assignment."
   ]
  },
  {
   "cell_type": "code",
   "execution_count": 1,
   "metadata": {
    "deletable": false,
    "editable": false,
    "nbgrader": {
     "cell_type": "code",
     "checksum": "58a1ac45c0c9fd816ee8826fc1d69ea0",
     "grade": false,
     "grade_id": "cell-3e8f32d0eff4a4aa",
     "locked": true,
     "schema_version": 3,
     "solution": false,
     "task": false
    }
   },
   "outputs": [
    {
     "name": "stdout",
     "output_type": "stream",
     "text": [
      "Error in get(genname, envir = envir) : object 'testthat_print' not found\n"
     ]
    },
    {
     "name": "stderr",
     "output_type": "stream",
     "text": [
      "── \u001b[1mAttaching packages\u001b[22m ─────────────────────────────────────── tidyverse 1.3.0 ──\n",
      "\n",
      "\u001b[32m✔\u001b[39m \u001b[34mggplot2\u001b[39m 3.3.0     \u001b[32m✔\u001b[39m \u001b[34mpurrr  \u001b[39m 0.3.4\n",
      "\u001b[32m✔\u001b[39m \u001b[34mtibble \u001b[39m 3.0.1     \u001b[32m✔\u001b[39m \u001b[34mdplyr  \u001b[39m 0.8.5\n",
      "\u001b[32m✔\u001b[39m \u001b[34mtidyr  \u001b[39m 1.0.2     \u001b[32m✔\u001b[39m \u001b[34mstringr\u001b[39m 1.4.0\n",
      "\u001b[32m✔\u001b[39m \u001b[34mreadr  \u001b[39m 1.3.1     \u001b[32m✔\u001b[39m \u001b[34mforcats\u001b[39m 0.5.0\n",
      "\n",
      "── \u001b[1mConflicts\u001b[22m ────────────────────────────────────────── tidyverse_conflicts() ──\n",
      "\u001b[31m✖\u001b[39m \u001b[34mdplyr\u001b[39m::\u001b[32mfilter()\u001b[39m  masks \u001b[34mstats\u001b[39m::filter()\n",
      "\u001b[31m✖\u001b[39m \u001b[34mpurrr\u001b[39m::\u001b[32mis_null()\u001b[39m masks \u001b[34mtestthat\u001b[39m::is_null()\n",
      "\u001b[31m✖\u001b[39m \u001b[34mdplyr\u001b[39m::\u001b[32mlag()\u001b[39m     masks \u001b[34mstats\u001b[39m::lag()\n",
      "\u001b[31m✖\u001b[39m \u001b[34mdplyr\u001b[39m::\u001b[32mmatches()\u001b[39m masks \u001b[34mtidyr\u001b[39m::matches(), \u001b[34mtestthat\u001b[39m::matches()\n",
      "\n"
     ]
    }
   ],
   "source": [
    "# This cell loads the necesary libraries for this assignment\n",
    "library(testthat)\n",
    "library(tidyverse)\n",
    "library(ggplot2)"
   ]
  },
  {
   "cell_type": "markdown",
   "metadata": {
    "deletable": false,
    "editable": false,
    "nbgrader": {
     "cell_type": "markdown",
     "checksum": "9eca3b443634de5b1953ec03e1149192",
     "grade": false,
     "grade_id": "cell-27a806e431fa4577",
     "locked": true,
     "schema_version": 3,
     "solution": false,
     "task": false
    }
   },
   "source": [
    "## Problem 1: Beer Foam Height\n",
    "\n",
    "We've learned a lot over the last few weeks, and it's time to relax! We've headed down to the local pub, ordered some drinks: beer! But just as we are about to relax, [Ralphie](https://en.wikipedia.org/wiki/Ralphie_the_Buffalo) stops us and insists that we wait for her foam to disipate. I turns out that Ralphie does not like the foamy head of the beer, and won't let anyone drink until there is only $1$ centimeter of foam left. How long will we have to wait until we can drink? \n",
    "\n",
    "Data Source: J.J. Hackbarth (2006). \"Multivariate Analyses of Beer Foam Stand,\" Journal of the Institute of Brewing, Vol. 112, #1, pp. 17-24"
   ]
  },
  {
   "cell_type": "code",
   "execution_count": 3,
   "metadata": {
    "deletable": false,
    "editable": false,
    "nbgrader": {
     "cell_type": "code",
     "checksum": "adf9d469798585b7743ef64861bc0d37",
     "grade": false,
     "grade_id": "cell-90a1a293726f4892",
     "locked": true,
     "schema_version": 3,
     "solution": false,
     "task": false
    }
   },
   "outputs": [
    {
     "data": {
      "text/html": [
       "<table>\n",
       "<caption>A data.frame: 13 × 3</caption>\n",
       "<thead>\n",
       "\t<tr><th scope=col>time</th><th scope=col>foam.height</th><th scope=col>beer.height</th></tr>\n",
       "\t<tr><th scope=col>&lt;int&gt;</th><th scope=col>&lt;dbl&gt;</th><th scope=col>&lt;dbl&gt;</th></tr>\n",
       "</thead>\n",
       "<tbody>\n",
       "\t<tr><td>  0</td><td>17.40</td><td>0.60</td></tr>\n",
       "\t<tr><td> 15</td><td>15.10</td><td>2.20</td></tr>\n",
       "\t<tr><td> 30</td><td>13.10</td><td>3.40</td></tr>\n",
       "\t<tr><td> 45</td><td>11.60</td><td>4.15</td></tr>\n",
       "\t<tr><td> 60</td><td>10.60</td><td>4.50</td></tr>\n",
       "\t<tr><td> 90</td><td> 8.70</td><td>5.10</td></tr>\n",
       "\t<tr><td>120</td><td> 7.40</td><td>5.50</td></tr>\n",
       "\t<tr><td>150</td><td> 6.35</td><td>5.80</td></tr>\n",
       "\t<tr><td>180</td><td> 5.40</td><td>5.90</td></tr>\n",
       "\t<tr><td>210</td><td> 4.50</td><td>6.15</td></tr>\n",
       "\t<tr><td>240</td><td> 3.80</td><td>6.25</td></tr>\n",
       "\t<tr><td>270</td><td> 3.30</td><td>6.26</td></tr>\n",
       "\t<tr><td>300</td><td> 2.90</td><td>6.30</td></tr>\n",
       "</tbody>\n",
       "</table>\n"
      ],
      "text/latex": [
       "A data.frame: 13 × 3\n",
       "\\begin{tabular}{lll}\n",
       " time & foam.height & beer.height\\\\\n",
       " <int> & <dbl> & <dbl>\\\\\n",
       "\\hline\n",
       "\t   0 & 17.40 & 0.60\\\\\n",
       "\t  15 & 15.10 & 2.20\\\\\n",
       "\t  30 & 13.10 & 3.40\\\\\n",
       "\t  45 & 11.60 & 4.15\\\\\n",
       "\t  60 & 10.60 & 4.50\\\\\n",
       "\t  90 &  8.70 & 5.10\\\\\n",
       "\t 120 &  7.40 & 5.50\\\\\n",
       "\t 150 &  6.35 & 5.80\\\\\n",
       "\t 180 &  5.40 & 5.90\\\\\n",
       "\t 210 &  4.50 & 6.15\\\\\n",
       "\t 240 &  3.80 & 6.25\\\\\n",
       "\t 270 &  3.30 & 6.26\\\\\n",
       "\t 300 &  2.90 & 6.30\\\\\n",
       "\\end{tabular}\n"
      ],
      "text/markdown": [
       "\n",
       "A data.frame: 13 × 3\n",
       "\n",
       "| time &lt;int&gt; | foam.height &lt;dbl&gt; | beer.height &lt;dbl&gt; |\n",
       "|---|---|---|\n",
       "|   0 | 17.40 | 0.60 |\n",
       "|  15 | 15.10 | 2.20 |\n",
       "|  30 | 13.10 | 3.40 |\n",
       "|  45 | 11.60 | 4.15 |\n",
       "|  60 | 10.60 | 4.50 |\n",
       "|  90 |  8.70 | 5.10 |\n",
       "| 120 |  7.40 | 5.50 |\n",
       "| 150 |  6.35 | 5.80 |\n",
       "| 180 |  5.40 | 5.90 |\n",
       "| 210 |  4.50 | 6.15 |\n",
       "| 240 |  3.80 | 6.25 |\n",
       "| 270 |  3.30 | 6.26 |\n",
       "| 300 |  2.90 | 6.30 |\n",
       "\n"
      ],
      "text/plain": [
       "   time foam.height beer.height\n",
       "1    0  17.40       0.60       \n",
       "2   15  15.10       2.20       \n",
       "3   30  13.10       3.40       \n",
       "4   45  11.60       4.15       \n",
       "5   60  10.60       4.50       \n",
       "6   90   8.70       5.10       \n",
       "7  120   7.40       5.50       \n",
       "8  150   6.35       5.80       \n",
       "9  180   5.40       5.90       \n",
       "10 210   4.50       6.15       \n",
       "11 240   3.80       6.25       \n",
       "12 270   3.30       6.26       \n",
       "13 300   2.90       6.30       "
      ]
     },
     "metadata": {},
     "output_type": "display_data"
    }
   ],
   "source": [
    "# Load the data\n",
    "beer.data = read.table(\"beer.dat\", sep=\"\")\n",
    "names(beer.data) = c(\"time\", \"foam.height\", \"beer.height\")\n",
    "beer.data"
   ]
  },
  {
   "cell_type": "markdown",
   "metadata": {
    "deletable": false,
    "editable": false,
    "nbgrader": {
     "cell_type": "markdown",
     "checksum": "b201015beb3b951e69488d0ac17bd069",
     "grade": false,
     "grade_id": "cell-0664349bdc92afdf",
     "locked": true,
     "schema_version": 3,
     "solution": false,
     "task": false
    }
   },
   "source": [
    "#### 1. (a) Modelling (5 points)\n",
    "\n",
    "Do not fret, statistics to the rescue! Thanks to a dataset loaded above, and provided by the University of Florida, we can model this exact scenario. Plot the relationship between `time` (in seconds) as the predictor and `foam.height` (in cm) as the response. Determine if a linear regression would be a good fit. If the data is not linear, try applying a transformation to the `foam.height` variable. Limit these transformations to the `exp()`, `log()`, `sqrt()` and `1/foam.height` functions. Save the most linear model into `beer.lmod`."
   ]
  },
  {
   "cell_type": "code",
   "execution_count": 5,
   "metadata": {
    "deletable": false,
    "nbgrader": {
     "cell_type": "code",
     "checksum": "5985a5c09efb3adec9a1db2e5f88d650",
     "grade": false,
     "grade_id": "cell-64991d8d73bf61be",
     "locked": false,
     "schema_version": 3,
     "solution": true,
     "task": false
    }
   },
   "outputs": [
    {
     "data": {
      "image/png": "[encoded data removed]",
      "text/plain": [
       "plot without title"
      ]
     },
     "metadata": {
      "image/png": {
       "height": 420,
       "width": 420
      },
      "text/plain": {
       "height": 420,
       "width": 420
      }
     },
     "output_type": "display_data"
    },
    {
     "data": {
      "image/png": "[encoded data removed]",
      "text/plain": [
       "plot without title"
      ]
     },
     "metadata": {
      "image/png": {
       "height": 420,
       "width": 420
      },
      "text/plain": {
       "height": 420,
       "width": 420
      }
     },
     "output_type": "display_data"
    },
    {
     "data": {
      "image/png": "[encoded data removed]",
      "text/plain": [
       "plot without title"
      ]
     },
     "metadata": {
      "image/png": {
       "height": 420,
       "width": 420
      },
      "text/plain": {
       "height": 420,
       "width": 420
      }
     },
     "output_type": "display_data"
    },
    {
     "data": {
      "image/png": "[encoded data removed]",
      "text/plain": [
       "plot without title"
      ]
     },
     "metadata": {
      "image/png": {
       "height": 420,
       "width": 420
      },
      "text/plain": {
       "height": 420,
       "width": 420
      }
     },
     "output_type": "display_data"
    }
   ],
   "source": [
    "ggplot(beer.data,aes(x=time,y=foam.height)) + geom_point()\n",
    "ggplot(beer.data,aes(x=time,y=exp(foam.height))) + geom_point()\n",
    "ggplot(beer.data,aes(x=time,y=log(foam.height))) + geom_point()\n",
    "ggplot(beer.data,aes(x=time,y=1./foam.height)) + geom_point()\n",
    "\n",
    "beer.lmod = lm(log(foam.height)~time,data=beer.data)\n",
    "\n",
    "# your code here\n"
   ]
  },
  {
   "cell_type": "code",
   "execution_count": null,
   "metadata": {
    "deletable": false,
    "editable": false,
    "nbgrader": {
     "cell_type": "code",
     "checksum": "7fdc202dae283115e3917a5960573db3",
     "grade": true,
     "grade_id": "cell-8649f6bf29494e10",
     "locked": true,
     "points": 5,
     "schema_version": 3,
     "solution": false,
     "task": false
    }
   },
   "outputs": [],
   "source": [
    "# Test Cell\n",
    "# This cell has hidden test cases that will run after submission."
   ]
  },
  {
   "cell_type": "markdown",
   "metadata": {
    "deletable": false,
    "editable": false,
    "nbgrader": {
     "cell_type": "markdown",
     "checksum": "c1738fc2f4aead8af0f1a3b03565eaf6",
     "grade": false,
     "grade_id": "cell-05a232ad0af44391",
     "locked": true,
     "schema_version": 3,
     "solution": false,
     "task": false
    }
   },
   "source": [
    "#### 1. (b) Evaluation (5 points)\n",
    "\n",
    "Using your final model, determine how long we will have to wait before Ralphie lets everyone drink their beers, i.e. how long it will take for there to be $1$ centimeter of foam. Save your final answer in `time.pred`. It may be helpful to explicitly write out the formula for your model."
   ]
  },
  {
   "cell_type": "code",
   "execution_count": 7,
   "metadata": {
    "deletable": false,
    "nbgrader": {
     "cell_type": "code",
     "checksum": "ecf9e488c2f498a71d1a4b5bded27d12",
     "grade": false,
     "grade_id": "cell-5cc3e9081a4a1931",
     "locked": false,
     "schema_version": 3,
     "solution": true,
     "task": false
    }
   },
   "outputs": [
    {
     "data": {
      "text/plain": [
       "\n",
       "Call:\n",
       "lm(formula = log(foam.height) ~ time, data = beer.data)\n",
       "\n",
       "Coefficients:\n",
       "(Intercept)         time  \n",
       "   2.750073    -0.005847  \n"
      ]
     },
     "metadata": {},
     "output_type": "display_data"
    }
   ],
   "source": [
    "beer.lmod\n",
    "\n",
    "foam.pred = 1\n",
    "\n",
    "time.pred = (log(foam.pred)-beer.lmod$coefficient[1])/beer.lmod$coefficient[2]\n",
    "\n"
   ]
  },
  {
   "cell_type": "code",
   "execution_count": null,
   "metadata": {
    "deletable": false,
    "editable": false,
    "nbgrader": {
     "cell_type": "code",
     "checksum": "41dd05a85372cc5962f8a1d9ed73d541",
     "grade": true,
     "grade_id": "cell-a26561e59a032d96",
     "locked": true,
     "points": 5,
     "schema_version": 3,
     "solution": false,
     "task": false
    }
   },
   "outputs": [],
   "source": [
    "# Test Cell\n",
    "# This cell has hidden test cases that will run after submission."
   ]
  },
  {
   "cell_type": "markdown",
   "metadata": {
    "deletable": false,
    "editable": false,
    "nbgrader": {
     "cell_type": "markdown",
     "checksum": "4caba9fa66b7eb553afcfec77d8c34fd",
     "grade": false,
     "grade_id": "cell-cf1b36f1223ae548",
     "locked": true,
     "schema_version": 3,
     "solution": false,
     "task": false
    }
   },
   "source": [
    "## Problem 2: Assumptions Everywhere!\n",
    "\n",
    "For the following, you will be given a dataset. Each of the following parts will require you to create figures and models to identify whether the specified assumption holds for that dataset. Do not perform any transformations on the data. Answer `TRUE` if the assumption holds and `FALSE` if the plot show the assumption being violated."
   ]
  },
  {
   "cell_type": "markdown",
   "metadata": {
    "deletable": false,
    "editable": false,
    "nbgrader": {
     "cell_type": "markdown",
     "checksum": "bae99c981a6fc6c978d2b36c054df49d",
     "grade": false,
     "grade_id": "cell-ebdbb7da378a8635",
     "locked": true,
     "schema_version": 3,
     "solution": false,
     "task": false
    }
   },
   "source": [
    "#### 2. (a) Assumption: Linearity (8 points)"
   ]
  },
  {
   "cell_type": "code",
   "execution_count": 8,
   "metadata": {
    "deletable": false,
    "editable": false,
    "nbgrader": {
     "cell_type": "code",
     "checksum": "d28ceda6081c5b76bf2ab517579eceec",
     "grade": false,
     "grade_id": "cell-fb3b9bcf5e5418dd",
     "locked": true,
     "schema_version": 3,
     "solution": false,
     "task": false
    }
   },
   "outputs": [
    {
     "data": {
      "text/html": [
       "<table>\n",
       "<caption>A data.frame: 6 × 3</caption>\n",
       "<thead>\n",
       "\t<tr><th></th><th scope=col>x1</th><th scope=col>x2</th><th scope=col>y</th></tr>\n",
       "\t<tr><th></th><th scope=col>&lt;dbl&gt;</th><th scope=col>&lt;dbl&gt;</th><th scope=col>&lt;dbl&gt;</th></tr>\n",
       "</thead>\n",
       "<tbody>\n",
       "\t<tr><th scope=row>1</th><td>0</td><td>-100.00000</td><td> 0.000000</td></tr>\n",
       "\t<tr><th scope=row>2</th><td>1</td><td> -99.21875</td><td> 4.960667</td></tr>\n",
       "\t<tr><th scope=row>3</th><td>2</td><td> -98.43750</td><td> 2.178707</td></tr>\n",
       "\t<tr><th scope=row>4</th><td>3</td><td> -97.65625</td><td> 8.835020</td></tr>\n",
       "\t<tr><th scope=row>5</th><td>4</td><td> -96.87500</td><td>13.937901</td></tr>\n",
       "\t<tr><th scope=row>6</th><td>5</td><td> -96.09375</td><td>15.136433</td></tr>\n",
       "</tbody>\n",
       "</table>\n"
      ],
      "text/latex": [
       "A data.frame: 6 × 3\n",
       "\\begin{tabular}{r|lll}\n",
       "  & x1 & x2 & y\\\\\n",
       "  & <dbl> & <dbl> & <dbl>\\\\\n",
       "\\hline\n",
       "\t1 & 0 & -100.00000 &  0.000000\\\\\n",
       "\t2 & 1 &  -99.21875 &  4.960667\\\\\n",
       "\t3 & 2 &  -98.43750 &  2.178707\\\\\n",
       "\t4 & 3 &  -97.65625 &  8.835020\\\\\n",
       "\t5 & 4 &  -96.87500 & 13.937901\\\\\n",
       "\t6 & 5 &  -96.09375 & 15.136433\\\\\n",
       "\\end{tabular}\n"
      ],
      "text/markdown": [
       "\n",
       "A data.frame: 6 × 3\n",
       "\n",
       "| <!--/--> | x1 &lt;dbl&gt; | x2 &lt;dbl&gt; | y &lt;dbl&gt; |\n",
       "|---|---|---|---|\n",
       "| 1 | 0 | -100.00000 |  0.000000 |\n",
       "| 2 | 1 |  -99.21875 |  4.960667 |\n",
       "| 3 | 2 |  -98.43750 |  2.178707 |\n",
       "| 4 | 3 |  -97.65625 |  8.835020 |\n",
       "| 5 | 4 |  -96.87500 | 13.937901 |\n",
       "| 6 | 5 |  -96.09375 | 15.136433 |\n",
       "\n"
      ],
      "text/plain": [
       "  x1 x2         y        \n",
       "1 0  -100.00000  0.000000\n",
       "2 1   -99.21875  4.960667\n",
       "3 2   -98.43750  2.178707\n",
       "4 3   -97.65625  8.835020\n",
       "5 4   -96.87500 13.937901\n",
       "6 5   -96.09375 15.136433"
      ]
     },
     "metadata": {},
     "output_type": "display_data"
    }
   ],
   "source": [
    "# Load the data\n",
    "data.a = read.csv(\"prob.2.a.csv\", sep=\",\")\n",
    "head(data.a)"
   ]
  },
  {
   "cell_type": "code",
   "execution_count": null,
   "metadata": {
    "deletable": false,
    "nbgrader": {
     "cell_type": "code",
     "checksum": "bdf8bd59ff9b1073367548c052ca0b4f",
     "grade": false,
     "grade_id": "cell-c435eaf441ce1c94",
     "locked": false,
     "schema_version": 3,
     "solution": true,
     "task": false
    }
   },
   "outputs": [],
   "source": [
    "prob.2.a = TRUE #assign as TRUE or FALSE\n",
    "\n",
    "# your code here\n"
   ]
  },
  {
   "cell_type": "code",
   "execution_count": null,
   "metadata": {
    "deletable": false,
    "editable": false,
    "nbgrader": {
     "cell_type": "code",
     "checksum": "0bd1acb330a471b86d5a01b722f33448",
     "grade": true,
     "grade_id": "cell-d5281f4d3af075b4",
     "locked": true,
     "points": 8,
     "schema_version": 3,
     "solution": false,
     "task": false
    }
   },
   "outputs": [],
   "source": [
    "# Test Cell\n",
    "# This cell has hidden test cases that will run after submission."
   ]
  },
  {
   "cell_type": "markdown",
   "metadata": {
    "deletable": false,
    "editable": false,
    "nbgrader": {
     "cell_type": "markdown",
     "checksum": "25f127f28a5bace28b524b830b209294",
     "grade": false,
     "grade_id": "cell-63e8503656f2536b",
     "locked": true,
     "schema_version": 3,
     "solution": false,
     "task": false
    }
   },
   "source": [
    "#### 2. (b) Assumption: Homoskedasticity (8 points)"
   ]
  },
  {
   "cell_type": "code",
   "execution_count": 10,
   "metadata": {
    "deletable": false,
    "editable": false,
    "nbgrader": {
     "cell_type": "code",
     "checksum": "8326d684ceea3fcbc318887c701ca97e",
     "grade": false,
     "grade_id": "cell-1d62dd47594424d0",
     "locked": true,
     "schema_version": 3,
     "solution": false,
     "task": false
    }
   },
   "outputs": [
    {
     "data": {
      "text/html": [
       "<table>\n",
       "<caption>A data.frame: 6 × 2</caption>\n",
       "<thead>\n",
       "\t<tr><th></th><th scope=col>x</th><th scope=col>y</th></tr>\n",
       "\t<tr><th></th><th scope=col>&lt;dbl&gt;</th><th scope=col>&lt;dbl&gt;</th></tr>\n",
       "</thead>\n",
       "<tbody>\n",
       "\t<tr><th scope=row>1</th><td>-10.0</td><td>  58.55288</td></tr>\n",
       "\t<tr><th scope=row>2</th><td> -9.8</td><td>  70.94660</td></tr>\n",
       "\t<tr><th scope=row>3</th><td> -9.6</td><td> -10.93033</td></tr>\n",
       "\t<tr><th scope=row>4</th><td> -9.4</td><td> -45.34972</td></tr>\n",
       "\t<tr><th scope=row>5</th><td> -9.2</td><td>  60.58875</td></tr>\n",
       "\t<tr><th scope=row>6</th><td> -9.0</td><td>-181.79560</td></tr>\n",
       "</tbody>\n",
       "</table>\n"
      ],
      "text/latex": [
       "A data.frame: 6 × 2\n",
       "\\begin{tabular}{r|ll}\n",
       "  & x & y\\\\\n",
       "  & <dbl> & <dbl>\\\\\n",
       "\\hline\n",
       "\t1 & -10.0 &   58.55288\\\\\n",
       "\t2 &  -9.8 &   70.94660\\\\\n",
       "\t3 &  -9.6 &  -10.93033\\\\\n",
       "\t4 &  -9.4 &  -45.34972\\\\\n",
       "\t5 &  -9.2 &   60.58875\\\\\n",
       "\t6 &  -9.0 & -181.79560\\\\\n",
       "\\end{tabular}\n"
      ],
      "text/markdown": [
       "\n",
       "A data.frame: 6 × 2\n",
       "\n",
       "| <!--/--> | x &lt;dbl&gt; | y &lt;dbl&gt; |\n",
       "|---|---|---|\n",
       "| 1 | -10.0 |   58.55288 |\n",
       "| 2 |  -9.8 |   70.94660 |\n",
       "| 3 |  -9.6 |  -10.93033 |\n",
       "| 4 |  -9.4 |  -45.34972 |\n",
       "| 5 |  -9.2 |   60.58875 |\n",
       "| 6 |  -9.0 | -181.79560 |\n",
       "\n"
      ],
      "text/plain": [
       "  x     y         \n",
       "1 -10.0   58.55288\n",
       "2  -9.8   70.94660\n",
       "3  -9.6  -10.93033\n",
       "4  -9.4  -45.34972\n",
       "5  -9.2   60.58875\n",
       "6  -9.0 -181.79560"
      ]
     },
     "metadata": {},
     "output_type": "display_data"
    }
   ],
   "source": [
    "# Load the data\n",
    "b.data = read.csv(\"prob.2.b.csv\", sep=\",\")\n",
    "head(b.data)"
   ]
  },
  {
   "cell_type": "code",
   "execution_count": 12,
   "metadata": {
    "deletable": false,
    "nbgrader": {
     "cell_type": "code",
     "checksum": "735c40eb725b38c3f7e186de1b64300c",
     "grade": false,
     "grade_id": "cell-6ba278f7b2686f99",
     "locked": false,
     "schema_version": 3,
     "solution": true,
     "task": false
    }
   },
   "outputs": [
    {
     "data": {
      "image/png": "[encoded data removed]",
      "text/plain": [
       "plot without title"
      ]
     },
     "metadata": {
      "image/png": {
       "height": 420,
       "width": 420
      },
      "text/plain": {
       "height": 420,
       "width": 420
      }
     },
     "output_type": "display_data"
    }
   ],
   "source": [
    "ggplot(data = b.data, aes(x = x, y = y)) +\n",
    "  geom_point() +\n",
    "  xlab(\"x\") +\n",
    "  ylab(\"y\")\n",
    "\n",
    "\n",
    "prob.2.b = TRUE #assign as TRUE or FALSE\n",
    "\n",
    "# your code here\n"
   ]
  },
  {
   "cell_type": "code",
   "execution_count": null,
   "metadata": {
    "deletable": false,
    "editable": false,
    "nbgrader": {
     "cell_type": "code",
     "checksum": "2951b93c88fc12f1aca6030569c6cabe",
     "grade": true,
     "grade_id": "cell-77ebae2f5d6b087d",
     "locked": true,
     "points": 8,
     "schema_version": 3,
     "solution": false,
     "task": false
    }
   },
   "outputs": [],
   "source": [
    "# Test Cell\n",
    "# This cell has hidden test cases that will run after submission."
   ]
  },
  {
   "cell_type": "markdown",
   "metadata": {
    "deletable": false,
    "editable": false,
    "nbgrader": {
     "cell_type": "markdown",
     "checksum": "28ce942cbec554d76706ba244f7ab531",
     "grade": false,
     "grade_id": "cell-fe41576ed7eea48f",
     "locked": true,
     "schema_version": 3,
     "solution": false,
     "task": false
    }
   },
   "source": [
    "#### 2. (c) Assumption: Independent Errors (7 points)\n",
    "\n",
    "Hint: Use the successive residual plot for this question. "
   ]
  },
  {
   "cell_type": "code",
   "execution_count": 13,
   "metadata": {
    "deletable": false,
    "editable": false,
    "nbgrader": {
     "cell_type": "code",
     "checksum": "7a5beead559ab2410595bec4fb4952fd",
     "grade": false,
     "grade_id": "cell-37b31919ae84ecff",
     "locked": true,
     "schema_version": 3,
     "solution": false,
     "task": false
    }
   },
   "outputs": [
    {
     "data": {
      "text/html": [
       "<table>\n",
       "<caption>A data.frame: 6 × 2</caption>\n",
       "<thead>\n",
       "\t<tr><th></th><th scope=col>x</th><th scope=col>y</th></tr>\n",
       "\t<tr><th></th><th scope=col>&lt;int&gt;</th><th scope=col>&lt;dbl&gt;</th></tr>\n",
       "</thead>\n",
       "<tbody>\n",
       "\t<tr><th scope=row>1</th><td>-50</td><td>-75.58532</td></tr>\n",
       "\t<tr><th scope=row>2</th><td>-49</td><td>-41.14553</td></tr>\n",
       "\t<tr><th scope=row>3</th><td>-48</td><td>-73.32356</td></tr>\n",
       "\t<tr><th scope=row>4</th><td>-47</td><td>-72.03394</td></tr>\n",
       "\t<tr><th scope=row>5</th><td>-46</td><td>-55.83278</td></tr>\n",
       "\t<tr><th scope=row>6</th><td>-45</td><td>-15.12957</td></tr>\n",
       "</tbody>\n",
       "</table>\n"
      ],
      "text/latex": [
       "A data.frame: 6 × 2\n",
       "\\begin{tabular}{r|ll}\n",
       "  & x & y\\\\\n",
       "  & <int> & <dbl>\\\\\n",
       "\\hline\n",
       "\t1 & -50 & -75.58532\\\\\n",
       "\t2 & -49 & -41.14553\\\\\n",
       "\t3 & -48 & -73.32356\\\\\n",
       "\t4 & -47 & -72.03394\\\\\n",
       "\t5 & -46 & -55.83278\\\\\n",
       "\t6 & -45 & -15.12957\\\\\n",
       "\\end{tabular}\n"
      ],
      "text/markdown": [
       "\n",
       "A data.frame: 6 × 2\n",
       "\n",
       "| <!--/--> | x &lt;int&gt; | y &lt;dbl&gt; |\n",
       "|---|---|---|\n",
       "| 1 | -50 | -75.58532 |\n",
       "| 2 | -49 | -41.14553 |\n",
       "| 3 | -48 | -73.32356 |\n",
       "| 4 | -47 | -72.03394 |\n",
       "| 5 | -46 | -55.83278 |\n",
       "| 6 | -45 | -15.12957 |\n",
       "\n"
      ],
      "text/plain": [
       "  x   y        \n",
       "1 -50 -75.58532\n",
       "2 -49 -41.14553\n",
       "3 -48 -73.32356\n",
       "4 -47 -72.03394\n",
       "5 -46 -55.83278\n",
       "6 -45 -15.12957"
      ]
     },
     "metadata": {},
     "output_type": "display_data"
    }
   ],
   "source": [
    "# Load the data\n",
    "c.data = read.csv(\"prob.2.c.csv\", sep=\",\")\n",
    "head(c.data)"
   ]
  },
  {
   "cell_type": "code",
   "execution_count": 15,
   "metadata": {
    "deletable": false,
    "nbgrader": {
     "cell_type": "code",
     "checksum": "051aa47c50266a6b8c34d285d9991a37",
     "grade": false,
     "grade_id": "cell-832d360d70e79a36",
     "locked": false,
     "schema_version": 3,
     "solution": true,
     "task": false
    }
   },
   "outputs": [
    {
     "data": {
      "image/png": "[encoded data removed]",
      "text/plain": [
       "plot without title"
      ]
     },
     "metadata": {
      "image/png": {
       "height": 420,
       "width": 420
      },
      "text/plain": {
       "height": 420,
       "width": 420
      }
     },
     "output_type": "display_data"
    }
   ],
   "source": [
    "lm_model <- lm(y ~ x, data = c.data)\n",
    "residuals <- residuals(lm_model)\n",
    "plot(residuals, type = \"p\", ylab = \"Residuals\", xlab = \"Observation Order\")\n",
    "prob.2.c = TRUE # assign as TRUE or FALSE\n",
    "\n",
    "# your code here\n"
   ]
  },
  {
   "cell_type": "code",
   "execution_count": null,
   "metadata": {
    "deletable": false,
    "editable": false,
    "nbgrader": {
     "cell_type": "code",
     "checksum": "adeccad634f7136d8ddb1140f9c0790b",
     "grade": true,
     "grade_id": "cell-609d40aae6b149a7",
     "locked": true,
     "points": 7,
     "schema_version": 3,
     "solution": false,
     "task": false
    }
   },
   "outputs": [],
   "source": [
    "# Test Cell\n",
    "# This cell has hidden test cases that will run after submission."
   ]
  },
  {
   "cell_type": "markdown",
   "metadata": {
    "deletable": false,
    "editable": false,
    "nbgrader": {
     "cell_type": "markdown",
     "checksum": "12ed2179c6294e5190e87720eae092ec",
     "grade": false,
     "grade_id": "cell-68d6a3843b80fb6d",
     "locked": true,
     "schema_version": 3,
     "solution": false,
     "task": false
    }
   },
   "source": [
    "#### 2. (d) Assumption: Normaly Distributed Errors (7 points)"
   ]
  },
  {
   "cell_type": "code",
   "execution_count": 16,
   "metadata": {
    "deletable": false,
    "editable": false,
    "nbgrader": {
     "cell_type": "code",
     "checksum": "16fc50036880fa06a17d409b9706ca77",
     "grade": false,
     "grade_id": "cell-5428e77e0eb2e378",
     "locked": true,
     "schema_version": 3,
     "solution": false,
     "task": false
    }
   },
   "outputs": [
    {
     "data": {
      "text/html": [
       "<table>\n",
       "<caption>A data.frame: 6 × 2</caption>\n",
       "<thead>\n",
       "\t<tr><th></th><th scope=col>x</th><th scope=col>y</th></tr>\n",
       "\t<tr><th></th><th scope=col>&lt;int&gt;</th><th scope=col>&lt;dbl&gt;</th></tr>\n",
       "</thead>\n",
       "<tbody>\n",
       "\t<tr><th scope=row>1</th><td>  0</td><td>2054.1832</td></tr>\n",
       "\t<tr><th scope=row>2</th><td> 50</td><td>-832.9480</td></tr>\n",
       "\t<tr><th scope=row>3</th><td>100</td><td> 706.7434</td></tr>\n",
       "\t<tr><th scope=row>4</th><td>150</td><td>2811.1202</td></tr>\n",
       "\t<tr><th scope=row>5</th><td>200</td><td>5723.2467</td></tr>\n",
       "\t<tr><th scope=row>6</th><td>250</td><td>2384.0916</td></tr>\n",
       "</tbody>\n",
       "</table>\n"
      ],
      "text/latex": [
       "A data.frame: 6 × 2\n",
       "\\begin{tabular}{r|ll}\n",
       "  & x & y\\\\\n",
       "  & <int> & <dbl>\\\\\n",
       "\\hline\n",
       "\t1 &   0 & 2054.1832\\\\\n",
       "\t2 &  50 & -832.9480\\\\\n",
       "\t3 & 100 &  706.7434\\\\\n",
       "\t4 & 150 & 2811.1202\\\\\n",
       "\t5 & 200 & 5723.2467\\\\\n",
       "\t6 & 250 & 2384.0916\\\\\n",
       "\\end{tabular}\n"
      ],
      "text/markdown": [
       "\n",
       "A data.frame: 6 × 2\n",
       "\n",
       "| <!--/--> | x &lt;int&gt; | y &lt;dbl&gt; |\n",
       "|---|---|---|\n",
       "| 1 |   0 | 2054.1832 |\n",
       "| 2 |  50 | -832.9480 |\n",
       "| 3 | 100 |  706.7434 |\n",
       "| 4 | 150 | 2811.1202 |\n",
       "| 5 | 200 | 5723.2467 |\n",
       "| 6 | 250 | 2384.0916 |\n",
       "\n"
      ],
      "text/plain": [
       "  x   y        \n",
       "1   0 2054.1832\n",
       "2  50 -832.9480\n",
       "3 100  706.7434\n",
       "4 150 2811.1202\n",
       "5 200 5723.2467\n",
       "6 250 2384.0916"
      ]
     },
     "metadata": {},
     "output_type": "display_data"
    }
   ],
   "source": [
    "# Load the data\n",
    "d.data = read.csv(\"prob.2.d.csv\", sep=\",\")\n",
    "head(d.data)"
   ]
  },
  {
   "cell_type": "code",
   "execution_count": 17,
   "metadata": {
    "deletable": false,
    "nbgrader": {
     "cell_type": "code",
     "checksum": "3708cb7ea30cbc882c58696363619a97",
     "grade": false,
     "grade_id": "cell-400420de5dfc4964",
     "locked": false,
     "schema_version": 3,
     "solution": true,
     "task": false
    }
   },
   "outputs": [
    {
     "data": {
      "image/png": "[encoded data removed]",
      "text/plain": [
       "Plot with title “Histogram of Residuals”"
      ]
     },
     "metadata": {
      "image/png": {
       "height": 420,
       "width": 420
      },
      "text/plain": {
       "height": 420,
       "width": 420
      }
     },
     "output_type": "display_data"
    },
    {
     "data": {
      "image/png": "[encoded data removed]",
      "text/plain": [
       "Plot with title “Normal Q-Q Plot”"
      ]
     },
     "metadata": {
      "image/png": {
       "height": 420,
       "width": 420
      },
      "text/plain": {
       "height": 420,
       "width": 420
      }
     },
     "output_type": "display_data"
    }
   ],
   "source": [
    "lm_model <- lm(y ~ x, data = d.data)\n",
    "residuals <- residuals(lm_model)\n",
    "hist(residuals, main = \"Histogram of Residuals\")\n",
    "\n",
    "qqnorm(residuals)\n",
    "qqline(residuals)\n",
    "\n",
    "prob.2.d = FALSE #assign as TRUE or FALSE\n",
    "\n",
    "# your code here\n"
   ]
  },
  {
   "cell_type": "code",
   "execution_count": null,
   "metadata": {
    "deletable": false,
    "editable": false,
    "nbgrader": {
     "cell_type": "code",
     "checksum": "7b9b4ea17612d109c12e69908e9b02cf",
     "grade": true,
     "grade_id": "cell-4301e3e77e17e02e",
     "locked": true,
     "points": 7,
     "schema_version": 3,
     "solution": false,
     "task": false
    }
   },
   "outputs": [],
   "source": [
    "# Test Cell\n",
    "# This cell has hidden test cases that will run after submission."
   ]
  }
 ],
 "metadata": {
  "kernelspec": {
   "display_name": "R",
   "language": "R",
   "name": "ir"
  },
  "language_info": {
   "codemirror_mode": "r",
   "file_extension": ".r",
   "mimetype": "text/x-r-source",
   "name": "R",
   "pygments_lexer": "r",
   "version": "3.6.3"
  }
 },
 "nbformat": 4,
 "nbformat_minor": 4
}
