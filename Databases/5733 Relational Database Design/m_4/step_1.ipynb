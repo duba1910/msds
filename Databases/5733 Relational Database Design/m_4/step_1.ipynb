{
 "cells": [
  {
   "cell_type": "markdown",
   "id": "71bc5003-b2a2-46f8-9ebb-aa159e83a015",
   "metadata": {},
   "source": [
    "1. **Question 1**  \n",
    "Many students find normalization the hardest part of Relational Database Design. Do you agree? Why?  \n",
    "Yes, normalization can be challenging because it requires a deep understanding of data relationships and the ability to decompose complex datasets while maintaining data integrity and minimizing redundancy.\n",
    "\n",
    "2. **Question 2**  \n",
    "Are you comfortable recognizing functional dependencies? What is the best way to do that?  \n",
    "Yes, recognizing functional dependencies involves identifying the relationship between attributes, where one attribute uniquely determines another, and the best way is to thoroughly analyze the dataset and practice with various examples.\n",
    "\n",
    "3. **Question 3**  \n",
    "Are you comfortable recognizing normalization forms? What is the best way to do that?  \n",
    "Yes, recognizing normalization forms involves understanding the criteria for each normal form, and the best way to do that is by studying the definitions and applying them to different database schemas through practical exercises.\n",
    "\n",
    "4. **Question 4**  \n",
    "Are you comfortable normalizing relations to 3NF? What is the best way to do that?  \n",
    "Yes, normalizing to 3NF involves ensuring that all attributes are functionally dependent only on the primary key, and the best approach is to systematically eliminate transitive dependencies through step-by-step decomposition.\n",
    "\n",
    "5. **Question 5**  \n",
    "What is the most difficult part of this assignment?  \n",
    "The most difficult part of this assignment is understanding and correctly applying the rules of normalization to complex datasets while ensuring that data integrity and minimal redundancy are maintained."
   ]
  }
 ],
 "metadata": {
  "kernelspec": {
   "display_name": "Python 3 (ipykernel)",
   "language": "python",
   "name": "python3"
  },
  "language_info": {
   "codemirror_mode": {
    "name": "ipython",
    "version": 3
   },
   "file_extension": ".py",
   "mimetype": "text/x-python",
   "name": "python",
   "nbconvert_exporter": "python",
   "pygments_lexer": "ipython3",
   "version": "3.11.1"
  }
 },
 "nbformat": 4,
 "nbformat_minor": 5
}
