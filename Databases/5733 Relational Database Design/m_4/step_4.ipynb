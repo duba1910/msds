{
 "cells": [
  {
   "cell_type": "markdown",
   "id": "71bc5003-b2a2-46f8-9ebb-aa159e83a015",
   "metadata": {},
   "source": [
    "Convert the ERD to the Relational Model\n",
    "In step 3, we got:\n",
    "Now you can convert the ERD to a Relational Model."
   ]
  },
  {
   "cell_type": "markdown",
   "id": "cf268712",
   "metadata": {},
   "source": [
    "Convert the ERD to the Relational Model: Solutions\n",
    "Here is the relational model you converted from the ERD:\n",
    "\n",
    "Customers (CustomerID, FirstName, LastName, Address, Email, Phone, DoB, PaymentInfo, JoinDate, ReferredByCustomerID(fk)).\n",
    "\n",
    "Pets (CustomerID(fk), Pet#, NickName, Address, Email, Phone, Category, Species/Breed, Species/Breed Description, Gender, DoB, Notes). \n",
    "\n",
    "Staff (EmployeeID, FirstName, LastName, SSN, Address, Email, Phone, DoB, SupervisorID(fk)). \n",
    "\n",
    "Visit (VisitID, Date, Time, CustomerID(fk), Pet(fk), ServiceID, ServiceName, ServicePrice, ServiceDescription, EmployeeID(fk), Bill, Paid).\n",
    "\n",
    "Pets_Staff(CustomerID(fk), Pet#(fk),EmployeeID(fk))"
   ]
  }
 ],
 "metadata": {
  "kernelspec": {
   "display_name": "Python 3 (ipykernel)",
   "language": "python",
   "name": "python3"
  },
  "language_info": {
   "codemirror_mode": {
    "name": "ipython",
    "version": 3
   },
   "file_extension": ".py",
   "mimetype": "text/x-python",
   "name": "python",
   "nbconvert_exporter": "python",
   "pygments_lexer": "ipython3",
   "version": "3.11.1"
  }
 },
 "nbformat": 4,
 "nbformat_minor": 5
}
