{
 "cells": [
  {
   "cell_type": "markdown",
   "id": "71bc5003-b2a2-46f8-9ebb-aa159e83a015",
   "metadata": {},
   "source": [
    "Build the Entity Relationship Model\n",
    "Congratulations! Thanks to the efficient communication between Claire and you, now you understand the details of the business, and you are ready to write down narrative statements for your Entity Relationship Model. \n",
    "\n",
    "You should lay out your own assumptions and your own ER Model. \n"
   ]
  },
  {
   "cell_type": "markdown",
   "id": "44d2b244",
   "metadata": {},
   "source": [
    "Build the Entity Relationship Model: Solutions\n",
    "After several rounds of discussion, below is the one confirmed with the client. \n",
    "\n",
    "Note: Don't worry if your ER model is different than this one -- as long as you have clear assumptions, and your model is built up these assumptions).\n",
    "\n",
    "Here is what you summarized about the entities:\n",
    "\n",
    "Customers: CustomerID, FirstName, LastName, Address, Email, Phone, DoB, PaymentInfo, JoinDate. CustomerID is the identifier.\n",
    "\n",
    "Pets: CustomerID, Pet#, NickName, Address, Email, Phone, Category, Species/Breed, Species/Breed Description, Gender, DoB, Notes. CustomerID and Pet# together as the identifier.\n",
    "\n",
    "Staff: EmployeeID, FirstName, LastName, SSN, Address, Email, Phone, DoB. EmployeeID is the identifier.\n",
    "\n",
    "Visit: VisitID, Date, Time, Customer, Pet, ServiceID, ServiceName, ServicePrice, ServiceDescription, Staff, Bill, Paid. VisitID is the identifier.\n",
    "\n",
    "Their relationships are:\n",
    "\n",
    "A customer may have one or more (zero or more) pets; A pet must belong to one and only one (exactly one) customer.\n",
    "\n",
    "A staff may treat one or more pets (zero or more); and A pet may be familiar with one or more (zero or more) staff.\n",
    "\n",
    "A customer may have one or more (zero or more) visits; and each visit must be done by one and only one (exactly one) customer. \n",
    "\n",
    "A pet may have one or more (zero or more) visits; and each visit may involve one (zero or one) pet. \n",
    "\n",
    "A staff must be in charge of one or more (one or more) visits; and a visit must be charged by one and only one (exactly one) staff.\n",
    "\n",
    "A customer may be referred by one (zero or one) customer; and a customer may refer one or more (one or more) customers. \n",
    "\n",
    "A staff must have one and only one (exactly one) supervisor; A staff may supervise one or more (zero or more) staff."
   ]
  }
 ],
 "metadata": {
  "kernelspec": {
   "display_name": "Python 3 (ipykernel)",
   "language": "python",
   "name": "python3"
  },
  "language_info": {
   "codemirror_mode": {
    "name": "ipython",
    "version": 3
   },
   "file_extension": ".py",
   "mimetype": "text/x-python",
   "name": "python",
   "nbconvert_exporter": "python",
   "pygments_lexer": "ipython3",
   "version": "3.11.1"
  }
 },
 "nbformat": 4,
 "nbformat_minor": 5
}
