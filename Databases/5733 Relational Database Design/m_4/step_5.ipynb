{
 "cells": [
  {
   "cell_type": "markdown",
   "id": "71bc5003-b2a2-46f8-9ebb-aa159e83a015",
   "metadata": {},
   "source": [
    "Normalize the Relational Model to 3NF\n",
    "Before normalization, you should ask Claire about the Functional Dependencies of the relations. Here is what you got from her:\n",
    "\n",
    "Customers (CustomerID, FirstName, LastName, Address, Email, Phone, DoB, PaymentInfo, JoinDate, ReferredByCustomerID(fk)).\n",
    "\n",
    "FD1: CustomerID → FirstName, LastName, Address, Email, Phone, DoB, PaymentInfo, JoinDate, ReferredByCustomerID\n",
    "\n",
    "Pets (CustomerID(fk), Pet#, NickName, Address, Email, Phone, Category, Species/Breed, Species/Breed Description, Gender, DoB, Notes). \n",
    "\n",
    "FD1: CustomerID, Pet# → NickName, Address, Email, Phone, Category, Species/Breed, Species/Breed Description, Gender, DoB, Notes.\n",
    "\n",
    "FD2: CustomerID → Address, Email, Phone\n",
    "\n",
    "FD3: Species/Breed → Species/Breed Description\n",
    "\n",
    "Staff (EmployeeID, FirstName, LastName, SSN, Address, Email, Phone, DoB, SupervisorID(fk)). \n",
    "\n",
    "FD1: EmployeeID  → FirstName, LastName, SSN, Address, Email, Phone, DoB, SupervisorID\n",
    "\n",
    "Visit (VisitID, Date, Time, CustomerID(fk), Pet(fk), ServiceID, ServiceName, ServicePrice, ServiceDescription, EmployeeID(fk), Bill, Paid).\n",
    "\n",
    "FD1: VisitID → Date, Time, CustomerID, Pet, ServiceID, ServiceName, ServicePrice, ServiceDescription, EmployeeID, Bill, Paid\n",
    "\n",
    "FD2: ServiceID  → ServiceName, ServicePrice, ServiceDescription.\n",
    "\n",
    "Pets_Staff(CustomerID(fk), Pet#(fk),EmployeeID(fk))\n",
    "\n",
    "There is no non-primary-key attribute.\n",
    "\n",
    "Now you can normalize this Relational Model to 3NF."
   ]
  },
  {
   "cell_type": "markdown",
   "id": "cf268712",
   "metadata": {},
   "source": [
    "Normalize the Relational Model to 3NF: Solutions\n",
    "Here is the normalization process:\n",
    "\n",
    "Customers, Staff, and Pets_Staff relations are in 3NF, because they are in 1NF; they have no partial functional dependencies so they are in 2NF; and they have no transitive functional dependencies so they are in 3NF.\n",
    "\n",
    "Pets relation is in 1NF. However, it is not in 2NF because FD2: CustomerID → Address, Email, Phone. CustomerID as part of the primary key, determines non-primary-key attributes. This leads to a partial functional dependency. We need to normalize Pets to 2NF:\n",
    "\n",
    "Create a new relation to put CustomerID, Address, Email, Phone. Since Customer relation has these attributes, we can simply remove them from Pets, and keep CustomerID as a foreign key.\n",
    "\n",
    "Pets (CustomerID(fk), Pet#, NickName, Category, Species/Breed, Species/Breed Description, Gender, DoB, Notes). \n",
    "\n",
    "FD1: CustomerID, Pet# → NickName, Category, Species/Breed, Species/Breed Description, Gender, DoB, Notes.\n",
    "\n",
    "FD2: Species/Breed → Species/Breed Description\n",
    "\n",
    "Pets relation now is in 2NF. However, it is not in 3NF because of FD2: Species/Breed → Species/Breed Description. (CustomerID, Pet#) →Species/Breed, and Species/Breed → Species/Breed Description is a transitive functional dependency. We need to normalize Pets to 3NF:\n",
    "\n",
    "Create a new relation to put Species/Breed and Species/Breed Description and modify Pets: \n",
    "\n",
    "Species (Species/Breed, Species/Breed Description)\n",
    "\n",
    "FD1: Species/Breed → Species/Breed Description\n",
    "\n",
    "Pets (CustomerID(fk), Pet#, NickName, Category, Species/Breed(fk), Gender, DoB, Notes). \n",
    "\n",
    "FD1: CustomerID, Pet# → NickName, Category, Species/Breed, Gender, DoB, Notes.\n",
    "\n",
    "Now Pets relation is in 3NF.\n",
    "\n",
    "Visit relation is in 1NF, and 2NF. However, it is not in 3NF because of FD2: ServiceID  → ServiceName, ServicePrice, ServiceDescription. VisitID → ServiceID, and ServiceID  → ServiceName, ServicePrice, ServiceDescription is a transitive functional dependency. We need to normalize Visit to 3NF:\n",
    "\n",
    "Create a new relation to put ServiceID, ServiceName, ServicePrice, ServiceDescription and modify visit.\n",
    "\n",
    "Service (ServiceID, ServiceName, ServicePrice, ServiceDescription)\n",
    "\n",
    "FD1: ServiceID  → ServiceName, ServicePrice, ServiceDescription\n",
    "\n",
    "Visit (VisitID, Date, Time, CustomerID(fk), Pet(fk), ServiceID(fk), EmployeeID(fk), Bill, Paid).\n",
    "\n",
    "FD1: VisitID → Date, Time, CustomerID, Pet, ServiceID, EmployeeID, Bill, Paid"
   ]
  }
 ],
 "metadata": {
  "kernelspec": {
   "display_name": "Python 3 (ipykernel)",
   "language": "python",
   "name": "python3"
  },
  "language_info": {
   "codemirror_mode": {
    "name": "ipython",
    "version": 3
   },
   "file_extension": ".py",
   "mimetype": "text/x-python",
   "name": "python",
   "nbconvert_exporter": "python",
   "pygments_lexer": "ipython3",
   "version": "3.11.1"
  }
 },
 "nbformat": 4,
 "nbformat_minor": 5
}
