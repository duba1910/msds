{
 "cells": [
  {
   "cell_type": "markdown",
   "id": "71bc5003-b2a2-46f8-9ebb-aa159e83a015",
   "metadata": {},
   "source": [
    "Final Output for Implementation\n",
    "After the normalization process, summarize the relational model in 3NF."
   ]
  },
  {
   "cell_type": "markdown",
   "id": "cf268712",
   "metadata": {},
   "source": [
    "Final Output for Implementation: Solutions\n",
    "Now the final Relational Model in 3NF is as below:\n",
    "\n",
    "Customers (CustomerID, FirstName, LastName, Address, Email, Phone, DoB, PaymentInfo, JoinDate, ReferredByCustomerID(fk)).\n",
    "\n",
    "FD1: CustomerID → FirstName, LastName, Address, Email, Phone, DoB, PaymentInfo, JoinDate, ReferredByCustomerID\n",
    "\n",
    "Pets (CustomerID(fk), Pet#, NickName, Category, Species/Breed(fk), Gender, DoB, Notes). \n",
    "\n",
    "FD1: CustomerID, Pet# → NickName, Category, Species/Breed, Gender, DoB, Notes.\n",
    "\n",
    "Species (Species/Breed, Species/Breed Description)\n",
    "\n",
    "FD1: Species/Breed → Species/Breed Description\n",
    "\n",
    "Staff (EmployeeID, FirstName, LastName, SSN, Address, Email, Phone, DoB, SupervisorID(fk)). \n",
    "\n",
    "FD1: EmployeeID  → FirstName, LastName, SSN, Address, Email, Phone, DoB, SupervisorID\n",
    "\n",
    "Visit (VisitID, Date, Time, CustomerID(fk), Pet(fk), ServiceID(fk), EmployeeID(fk), Bill, Paid).\n",
    "\n",
    "FD1: VisitID → Date, Time, CustomerID, Pet, ServiceID, EmployeeID, Bill, Paid\n",
    "\n",
    "Service (ServiceID, ServiceName, ServicePrice, ServiceDescription)\n",
    "\n",
    "FD1: ServiceID  → ServiceName, ServicePrice, ServiceDescription\n",
    "\n",
    "Pets_Staff(CustomerID(fk), Pet#(fk),EmployeeID(fk))\n",
    "\n",
    "There is no non-primary-key attribute.\n",
    "\n",
    "\n",
    "Congratulations! Now you have a Relational Model in 3NF, and can be implemented as a real database. Good job!"
   ]
  }
 ],
 "metadata": {
  "kernelspec": {
   "display_name": "Python 3 (ipykernel)",
   "language": "python",
   "name": "python3"
  },
  "language_info": {
   "codemirror_mode": {
    "name": "ipython",
    "version": 3
   },
   "file_extension": ".py",
   "mimetype": "text/x-python",
   "name": "python",
   "nbconvert_exporter": "python",
   "pygments_lexer": "ipython3",
   "version": "3.11.1"
  }
 },
 "nbformat": 4,
 "nbformat_minor": 5
}
