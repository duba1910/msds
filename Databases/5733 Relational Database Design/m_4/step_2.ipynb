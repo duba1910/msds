{
 "cells": [
  {
   "cell_type": "markdown",
   "id": "71bc5003-b2a2-46f8-9ebb-aa159e83a015",
   "metadata": {},
   "source": [
    "Background\n",
    "Your client, PetsCare, is a local clinic that takes care of pets, including pet wellness and vaccination, medical services, surgery including spay and neuter, dental cleaning and treatment, grooming, etc. PetsCare has served the community for more than 20 years, and has been successful in the business.\n",
    "\n",
    "Recently, the current owner, Claire, who is the daughter of the founder of PetsCare, realized that the old file system solution is very inefficient. She and her team have to spend lots of time taking records, querying for information, and maintaining the data. She decided to turn to you, for a Relational Database Management System.\n",
    "\n",
    "PetsCare wants to record information about customers, pets, staff, visits. Claire will be available to meet via Zoom tomorrow to discuss details. You should prepare questions for building the DBMS.\n",
    "\n",
    "Task: What questions should you ask during the meeting?\n",
    "\n"
   ]
  },
  {
   "cell_type": "markdown",
   "id": "44d2b244",
   "metadata": {},
   "source": [
    "Background: Solutions\n",
    "You should prepare two categories of questions:\n",
    "\n",
    "The interest of the business, what information should be recorded, what might be the entities for holding the information, what might be used as identities, etc.\n",
    "\n",
    "The relationship of the entities, especially the mandatory/optional participation, and the cardinalities. We will need them to clear confusions and to create the Entity Relationship Model. "
   ]
  }
 ],
 "metadata": {
  "kernelspec": {
   "display_name": "Python 3 (ipykernel)",
   "language": "python",
   "name": "python3"
  },
  "language_info": {
   "codemirror_mode": {
    "name": "ipython",
    "version": 3
   },
   "file_extension": ".py",
   "mimetype": "text/x-python",
   "name": "python",
   "nbconvert_exporter": "python",
   "pygments_lexer": "ipython3",
   "version": "3.11.1"
  }
 },
 "nbformat": 4,
 "nbformat_minor": 5
}
