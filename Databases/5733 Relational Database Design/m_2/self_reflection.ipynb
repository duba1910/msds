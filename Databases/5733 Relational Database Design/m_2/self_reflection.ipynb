{
 "cells": [
  {
   "cell_type": "markdown",
   "id": "14d4d5fe",
   "metadata": {},
   "source": [
    "Question 1\n",
    "How do you feel about using Relational Models? Why do we need relational models?\n",
    "\n",
    "\n",
    "I feel that using relational models is essential for structuring data efficiently and ensuring data integrity. Relational models are needed because they provide a clear and organized way to represent relationships between different pieces of data, making it easier to manage and query the information.\n",
    "\n",
    "Question 2\n",
    "How do you feel about Relational Schemas? They are between natural language and programming language. Are you comfortable with them?\n",
    "\n",
    "\n",
    "I find relational schemas very useful as they bridge the gap between human-readable descriptions and machine-executable code. Being comfortable with them is important because they help in accurately translating real-world scenarios into a database structure that can be effectively queried and manipulated.\n",
    "\n",
    "Question 3\n",
    "How do you feel about the translation from ERDs to Relational Models? What are the key points to convert a 1 to N binary relationship?\n",
    "\n",
    "\n",
    "Translating from ERDs to relational models requires careful attention to detail to ensure all relationships and attributes are accurately represented. Key points to convert a 1 to N binary relationship include identifying the primary key of the \"1\" entity and incorporating it as a foreign key in the \"N\" entity's table.\n",
    "\n",
    "Question 4\n",
    "What are the key points to convert a N to N binary relationship?\n",
    "\n",
    "\n",
    "Converting an N to N binary relationship involves creating a new junction table that holds foreign keys referencing the primary keys of both related entities. This junction table allows the database to efficiently manage many-to-many relationships by linking instances of each entity.\n",
    "\n",
    "Question 5\n",
    "What is the most difficult part of this assignment?\n",
    "\n",
    "\n",
    "The most difficult part of this assignment is simplifying complex database concepts into clear and concise explanations. Balancing technical accuracy with accessibility for those unfamiliar with database terminology can be particularly challenging."
   ]
  }
 ],
 "metadata": {
  "kernelspec": {
   "display_name": "Python 3 (ipykernel)",
   "language": "python",
   "name": "python3"
  },
  "language_info": {
   "codemirror_mode": {
    "name": "ipython",
    "version": 3
   },
   "file_extension": ".py",
   "mimetype": "text/x-python",
   "name": "python",
   "nbconvert_exporter": "python",
   "pygments_lexer": "ipython3",
   "version": "3.11.1"
  }
 },
 "nbformat": 4,
 "nbformat_minor": 5
}
