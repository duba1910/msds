{
 "cells": [
  {
   "cell_type": "markdown",
   "id": "c405173c",
   "metadata": {},
   "source": [
    "\n",
    "Question 1\n",
    "How do you feel about using Relational Database to store data? Explain it to your neighbor who doesn't know Relational Databases at all.\n",
    "\n",
    "\n",
    "Using a relational database is like organizing information in neatly labeled folders in a filing cabinet. It makes storing, managing, and retrieving data efficient by using tables with predefined relationships between them.\n",
    "\n",
    "Question 2\n",
    "Describe the key concepts in Entity Relationship Models, again, to your lovely neighbor. You don't need to explain everything in detail -- just use one slide!\n",
    "\n",
    "\n",
    "Entity Relationship Models consist of entities, which represent objects or concepts, relationships, which show how entities are connected, and attributes, which describe properties of entities.\n",
    "\n",
    "Question 3\n",
    "Now let's use a real-life example to explain what entities are\n",
    "\n",
    "\n",
    "Imagine a library system. In this system, some entities could be:\n",
    "\n",
    "Books: Representing each book in the library with attributes like title, author, and ISBN.\n",
    "Members: Representing people who borrow books with attributes like member ID, name, and contact information.\n",
    "Loans: Representing the borrowing activity with attributes like loan date, return date, and the member and book involved.\n",
    "\n",
    "These entities help organize and manage the library's data efficiently.\n",
    "\n",
    "Question 4\n",
    "Now let's use a real-life example to explain what relationships are\n",
    "\n",
    "\n",
    "Borrowing: A relationship between the Members entity and the Books entity, showing which member has borrowed which book.\n",
    "Authorship: A relationship between the Authors entity and the Books entity, showing which author has written which book.\n",
    "Reservation: A relationship between the Members entity and the Books entity, indicating which member has reserved which book.\n",
    "\n",
    "Question 5\n",
    "What is the most difficult part of this assignment?\n",
    "\n",
    "\n",
    "simplifying complex database concepts, such as entities and relationships, into concise and easily understandable real-life examples. Ensuring clarity and avoiding technical jargon while maintaining accuracy can be challenging."
   ]
  }
 ],
 "metadata": {
  "kernelspec": {
   "display_name": "Python 3 (ipykernel)",
   "language": "python",
   "name": "python3"
  },
  "language_info": {
   "codemirror_mode": {
    "name": "ipython",
    "version": 3
   },
   "file_extension": ".py",
   "mimetype": "text/x-python",
   "name": "python",
   "nbconvert_exporter": "python",
   "pygments_lexer": "ipython3",
   "version": "3.9.12"
  }
 },
 "nbformat": 4,
 "nbformat_minor": 5
}
