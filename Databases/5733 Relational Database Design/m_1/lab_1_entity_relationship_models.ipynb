{
 "cells": [
  {
   "cell_type": "markdown",
   "id": "a63fd922",
   "metadata": {},
   "source": [
    "## Lab 1: Prepare the Entity Relationship Model for discussion.\n",
    "\n",
    "### Lab 1 is to help you \"think as a Database Designer\". \n",
    "\n",
    "You should know clearly what you need to design a database. Thus, the questions you should ask your client, are all about what are the major interest of their business, what are the characteristics of these entities, how to identify them, and what are the possible relationship among them. You should prepare carefully, so when you go back and work on the Entity Relationship Model, you know everything. Of course, in real life, there will be multiple rounds of discussions, clarifications, and sometimes you even need to help your clients to better understand their business.\n",
    "\n",
    "Below you have three small cases. For each of them, think about the scenario, try yourself to lay down your assumptions, and create an Entity Relationship Model based on your assumption - there is no wrong answer, as long as you can make sense of it. Once you finish, you can move on to read the solutions. The solutions are among many possible Entity Relationship Models, thus, it is absolutely fine to be different."
   ]
  },
  {
   "cell_type": "markdown",
   "id": "e510a549",
   "metadata": {},
   "source": [
    "### Case 1: PizzaHot\n",
    "\n",
    "Story:\n",
    "\n",
    "Your client is a local fast food restaurant - PizzaHot. The background story is as below:\n",
    "\n",
    "PizzaHot is a local restaurant serving the community and bringing people happiness. Recent years, PizzaHot is adopting a franchising strategy and is moving towards a chain-restaurant in the State. A database system for Inner Management is crucial for the expansion of the business. \n",
    "\n",
    "The information needed is: \n",
    "- Stores: including ID, name, location, contact information.\n",
    "- Employees: including ID, SSN, name, gender, DoB, position, salary, AffiliateStore.\n",
    "- Vendors: including name, address, contactPerson\n",
    "- Products: including name, Vendor, price, quantity\n",
    "\n",
    "### Task:\n",
    "\n",
    "Based on your understanding so far, what are the entities, attributes, identifiers, and relationships in the Entity Relationship Model? You can lay out the initial outline here, and the owner will meet with you to answer your questions.\n"
   ]
  },
  {
   "cell_type": "markdown",
   "id": "5a9dc846",
   "metadata": {},
   "source": [
    "## Answer: "
   ]
  },
  {
   "cell_type": "markdown",
   "id": "bbe37e95",
   "metadata": {},
   "source": [
    "### Entities:\n",
    "- Stores\n",
    "- Employees\n",
    "- Vendors\n",
    "- Products\n",
    "\n",
    "\n",
    "### Attributes: \n",
    "- Stores: including ID, name, location, contact information.\n",
    "- Employees: including ID, SSN, name, gender, DoB, position, salary, AffiliateStore.\n",
    "- Vendors: including name, address, contactPerson\n",
    "- Products: including name, Vendor, price, quantity\n",
    "\n",
    "\n",
    "### Identifiers:\n",
    "- id\n",
    "- id, SSN\n",
    "- ADDRESS\n",
    "- \n",
    "\n",
    "\n",
    "### Relationships:\n",
    "- A store may have many employees, and one employee must work for one store.\n",
    "\n",
    "- A store may sell many products, and each product can be sold at many stores.\n",
    "\n",
    "- A product must belong to one and only one vendor, and a vendor may provide one or more products.\n",
    "\n",
    "- An employee must be supervised by another employee,  and an employee may supervise many other employees."
   ]
  },
  {
   "cell_type": "markdown",
   "id": "33681c71",
   "metadata": {},
   "source": [
    "--- "
   ]
  },
  {
   "cell_type": "markdown",
   "id": "14e76a87",
   "metadata": {},
   "source": [
    "### Case 2: TrueTrade\n",
    "Story:\n",
    "\n",
    "Your client is a stock-exchange company. The background story is as below:\n",
    "\n",
    "TrueTrade provides excellent financial services to customers all over the world. Customers can buy/sell stock via TrueTrade  easily and securely. TrueTrade also provides detailed information for every stock so customers can make the best decision.\n",
    "\n",
    "The information needed for TrueTrade is:\n",
    "- Stocks: including stock#, companyName, ExchangeMarket, Description\n",
    "- Customers: including CustomerID, Name, Contact\n",
    "- Portfolio: including CustomerName, currentValue\n",
    "- Logs: including stock#, openPrice, closePrice, date\n",
    "- Transactions: CustomerID, Portfolio, stock, quantity, price, date, time.\n",
    "\n",
    "### Task:\n",
    "\n",
    "Based on your understanding so far, what are the entities, attributes, identifiers, and relationships in the Entity Relationship Model? You can lay out the initial outline here, and the owner will meet with you to answer your questions."
   ]
  },
  {
   "cell_type": "markdown",
   "id": "4f7f0811",
   "metadata": {},
   "source": [
    "## Answer: "
   ]
  },
  {
   "cell_type": "markdown",
   "id": "bca997a0",
   "metadata": {},
   "source": [
    "### Entities:\n",
    "\n",
    "\n",
    "### Attributes:\n",
    "\n",
    "\n",
    "### Identifiers\n",
    "\n",
    "### Relationships"
   ]
  },
  {
   "cell_type": "markdown",
   "id": "63718283",
   "metadata": {},
   "source": [
    "--- "
   ]
  },
  {
   "cell_type": "markdown",
   "id": "bae902c7",
   "metadata": {},
   "source": [
    "### Case 3: MiniLibrary\n",
    "Story:\n",
    "\n",
    "Your client is a non-profit organization MiniLibrary. The background story is as below:\n",
    "\n",
    "MiniLibrary is an organization that promotes neighborhood book exchanges. It has more than 3,000 bookcases around the city. \n",
    "\n",
    "The information you need to collect and records is:\n",
    "- Books, including ISBN#, COPY#, Title, Author1, Author2, Year, Publisher.\n",
    "- BookCases, including Case#, Street, County\n",
    "- Users, including UserID, Name, Address, Contact\n",
    "- Log: BookInfo, UserInfo, BookCaseInfo, TimeStamp, Borrow/Return \n",
    "\n",
    "### Task:\n",
    "\n",
    "Based on your understanding so far, what are the entities, attributes, identifiers, and relationships in the Entity Relationship Model? You can lay out the initial outline here, and the owner will meet with you to answer your questions."
   ]
  },
  {
   "cell_type": "markdown",
   "id": "f67ed309",
   "metadata": {},
   "source": [
    "## Answer:"
   ]
  },
  {
   "cell_type": "markdown",
   "id": "410fb57a",
   "metadata": {},
   "source": [
    "### Entities:\n",
    "\n",
    "\n",
    "### Attributes:\n",
    "\n",
    "\n",
    "### Identifiers\n",
    "\n",
    "\n",
    "### Relationships"
   ]
  },
  {
   "cell_type": "code",
   "execution_count": null,
   "id": "224e023b",
   "metadata": {},
   "outputs": [],
   "source": []
  }
 ],
 "metadata": {
  "kernelspec": {
   "display_name": "Python 3 (ipykernel)",
   "language": "python",
   "name": "python3"
  },
  "language_info": {
   "codemirror_mode": {
    "name": "ipython",
    "version": 3
   },
   "file_extension": ".py",
   "mimetype": "text/x-python",
   "name": "python",
   "nbconvert_exporter": "python",
   "pygments_lexer": "ipython3",
   "version": "3.9.12"
  }
 },
 "nbformat": 4,
 "nbformat_minor": 5
}
