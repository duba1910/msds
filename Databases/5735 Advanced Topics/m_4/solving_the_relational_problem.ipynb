{
 "cells": [
  {
   "cell_type": "markdown",
   "id": "e8d66578",
   "metadata": {},
   "source": [
    "What is the “relational problem”? What has triggered this problem?\n",
    "\n",
    "The \"relational problem\" refers to the inability of traditional relational database systems to effectively handle the massive volume, velocity, and variety of Big Data. This problem is triggered by the exponential growth of unstructured data, the need for real-time data processing, and the increasing demand for high-speed analytics, which expose the limitations of relational databases' rigid structure and ACID compliance.\n",
    "\n",
    "\n",
    "Describe the trade-offs faced by system designers when solving the relational problem.\n",
    "\n",
    "System designers must balance data consistency against performance and speed; maintaining strict ACID compliance ensures data integrity but can slow down processing. They must also weigh the complexity and cost of scaling up existing relational systems against the learning curve and potential disruption of adopting new NoSQL technologies. Additionally, leveraging existing infrastructure and staff expertise may favor enhancing current systems, while the need for flexibility and handling unstructured data might push towards NoSQL solutions."
   ]
  }
 ],
 "metadata": {
  "kernelspec": {
   "display_name": "Python 3 (ipykernel)",
   "language": "python",
   "name": "python3"
  },
  "language_info": {
   "codemirror_mode": {
    "name": "ipython",
    "version": 3
   },
   "file_extension": ".py",
   "mimetype": "text/x-python",
   "name": "python",
   "nbconvert_exporter": "python",
   "pygments_lexer": "ipython3",
   "version": "3.11.1"
  }
 },
 "nbformat": 4,
 "nbformat_minor": 5
}
