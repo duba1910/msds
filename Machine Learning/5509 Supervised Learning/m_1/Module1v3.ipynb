{
 "cells": [
  {
   "cell_type": "markdown",
   "metadata": {
    "deletable": false,
    "editable": false,
    "nbgrader": {
     "cell_type": "markdown",
     "checksum": "9d80341db7baace5045a5826cd783d0f",
     "grade": false,
     "grade_id": "cell-0b5b35a96a71be61",
     "locked": true,
     "schema_version": 3,
     "solution": false,
     "task": false
    }
   },
   "source": [
    "### Grading\n",
    "The final score that you will receive for your programming assignment is generated in relation to the total points set in your programming assignment item—not the total point value in the nbgrader notebook.<br>\n",
    "When calculating the final score shown to learners, the programming assignment takes the percentage of earned points vs. the total points provided by nbgrader and returns a score matching the equivalent percentage of the point value for the programming assignment. <br>\n",
    "**DO NOT CHANGE VARIABLE OR METHOD SIGNATURES** The autograder will not work properly if your change the variable or method signatures. "
   ]
  },
  {
   "cell_type": "markdown",
   "metadata": {
    "deletable": false,
    "editable": false,
    "nbgrader": {
     "cell_type": "markdown",
     "checksum": "442b24fad7b1ec9e60cc91bef0989733",
     "grade": false,
     "grade_id": "cell-394c67dc171e7069",
     "locked": true,
     "schema_version": 3,
     "solution": false,
     "task": false
    }
   },
   "source": [
    "### WARNING\n",
    "Please refrain from using **print statements/anything that dumps large outputs(>1000 lines) to STDOUT** to avoid running to into **memory issues**. \n",
    "Doing so requires your entire lab to be reset which may also result in loss of progress and you will be required to reach out to Coursera for assistance with this.\n",
    "This process usually takes time causing delays to your submission."
   ]
  },
  {
   "cell_type": "markdown",
   "metadata": {},
   "source": [
    "### Validate Button\n",
    "Please note that this assignment uses nbgrader to facilitate grading. You will see a **validate button** at the top of your Jupyter notebook. If you hit this button, it will run tests cases for the lab that aren't hidden. It is good to use the validate button before submitting the lab. Do know that the labs in the course contain hidden test cases. The validate button will not let you know whether these test cases pass. After submitting your lab, you can see more information about these hidden test cases in the Grader Output. <br>\n",
    "***Cells with longer execution times will cause the validate button to time out and freeze. Please know that if you run into Validate time-outs, it will not affect the final submission grading.*** <br>"
   ]
  },
  {
   "cell_type": "markdown",
   "metadata": {
    "deletable": false,
    "editable": false,
    "nbgrader": {
     "cell_type": "markdown",
     "checksum": "2c563e0f0ef4ec84a88c0d6a5052f7e8",
     "grade": false,
     "grade_id": "cell-3a0e60201d41e0cc",
     "locked": true,
     "schema_version": 3,
     "solution": false,
     "task": false
    }
   },
   "source": [
    "# EDA, Simple Linear Regression\n",
    "\n",
    "In this assignment, we will use a simplified data and create a simple linear regression model. The dataset can be downloaded from https://www.kaggle.com/harlfoxem/housesalesprediction/download.    \n",
    "This dataset contains house sale prices for Kings County, which includes Seattle. It includes homes sold between May 2014 and May 2015. There are several versions of the data. Some additional information about the columns is available here: https://geodacenter.github.io/data-and-lab/KingCounty-HouseSales2015/, some of which are copied below.\n",
    "\n",
    "|Variable |\tDescription|\n",
    "|:---------|:-------------|\n",
    "|id \t|Identification|\n",
    "|date |\tDate sold|\n",
    "|price |\tSale price|\n",
    "|bedrooms |\tNumber of bedrooms|\n",
    "|bathrooms |\tNumber of bathrooms|\n",
    "|sqft_liv |\tSize of living area in square feet|\n",
    "|sqft_lot| \tSize of the lot in square feet|\n",
    "|floors |\tNumber of floors|\n",
    "|waterfront |\t‘1’ if the property has a waterfront, ‘0’ if not.|\n",
    "|view |\tAn index from 0 to 4 of how good the view of the property was|\n",
    "|condition |\tCondition of the house, ranked from 1 to 5|\n",
    "|grade |\tClassification by construction quality which refers to the types of materials used and the quality of workmanship. Buildings of better quality (higher grade) cost more to build per unit of measure and command higher value.|\n",
    "|sqft_above |\tSquare feet above ground|\n",
    "|sqft_basmt |\tSquare feet below ground|\n",
    "|yr_built \t|Year built|\n",
    "|yr_renov |\tYear renovated. ‘0’ if never renovated|\n",
    "|zipcode |\t5 digit zip code|\n",
    "|lat \t|Latitude|\n",
    "|long \t|Longitude|\n",
    "|squft_liv15 |\tAverage size of interior housing living space for the closest 15 houses, in square feet|\n",
    "|squft_lot15 |\tAverage size of land lost for the closest 15 houses, in square feet|"
   ]
  },
  {
   "cell_type": "code",
   "execution_count": 1,
   "metadata": {
    "deletable": false,
    "editable": false,
    "nbgrader": {
     "cell_type": "code",
     "checksum": "618f5da678b36c8a3182068e76b17c60",
     "grade": false,
     "grade_id": "cell-4164737ecf84807d",
     "locked": true,
     "schema_version": 3,
     "solution": false,
     "task": false
    }
   },
   "outputs": [],
   "source": [
    "import scipy as sp\n",
    "import scipy.stats as stats\n",
    "import pandas as pd\n",
    "import numpy as np\n",
    "import matplotlib.pyplot as plt\n",
    "import seaborn as sns\n",
    "import copy\n",
    "# Set color map to have light blue background\n",
    "sns.set()\n",
    "import statsmodels.formula.api as smf\n",
    "import statsmodels.api as sm\n",
    "%matplotlib inline"
   ]
  },
  {
   "cell_type": "markdown",
   "metadata": {
    "deletable": false,
    "editable": false,
    "nbgrader": {
     "cell_type": "markdown",
     "checksum": "6d5e15869b9baebb2f59aa40dd939065",
     "grade": false,
     "grade_id": "cell-c33b5dc42c5783b2",
     "locked": true,
     "schema_version": 3,
     "solution": false,
     "task": false
    }
   },
   "source": [
    "## 1. Munging data [15 pts]\n",
    "In this part, let's load and inspect data. We will also learn how to transform columns when needed.\n",
    "\n",
    "> 💡***Tip:***   `pd.read_csv(<file path>)` reads a csv file and returns to pandas data frame object. It can also read files with other delimiter such as `.tsv` files. pandas also has `pd.read_excel` to read excel files.\n",
    "[See more in the document](https://pandas.pydata.org/docs/reference/api/pandas.read_csv.html)"
   ]
  },
  {
   "cell_type": "code",
   "execution_count": 3,
   "metadata": {
    "deletable": false,
    "editable": false,
    "nbgrader": {
     "cell_type": "code",
     "checksum": "699477ae012b8f8082a2ec5b33c9be02",
     "grade": false,
     "grade_id": "cell-ab53fad4700fc069",
     "locked": true,
     "schema_version": 3,
     "solution": false,
     "task": false
    }
   },
   "outputs": [],
   "source": [
    "df = pd.read_csv('data/house_data_washington.csv')"
   ]
  },
  {
   "cell_type": "markdown",
   "metadata": {
    "deletable": false,
    "editable": false,
    "nbgrader": {
     "cell_type": "markdown",
     "checksum": "062d2f74dae5c3a68722dc040f4aaf74",
     "grade": false,
     "grade_id": "cell-b9c982194d2d0f40",
     "locked": true,
     "schema_version": 3,
     "solution": false,
     "task": false
    }
   },
   "source": [
    "### 1a) Date string to numbers [5 pts]\n",
    "Now, let's overview the dataframe. Using `.head()` on the dataframe, we can see the first 5 rows of the data. You can specify number of rows as argument then it will show those number of rows. similarly, `.tail()` gives the last 5 rows by default. You can see the columns names, but not all columns are displayed if there are too many columns.  \n",
    "\n",
    "> 💡***Tip:*** If you want to show all columns and rows, there are [pandas command](https://www.geeksforgeeks.org/show-all-columns-of-pandas-dataframe-in-jupyter-notebook/#) setting max rows and cols. Please do not submit your homework notebook with displaying large dataframe because it may crash from large memory consumption.  \n",
    "\n",
    "The column 'date' is the date sold (with some black timestamp as well), and the data is string type (Note that sometimes data tables may have date/time columns as datetime object types. In this example data, it has a string type). We will extract year and month information from the string. \n",
    "In the data frame `df`, let's create new features 'sales_year' and 'sales_month' using 'date' column.\n",
    "\n",
    "> 💡***Tip:***  You can use either bracket (e.g. `df['date']`) or dot (e.g. `df.date`) to get the column `'date'` in the data frame `df`. A single columns object from dataframe is a pandas series object type, and you can use `.apply()` method for a transformation. `.apply()` is generic and can be applied to not only to single column (pandas series) but also to multiple columns (pandas dataframe). Here, we will apply it to a single column object and use `lambda` function inside the .`apply()` as shown below. For more examples, see the [doc](https://pandas.pydata.org/docs/reference/api/pandas.DataFrame.apply.html).  \n",
    "\n",
    "In this case, when we inspect the 'date' column, it is a string object, so we can slice the year and month from the string. Also, we'd like to convert the extracted year and month strings to ingeters."
   ]
  },
  {
   "cell_type": "code",
   "execution_count": 4,
   "metadata": {
    "deletable": false,
    "editable": false,
    "nbgrader": {
     "cell_type": "code",
     "checksum": "eade966c196011678b9e2c315d645479",
     "grade": false,
     "grade_id": "cell-6bd0db7208317c83",
     "locked": true,
     "schema_version": 3,
     "solution": false,
     "task": false
    }
   },
   "outputs": [
    {
     "data": {
      "text/html": [
       "<div>\n",
       "<style scoped>\n",
       "    .dataframe tbody tr th:only-of-type {\n",
       "        vertical-align: middle;\n",
       "    }\n",
       "\n",
       "    .dataframe tbody tr th {\n",
       "        vertical-align: top;\n",
       "    }\n",
       "\n",
       "    .dataframe thead th {\n",
       "        text-align: right;\n",
       "    }\n",
       "</style>\n",
       "<table border=\"1\" class=\"dataframe\">\n",
       "  <thead>\n",
       "    <tr style=\"text-align: right;\">\n",
       "      <th></th>\n",
       "      <th>id</th>\n",
       "      <th>date</th>\n",
       "      <th>price</th>\n",
       "      <th>bedrooms</th>\n",
       "      <th>bathrooms</th>\n",
       "      <th>sqft_living</th>\n",
       "      <th>sqft_lot</th>\n",
       "      <th>floors</th>\n",
       "      <th>waterfront</th>\n",
       "      <th>view</th>\n",
       "      <th>...</th>\n",
       "      <th>grade</th>\n",
       "      <th>sqft_above</th>\n",
       "      <th>sqft_basement</th>\n",
       "      <th>yr_built</th>\n",
       "      <th>yr_renovated</th>\n",
       "      <th>zipcode</th>\n",
       "      <th>lat</th>\n",
       "      <th>long</th>\n",
       "      <th>sqft_living15</th>\n",
       "      <th>sqft_lot15</th>\n",
       "    </tr>\n",
       "  </thead>\n",
       "  <tbody>\n",
       "    <tr>\n",
       "      <th>0</th>\n",
       "      <td>7129300520</td>\n",
       "      <td>20141013T000000</td>\n",
       "      <td>221900</td>\n",
       "      <td>3</td>\n",
       "      <td>1.00</td>\n",
       "      <td>1180</td>\n",
       "      <td>5650</td>\n",
       "      <td>1.0</td>\n",
       "      <td>0</td>\n",
       "      <td>0</td>\n",
       "      <td>...</td>\n",
       "      <td>7</td>\n",
       "      <td>1180</td>\n",
       "      <td>0</td>\n",
       "      <td>1955</td>\n",
       "      <td>0</td>\n",
       "      <td>98178</td>\n",
       "      <td>47.5112</td>\n",
       "      <td>-122.257</td>\n",
       "      <td>1340</td>\n",
       "      <td>5650</td>\n",
       "    </tr>\n",
       "    <tr>\n",
       "      <th>1</th>\n",
       "      <td>6414100192</td>\n",
       "      <td>20141209T000000</td>\n",
       "      <td>538000</td>\n",
       "      <td>3</td>\n",
       "      <td>2.25</td>\n",
       "      <td>2570</td>\n",
       "      <td>7242</td>\n",
       "      <td>2.0</td>\n",
       "      <td>0</td>\n",
       "      <td>0</td>\n",
       "      <td>...</td>\n",
       "      <td>7</td>\n",
       "      <td>2170</td>\n",
       "      <td>400</td>\n",
       "      <td>1951</td>\n",
       "      <td>1991</td>\n",
       "      <td>98125</td>\n",
       "      <td>47.7210</td>\n",
       "      <td>-122.319</td>\n",
       "      <td>1690</td>\n",
       "      <td>7639</td>\n",
       "    </tr>\n",
       "    <tr>\n",
       "      <th>2</th>\n",
       "      <td>5631500400</td>\n",
       "      <td>20150225T000000</td>\n",
       "      <td>180000</td>\n",
       "      <td>2</td>\n",
       "      <td>1.00</td>\n",
       "      <td>770</td>\n",
       "      <td>10000</td>\n",
       "      <td>1.0</td>\n",
       "      <td>0</td>\n",
       "      <td>0</td>\n",
       "      <td>...</td>\n",
       "      <td>6</td>\n",
       "      <td>770</td>\n",
       "      <td>0</td>\n",
       "      <td>1933</td>\n",
       "      <td>0</td>\n",
       "      <td>98028</td>\n",
       "      <td>47.7379</td>\n",
       "      <td>-122.233</td>\n",
       "      <td>2720</td>\n",
       "      <td>8062</td>\n",
       "    </tr>\n",
       "    <tr>\n",
       "      <th>3</th>\n",
       "      <td>2487200875</td>\n",
       "      <td>20141209T000000</td>\n",
       "      <td>604000</td>\n",
       "      <td>4</td>\n",
       "      <td>3.00</td>\n",
       "      <td>1960</td>\n",
       "      <td>5000</td>\n",
       "      <td>1.0</td>\n",
       "      <td>0</td>\n",
       "      <td>0</td>\n",
       "      <td>...</td>\n",
       "      <td>7</td>\n",
       "      <td>1050</td>\n",
       "      <td>910</td>\n",
       "      <td>1965</td>\n",
       "      <td>0</td>\n",
       "      <td>98136</td>\n",
       "      <td>47.5208</td>\n",
       "      <td>-122.393</td>\n",
       "      <td>1360</td>\n",
       "      <td>5000</td>\n",
       "    </tr>\n",
       "    <tr>\n",
       "      <th>4</th>\n",
       "      <td>1954400510</td>\n",
       "      <td>20150218T000000</td>\n",
       "      <td>510000</td>\n",
       "      <td>3</td>\n",
       "      <td>2.00</td>\n",
       "      <td>1680</td>\n",
       "      <td>8080</td>\n",
       "      <td>1.0</td>\n",
       "      <td>0</td>\n",
       "      <td>0</td>\n",
       "      <td>...</td>\n",
       "      <td>8</td>\n",
       "      <td>1680</td>\n",
       "      <td>0</td>\n",
       "      <td>1987</td>\n",
       "      <td>0</td>\n",
       "      <td>98074</td>\n",
       "      <td>47.6168</td>\n",
       "      <td>-122.045</td>\n",
       "      <td>1800</td>\n",
       "      <td>7503</td>\n",
       "    </tr>\n",
       "  </tbody>\n",
       "</table>\n",
       "<p>5 rows × 21 columns</p>\n",
       "</div>"
      ],
      "text/plain": [
       "           id             date   price  bedrooms  bathrooms  sqft_living  \\\n",
       "0  7129300520  20141013T000000  221900         3       1.00         1180   \n",
       "1  6414100192  20141209T000000  538000         3       2.25         2570   \n",
       "2  5631500400  20150225T000000  180000         2       1.00          770   \n",
       "3  2487200875  20141209T000000  604000         4       3.00         1960   \n",
       "4  1954400510  20150218T000000  510000         3       2.00         1680   \n",
       "\n",
       "   sqft_lot  floors  waterfront  view  ...  grade  sqft_above  sqft_basement  \\\n",
       "0      5650     1.0           0     0  ...      7        1180              0   \n",
       "1      7242     2.0           0     0  ...      7        2170            400   \n",
       "2     10000     1.0           0     0  ...      6         770              0   \n",
       "3      5000     1.0           0     0  ...      7        1050            910   \n",
       "4      8080     1.0           0     0  ...      8        1680              0   \n",
       "\n",
       "   yr_built  yr_renovated  zipcode      lat     long  sqft_living15  \\\n",
       "0      1955             0    98178  47.5112 -122.257           1340   \n",
       "1      1951          1991    98125  47.7210 -122.319           1690   \n",
       "2      1933             0    98028  47.7379 -122.233           2720   \n",
       "3      1965             0    98136  47.5208 -122.393           1360   \n",
       "4      1987             0    98074  47.6168 -122.045           1800   \n",
       "\n",
       "   sqft_lot15  \n",
       "0        5650  \n",
       "1        7639  \n",
       "2        8062  \n",
       "3        5000  \n",
       "4        7503  \n",
       "\n",
       "[5 rows x 21 columns]"
      ]
     },
     "execution_count": 4,
     "metadata": {},
     "output_type": "execute_result"
    }
   ],
   "source": [
    "df.head()"
   ]
  },
  {
   "cell_type": "code",
   "execution_count": 5,
   "metadata": {
    "deletable": false,
    "editable": false,
    "nbgrader": {
     "cell_type": "code",
     "checksum": "b5ddcb75bd559a7b19f56fc12221d1b9",
     "grade": false,
     "grade_id": "cell-060e3c7198681767",
     "locked": true,
     "schema_version": 3,
     "solution": false,
     "task": false
    }
   },
   "outputs": [
    {
     "name": "stdout",
     "output_type": "stream",
     "text": [
      "0        20141013T000000\n",
      "1        20141209T000000\n",
      "2        20150225T000000\n",
      "3        20141209T000000\n",
      "4        20150218T000000\n",
      "              ...       \n",
      "21608    20140521T000000\n",
      "21609    20150223T000000\n",
      "21610    20140623T000000\n",
      "21611    20150116T000000\n",
      "21612    20141015T000000\n",
      "Name: date, Length: 21613, dtype: object\n",
      "<class 'str'>\n"
     ]
    }
   ],
   "source": [
    "print(df.date)\n",
    "print(type(df.date.iloc[0]))"
   ]
  },
  {
   "cell_type": "code",
   "execution_count": 6,
   "metadata": {
    "deletable": false,
    "editable": false,
    "nbgrader": {
     "cell_type": "code",
     "checksum": "0cbf2b2bc0578304932fa29941eeab8e",
     "grade": false,
     "grade_id": "cell-def60c6a987f3af9",
     "locked": true,
     "schema_version": 3,
     "solution": false,
     "task": false
    }
   },
   "outputs": [],
   "source": [
    "# extract year and month info from the string\n",
    "# create new features 'sales_year' and 'sales_month' in df\n",
    "\n",
    "df['sales_year'] = df.date.apply(lambda x: int(x[:4]))\n",
    "df['sales_month'] = df.date.apply(lambda x: int(x[4:6]))"
   ]
  },
  {
   "cell_type": "code",
   "execution_count": 7,
   "metadata": {
    "deletable": false,
    "editable": false,
    "nbgrader": {
     "cell_type": "code",
     "checksum": "97f61802115f02a10412f85432db4e57",
     "grade": false,
     "grade_id": "cell-7f65e6ad764341b7",
     "locked": true,
     "schema_version": 3,
     "solution": false,
     "task": false
    }
   },
   "outputs": [
    {
     "data": {
      "text/plain": [
       "<pandas.core.groupby.generic.DataFrameGroupBy object at 0x7984f2caf0d0>"
      ]
     },
     "execution_count": 7,
     "metadata": {},
     "output_type": "execute_result"
    }
   ],
   "source": [
    "df.groupby('sales_month')"
   ]
  },
  {
   "cell_type": "markdown",
   "metadata": {
    "deletable": false,
    "editable": false,
    "nbgrader": {
     "cell_type": "markdown",
     "checksum": "bcb3e6b306e6e109a9938f0f8a366696",
     "grade": false,
     "grade_id": "cell-c9a1363cd270b8f5",
     "locked": true,
     "schema_version": 3,
     "solution": false,
     "task": false
    }
   },
   "source": [
    "Now, let's count how many sales occurred in each month and each year. We can use `.groupby()` function to group by 'sales_month' and 'sales_year' as shown below. \n",
    "\n",
    "> 💡***Tip:*** `.groupby()` itself returns an object that doesn't get displayed, not a processed dataframe. It is often used with some other aggregation method, such as `.count()`, `.mean()`, `.sum()`, etc. In the below example use case, we use `.count()` to count number of sales per each group (e.g. by sales_month). `.groupby()` can also group by multiple columns. This [resource](https://realpython.com/pandas-groupby/) has more explanations and examples."
   ]
  },
  {
   "cell_type": "code",
   "execution_count": 8,
   "metadata": {
    "deletable": false,
    "editable": false,
    "nbgrader": {
     "cell_type": "code",
     "checksum": "00474d57d8f56280ab4d0e997e2236c5",
     "grade": false,
     "grade_id": "cell-7a2e6562e233ff39",
     "locked": true,
     "schema_version": 3,
     "solution": false,
     "task": false
    }
   },
   "outputs": [
    {
     "name": "stdout",
     "output_type": "stream",
     "text": [
      "sales_month\n",
      "1      978\n",
      "2     1250\n",
      "3     1875\n",
      "4     2231\n",
      "5     2414\n",
      "6     2180\n",
      "7     2211\n",
      "8     1940\n",
      "9     1774\n",
      "10    1878\n",
      "11    1411\n",
      "12    1471\n",
      "Name: id, dtype: int64\n",
      "sales_year\n",
      "2014    14633\n",
      "2015     6980\n",
      "Name: id, dtype: int64\n"
     ]
    }
   ],
   "source": [
    "print(df.groupby('sales_month')['id'].count())\n",
    "print(df.groupby('sales_year')['id'].count())"
   ]
  },
  {
   "cell_type": "markdown",
   "metadata": {
    "deletable": false,
    "editable": false,
    "nbgrader": {
     "cell_type": "markdown",
     "checksum": "41c36ba61b2b8662116af047e5a7a3ee",
     "grade": false,
     "grade_id": "cell-270ddcab2bd221ef",
     "locked": true,
     "schema_version": 3,
     "solution": false,
     "task": false
    }
   },
   "source": [
    "**Question 1a-1.** Based on the output from above cell, which month has the most number of sales?"
   ]
  },
  {
   "cell_type": "code",
   "execution_count": 10,
   "metadata": {
    "deletable": false,
    "nbgrader": {
     "cell_type": "code",
     "checksum": "db42a72b08a805dc3cb8f8d4e5b0eecf",
     "grade": false,
     "grade_id": "cell-447e548e063eb680",
     "locked": false,
     "schema_version": 3,
     "solution": true,
     "task": false
    }
   },
   "outputs": [],
   "source": [
    "# your code here\n",
    "\n",
    "# uncomment below and update the value as an integer\n",
    "most_sales_month = 5"
   ]
  },
  {
   "cell_type": "code",
   "execution_count": 11,
   "metadata": {
    "deletable": false,
    "editable": false,
    "nbgrader": {
     "cell_type": "code",
     "checksum": "c22c286f8cf304e28242d67d8622d9e1",
     "grade": true,
     "grade_id": "cell-cadc8a85fd0b5630",
     "locked": true,
     "points": 2.5,
     "schema_version": 3,
     "solution": false,
     "task": false
    }
   },
   "outputs": [],
   "source": [
    "# tests solutions for most_sales "
   ]
  },
  {
   "cell_type": "markdown",
   "metadata": {
    "deletable": false,
    "editable": false,
    "nbgrader": {
     "cell_type": "markdown",
     "checksum": "d99a3bd93947af64fd77d1adb62d4562",
     "grade": false,
     "grade_id": "cell-ab45a9249c1c8285",
     "locked": true,
     "schema_version": 3,
     "solution": false,
     "task": false
    }
   },
   "source": [
    "**Question 1a-2.** Which months has the least number of sales?"
   ]
  },
  {
   "cell_type": "code",
   "execution_count": 12,
   "metadata": {
    "deletable": false,
    "nbgrader": {
     "cell_type": "code",
     "checksum": "1f234782b7875c2735ddca2855d44ac9",
     "grade": false,
     "grade_id": "cell-05ff2ec904565f4c",
     "locked": false,
     "schema_version": 3,
     "solution": true,
     "task": false
    }
   },
   "outputs": [],
   "source": [
    "# your code here\n",
    "\n",
    "# uncomment below and update the value as an integer\n",
    "least_sales_month = 1"
   ]
  },
  {
   "cell_type": "code",
   "execution_count": null,
   "metadata": {
    "deletable": false,
    "editable": false,
    "nbgrader": {
     "cell_type": "code",
     "checksum": "aa494f025c4502e39d8b64b7abf6cba8",
     "grade": true,
     "grade_id": "cell-4b8eb3fefb462f4a",
     "locked": true,
     "points": 2.5,
     "schema_version": 3,
     "solution": false,
     "task": false
    }
   },
   "outputs": [],
   "source": [
    "# tests solutions for least_sales"
   ]
  },
  {
   "cell_type": "markdown",
   "metadata": {
    "deletable": false,
    "editable": false,
    "nbgrader": {
     "cell_type": "markdown",
     "checksum": "586cc55533055d5ae658c69232f96766",
     "grade": false,
     "grade_id": "cell-18bcdf8f13f8ca4d",
     "locked": true,
     "schema_version": 3,
     "solution": false,
     "task": false
    }
   },
   "source": [
    "Now, let's have a look at what data type each columns has. We can use `.info()` method on the dataframe object to see the data type. You can see `int64`, `float64` and `object` in our example. `object` can be string type or something else (such as list or other types of objects). \n",
    "> 💡***Tip:*** Note that sometimes raw data is not adequately formatted that you might see columns that are supposed to be numbers can be typed as strings. It is a good practice to inspect data columns's data types and clean them if necessary."
   ]
  },
  {
   "cell_type": "code",
   "execution_count": 13,
   "metadata": {
    "deletable": false,
    "editable": false,
    "nbgrader": {
     "cell_type": "code",
     "checksum": "b4b1ad937eae3b5eadfcf34b7db1a885",
     "grade": false,
     "grade_id": "cell-830d3bb5de332b12",
     "locked": true,
     "schema_version": 3,
     "solution": false,
     "task": false
    }
   },
   "outputs": [
    {
     "name": "stdout",
     "output_type": "stream",
     "text": [
      "<class 'pandas.core.frame.DataFrame'>\n",
      "RangeIndex: 21613 entries, 0 to 21612\n",
      "Data columns (total 23 columns):\n",
      " #   Column         Non-Null Count  Dtype  \n",
      "---  ------         --------------  -----  \n",
      " 0   id             21613 non-null  int64  \n",
      " 1   date           21613 non-null  object \n",
      " 2   price          21613 non-null  int64  \n",
      " 3   bedrooms       21613 non-null  int64  \n",
      " 4   bathrooms      21613 non-null  float64\n",
      " 5   sqft_living    21613 non-null  int64  \n",
      " 6   sqft_lot       21613 non-null  int64  \n",
      " 7   floors         21613 non-null  float64\n",
      " 8   waterfront     21613 non-null  int64  \n",
      " 9   view           21613 non-null  int64  \n",
      " 10  condition      21613 non-null  int64  \n",
      " 11  grade          21613 non-null  int64  \n",
      " 12  sqft_above     21613 non-null  int64  \n",
      " 13  sqft_basement  21613 non-null  int64  \n",
      " 14  yr_built       21613 non-null  int64  \n",
      " 15  yr_renovated   21613 non-null  int64  \n",
      " 16  zipcode        21613 non-null  int64  \n",
      " 17  lat            21613 non-null  float64\n",
      " 18  long           21613 non-null  float64\n",
      " 19  sqft_living15  21613 non-null  int64  \n",
      " 20  sqft_lot15     21613 non-null  int64  \n",
      " 21  sales_year     21613 non-null  int64  \n",
      " 22  sales_month    21613 non-null  int64  \n",
      "dtypes: float64(4), int64(18), object(1)\n",
      "memory usage: 3.8+ MB\n"
     ]
    }
   ],
   "source": [
    "df.info()"
   ]
  },
  {
   "cell_type": "markdown",
   "metadata": {
    "deletable": false,
    "editable": false,
    "nbgrader": {
     "cell_type": "markdown",
     "checksum": "aa3f88e04c0d207c7963a844c425ef51",
     "grade": false,
     "grade_id": "cell-6107c495a67fc96b",
     "locked": true,
     "schema_version": 3,
     "solution": false,
     "task": false
    }
   },
   "source": [
    "### 1b) Variable types [5 pts]\n",
    "Inspect each feature's data type and variable type. What is the best description for the variable type of following features? Update the string to 'numeric' or 'categorical'.\n",
    "\n",
    "**Self-check Concepts**    \n",
    "✔️ What data types can be considered as a numeric variable?    \n",
    "✔️ What is the difference between ordinal and non-ordinal categorical variables?     \n",
    "\n",
    "> 💡***Tip:*** Is binary categorical variable (Yes/No, Male/Female, True/False, Positive/Negative etc) numeric? Why or why not?      \n",
    "How about a variable that has meaning of degree- such as survey/review ratings (very satisfied = 5, satisfied = 4, neutral = 3, disatisfied = 2, very disatisfied = 1)?         \n",
    "Typically it is recommended to treat ordinal categorical variable (which order has meaning- e.g. degree, grades, numbers, severity etc) as numeric variable because a linear regression (or any ML) model can treat that variable (feature) as numbers and can learn a relationship to the target variable y. Also, categorical variables need to be binarized (which involves to transform the column into multiple binary columns) before used in a linear regression model. So if we treat an ordinal categorical variable to one numeric variable column instead of multiple binary columns representing categorical variable, it is more efficient for the model. Remember- a simpler model with the same information is better! "
   ]
  },
  {
   "cell_type": "code",
   "execution_count": 16,
   "metadata": {
    "deletable": false,
    "nbgrader": {
     "cell_type": "code",
     "checksum": "aa66075bc13defaa2f776454df018e58",
     "grade": false,
     "grade_id": "cell-d1457a08b8feb7e4",
     "locked": false,
     "schema_version": 3,
     "solution": true,
     "task": false
    }
   },
   "outputs": [],
   "source": [
    "# your code here\n",
    "\n",
    "\n",
    "# uncomment the feaures below and update the strings with 'numeric' or 'categorical'\n",
    "price = 'numeric'\n",
    "bathrooms = 'numeric'\n",
    "waterfront = 'categorical'\n",
    "grade = 'numeric'\n",
    "zipcode = 'categorical'\n",
    "sales_year = 'numeric'"
   ]
  },
  {
   "cell_type": "code",
   "execution_count": 15,
   "metadata": {},
   "outputs": [
    {
     "name": "stdout",
     "output_type": "stream",
     "text": [
      "price [ 221900  538000  180000 ...  610685 1007500  402101]\n",
      "bedrooms [ 3  2  4  5  1  6  7  0  8  9 11 10 33]\n",
      "bathrooms [1.   2.25 3.   2.   4.5  1.5  2.5  1.75 2.75 3.25 4.   3.5  0.75 4.75\n",
      " 5.   4.25 3.75 0.   1.25 5.25 6.   0.5  5.5  6.75 5.75 8.   7.5  7.75\n",
      " 6.25 6.5 ]\n",
      "sqft_living [1180 2570  770 ... 3087 3118 1425]\n",
      "sqft_lot [ 5650  7242 10000 ...  5813  2388  1076]\n",
      "floors [1.  2.  1.5 3.  2.5 3.5]\n",
      "waterfront [0 1]\n",
      "view [0 3 4 2 1]\n",
      "condition [3 5 4 1 2]\n",
      "grade [ 7  6  8 11  9  5 10 12  4  3 13  1]\n",
      "sqft_above [1180 2170  770 1050 1680 3890 1715 1060 1890 1860  860 1430 1370 1810\n",
      " 1980 1600 1200 1250 2330 2270 1070 2450 1710 1750 1400  790 2570 2320\n",
      " 1190 1510 1090 1280  930 2360  890 2620 2600 3595 1570  920 3160  990\n",
      " 2290 2165 1640 1000 2130 2830 2250 2420 3250 1850 1590 1260 2519 1540\n",
      " 1110 1770 2720 2240 3070 2380 2390  880 1040  910 3450 2350 1900 1010\n",
      "  960 2660 1610  765 3520 1290 1960 1160 1210 1270 1440 2190 2920 1460\n",
      " 1170 1240 3140 2030 2310  700 1080 2520 2780 1560 1450 1720 2910 1620\n",
      " 1360 2070 2460 1390 2140 1320 1340 1550  940 1380 3670 2370 1130  980\n",
      " 3540 2500 1760 1030 1780 3400 2680 1670 2590  820 1220 2440 2090 1100\n",
      " 1330 1420 1690 2150 1910 1350 1940  900 1630 2714  850 1870 1950 2760\n",
      " 2020 1120 1480 1230 2280 3760 3530  830 1300 2740 1830  720 2010 3360\n",
      "  800 1730  760 1700 4750 5310  580 2653 2850 2210 2630 3500 1740 1140\n",
      " 2160 2650  970 2040 2180 2220 1660 3370 2690 1930 3150 3030 2050 2490\n",
      " 2560 1275 2580  560 1820 1840 2990 3230 1580 3480 2510 1410 2120 3300\n",
      " 3840 1500 1530 2840  833 2000 6070  950 2200 4040 1920 1490 3470 3130\n",
      " 2610 3260 2260  430 3390  630 4860 3860 2810  870 3180 2770 4030 4410\n",
      " 2400 1520 3040 6050 4740 1970 5403 3350 3580 1790  750 2860 2750 2340\n",
      " 2870 4120 3200 2550 1805 4150 1384 2060 2110 3590 2100 2540 1880 1150\n",
      " 1470 1255 1800 4370 3190 2730 4570 2470  670 2900 4670 4230 2156 1020\n",
      " 2940 2640 2710 3100 3610 4270  840 3090 2300  380 2480 3460 3060 3064\n",
      " 3000 1654 2790 1310 2230 2430 3680 2670 2208  810  740 1422  490 2080\n",
      " 3440 5670 4475  730 3410 3010  600 2960 3570 4300 3990  780 3020 5990\n",
      "  440 4460 4190 2800 2530 1650 3690 2932 3720 4250 3110 2963 4930 2950\n",
      " 5000 2452 2820 1981  640 2495 2403 5320 6720  660 2341 4210 3830 3280\n",
      " 2980 5153 1990 1646  610  710 5450 3504 3210 1782 2930  590 4280  680\n",
      " 3880 3430 3750 4130 5710 3380 3330 4700 3220 3362 3510 3810  620 4490\n",
      " 2410 3050 1008 3488 4070 3420 5770 1605  520 1088 3555 4360 3960 2700\n",
      " 4340 1552 3850 2303 3270 4350 3640 2174 4160 2496 5180 5130 6350 3770\n",
      " 2153 3780 2890 1714 2201 2970  992 3950 3527 2835 3915 1427 4870 3340\n",
      " 3620 4310 3930 4080 5400  570 3310 6110 3320 3490 3859 3710 1798 4600\n",
      " 3560 3940 3600 3800 1105 2305 3290 5050 1556 1553 4000 1657 3001 4220\n",
      "  480 3120 3740  530 3700 5230 5370 3080 4140 4430 3550 1159 1288 2880\n",
      " 4610 1122 3052 1479 7680 3820 1934 5080 2675 2506 5760 2154 4390 3240\n",
      " 1995 1689 2782 2395 4400 6200 3526 4320 2483 4380 4580 4180 2064 3650\n",
      " 1726 2019 4240 1256  500 1355 1747 1678 1833 1414 4115 3597 3170  390\n",
      " 1976 5830 2601 3920 2641 5070 2518 3910 3660 3695 4020 2803 2074 2038\n",
      " 4060 4890 2329 1264 1095  690 4090 1392 2844  902 4560 2811 4720 2168\n",
      " 5610 2683 4900 2095 4290 4050 4260 4440 6220 1175  998 2356 4500 3900\n",
      " 3831 1315 4470 4810 2286 2927 4760 8570 5140 1679 1811 2849 1676 1757\n",
      " 3730 2441 2163 5250 2795 2415 3970 4200 1068 5240 1509 1954 4820 1651\n",
      " 4100 1752 3630 2885 3154 1129 2632 1996 4010  550  410 6430 3790 2031\n",
      " 1652 2434 3316 1899 2331 2497 2216 4170 1341 1961 5584 8860 2507 5220\n",
      " 4850 5844 5530 2145  650 1982 4910 3605 1778 1463 2783 1946 1358 3870\n",
      " 1864 1845 6290 3980 2382 2979 3674 2726 5440 1295 2115 6085 3265 3136\n",
      " 6640 4620 3361 2245 2242 1078 2577 1329  420 4330 1975 7420 1788 2299\n",
      " 1092 4225 1087 1904  470 2966 2192 2253 5550 4133 4285 1216  540 9410\n",
      " 2075 5330 2166 1628 1808 1352 2557 6380 7880 2734 1363 1769 2093 1677\n",
      " 2588 5190 2298 1491 2961 5020 5980 4540  844 6120 2233 4480 4110 4770\n",
      " 2473  995 5160 1494 2007 1048 3002 4780 2155 2014 4980 2665 4830 4790\n",
      " 5010  370 2105 3006 3004 2689 4660 1746 2678 2755 2414  901 4630 2068\n",
      " 2807 2643 2181 4510 4420 1604 1435 3045 2717 2905 4940 5110 2533 6660\n",
      " 3485 2659 5090 2375 1964  866 1595  944 5480  809 5040 1764 1656 1802\n",
      "  460 2692 1544 2044 1212 4083 8020 3905 1502 4590  384 2092 6090 1615\n",
      " 7320 1396 1484 1765 5490 1453 1643 5300 1381 4065  290 1313 5430 1397\n",
      " 2793 2475 1936 3028  798 2575 3276 1584 2393 2029 3222 1072 1785 1984\n",
      "  962 2423 2052 2538 2437 2789 2906 4800 7850 2196 1847 2658 2655 3855\n",
      " 1728  963 2223 1611 2015 2448 1489 1116 3745 1002 3202 1347 1481 2311\n",
      " 2544 2584 2217 3569 3181 1921 2612 2671 2598 3284 3266 1076 2594 2718\n",
      " 1794 2481 3845 1413 1876 3148 2413 1767 5060  806 2547 1834 2024 1165\n",
      " 2134 1741 2798 1852 2099 3216 1094 2891 2432 2283 2701 1658  893 2009\n",
      " 1444 2744 3078 3065 1578 2815 4960 1571 6530 4640 1536 3172 6370 3223\n",
      " 1608 2229 3135 1408 1763 4840 1232 2502 2424 1296 1914  988 3828 3056\n",
      " 2267 1131 2796 1812 1084 2025 1564 1239 2568 1528 2628 2185 2478 2669\n",
      " 1912 2828 2425 1446 3206 2406 1419 2056 1144 2456 4950 3192  828 2529\n",
      " 2732 1987 3906 4073 2578 2738 3691 1061 2846 2542 1889 3336 3236 1451\n",
      " 1983 2313 1824 1322 1766 2301 3274 1108 2864 2716 1572 3281 2656 2398\n",
      " 1867 1613 2587 2623  894 1606 2244 2026 2238 2517 2708 2555 1405 4450\n",
      " 1248 6420 2531 1333 2198 3087 3118 1425]\n",
      "sqft_basement [   0  400  910 1530  730 1700  300  970  760  720  700  820  780  790\n",
      "  330 1620  360  588 1510  410  990  600  560  550 1000 1600  500 1040\n",
      "  880 1010  240  265  290  800  540  380  710  840  770  480  570 1490\n",
      "  620 1250 1270  120  650  180 1130  450 1640 1460 1020 1030  750  640\n",
      " 1070  490 1310  630 2000  390  430  850  210 1430 1950  440  220 1160\n",
      "  860  580 2060 1820 1180  200 1150 1200  680  530 1450 1170 1080  960\n",
      " 1100  280  870  460 1400 1320  660 1220  900  420 1580 1380  475  690\n",
      "  270  350  935 1370  980 1470  160  950   50  740 1780 1900  340  470\n",
      "  370  140 1760  130  610  520  890 1110  150 1720  810  190 1290  670\n",
      " 1800 1120 1810   60 1050  940  310  930 1390 1830 1300  510 1330 1590\n",
      "  920 1420 1240 1960 1560 2020 1190 2110 1280  250 2390 1230  170  830\n",
      " 1260 1410 1340  590 1500 1140  260  100  320 1480 1060 1284 1670 1350\n",
      " 2570 2590 1090  110 2500   90 1940 1550 2350 2490 1481 1360 1135 1520\n",
      " 1850 1660 2130 2600 1690  243 1210 2620 1024 1798 1610 1440 1570 1650\n",
      "  704 1910 1630 2360 1852 2090 2400 1790 2150  230   70 1680 2100 3000\n",
      " 1870 1710 2030  875 1540 2850 2170  506  906  145 2040  784 1750  374\n",
      "  518 2720 2730 1840 3480 2160 1920 2330 1860 2050 4820 1913   80 2010\n",
      " 3260 2200  415 1730  652 2196 1930  515   40 2080 2580 1548 1740  235\n",
      "  861 1890 2220  792 2070 4130 2250 2240  894 1990  768 2550  435 1008\n",
      " 2300 2610  666 3500  172 1816 2190 1245 1525 1880  862  946 1281  414\n",
      " 2180  276 1248  602  516  176  225 1275  266  283   65 2310   10 1770\n",
      " 2120  295  207  915  556  417  143  508 2810   20  274  248]\n",
      "yr_built [1955 1951 1933 1965 1987 2001 1995 1963 1960 2003 1942 1927 1977 1900\n",
      " 1979 1994 1916 1921 1969 1947 1968 1985 1941 1915 1909 1948 2005 1929\n",
      " 1981 1930 1904 1996 2000 1984 2014 1922 1959 1966 1953 1950 2008 1991\n",
      " 1954 1973 1925 1989 1972 1986 1956 2002 1992 1964 1952 1961 2006 1988\n",
      " 1962 1939 1946 1967 1975 1980 1910 1983 1978 1905 1971 2010 1945 1924\n",
      " 1990 1914 1926 2004 1923 2007 1976 1949 1999 1901 1993 1920 1997 1943\n",
      " 1957 1940 1918 1928 1974 1911 1936 1937 1982 1908 1931 1998 1913 2013\n",
      " 1907 1958 2012 1912 2011 1917 1932 1944 1902 2009 1903 1970 2015 1934\n",
      " 1938 1919 1906 1935]\n",
      "yr_renovated [   0 1991 2002 2010 1999 1992 2013 1994 1978 2005 2008 2003 1984 1954\n",
      " 2014 2011 1974 1983 1945 1990 1988 1957 1977 1981 1995 2000 1998 1970\n",
      " 1989 2004 1986 2009 2007 1987 1973 2006 1985 2001 1980 1971 1979 1997\n",
      " 1950 1969 1948 2015 1968 2012 1963 1951 1993 1962 1996 1972 1953 1955\n",
      " 1982 1956 1940 1976 1946 1975 1958 1964 1959 1960 1967 1965 1934 1944]\n",
      "zipcode [98178 98125 98028 98136 98074 98053 98003 98198 98146 98038 98007 98115\n",
      " 98107 98126 98019 98103 98002 98133 98040 98092 98030 98119 98112 98052\n",
      " 98027 98117 98058 98001 98056 98166 98023 98070 98148 98105 98042 98008\n",
      " 98059 98122 98144 98004 98005 98034 98075 98116 98010 98118 98199 98032\n",
      " 98045 98102 98077 98108 98168 98177 98065 98029 98006 98109 98022 98033\n",
      " 98155 98024 98011 98031 98106 98072 98188 98014 98055 98039]\n",
      "lat [47.5112 47.721  47.7379 ... 47.3906 47.3339 47.6502]\n",
      "long [-122.257 -122.319 -122.233 -122.393 -122.045 -122.005 -122.327 -122.315\n",
      " -122.337 -122.031 -122.145 -122.292 -122.229 -122.394 -122.375 -121.962\n",
      " -122.343 -122.21  -122.306 -122.341 -122.169 -122.166 -122.172 -122.218\n",
      " -122.36  -122.314 -122.304 -122.11  -122.07  -122.357 -122.368 -122.157\n",
      " -122.31  -122.132 -122.362 -122.282 -122.18  -122.027 -122.347 -122.016\n",
      " -122.364 -122.175 -121.977 -122.371 -122.151 -122.301 -122.451 -122.322\n",
      " -122.189 -122.384 -122.369 -122.281 -122.29  -122.114 -122.122 -122.116\n",
      " -122.149 -122.339 -122.335 -122.344 -122.32  -122.297 -122.192 -122.215\n",
      " -122.16  -122.179 -122.287 -122.036 -122.073 -121.987 -122.125 -122.34\n",
      " -122.025 -122.008 -122.291 -122.365 -122.199 -122.194 -122.387 -122.372\n",
      " -122.391 -122.351 -122.386 -122.249 -122.277 -122.378 -121.958 -121.714\n",
      " -122.08  -122.196 -122.184 -122.133 -122.38  -122.082 -122.109 -122.053\n",
      " -122.349 -122.295 -122.253 -122.248 -122.303 -122.294 -122.226 -122.266\n",
      " -122.098 -122.212 -122.244 -122.39  -122.352 -121.85  -122.152 -122.054\n",
      " -122.072 -121.998 -122.296 -122.299 -122.381 -122.358 -122.128 -122.171\n",
      " -122.174 -122.026 -122.353 -121.943 -122.286 -122.336 -122.359 -122.162\n",
      " -122.3   -122.176 -121.996 -122.118 -122.193 -122.023 -122.224 -122.168\n",
      " -122.231 -122.331 -122.374 -122.182 -122.308 -122.307 -121.999 -122.376\n",
      " -122.2   -122.039 -122.102 -122.188 -122.379 -122.043 -122.153 -122.191\n",
      " -122.219 -122.312 -121.911 -121.994 -122.165 -122.37  -122.158 -122.047\n",
      " -122.284 -122.017 -122.275 -122.268 -122.367 -122.217 -122.373 -122.013\n",
      " -122.214 -122.034 -122.164 -121.899 -122.183 -121.95  -122.324 -122.216\n",
      " -122.395 -122.213 -122.345 -122.278 -122.111 -121.711 -122.27  -122.178\n",
      " -122.147 -121.772 -122.302 -122.438 -122.223 -122.042 -122.323 -122.255\n",
      " -122.4   -122.261 -122.071 -122.206 -122.272 -122.23  -122.144 -122.143\n",
      " -122.181 -122.154 -122.311 -122.274 -122.077 -122.    -122.298 -122.058\n",
      " -121.837 -122.333 -122.057 -122.252 -122.093 -122.012 -122.052 -122.354\n",
      " -122.22  -122.49  -121.875 -122.24  -122.078 -122.173 -121.854 -122.222\n",
      " -122.28  -122.137 -122.159 -121.974 -122.141 -122.029 -121.709 -122.19\n",
      " -121.97  -122.329 -122.195 -122.06  -121.959 -122.095 -122.148 -122.146\n",
      " -122.35  -121.901 -122.241 -122.129 -122.289 -122.305 -122.022 -122.385\n",
      " -121.779 -122.032 -122.402 -122.482 -122.227 -121.982 -122.161 -122.046\n",
      " -122.156 -122.127 -122.33  -122.197 -122.041 -122.103 -122.318 -122.382\n",
      " -122.271 -121.955 -122.211 -122.262 -122.258 -122.121 -122.221 -122.234\n",
      " -122.089 -122.123 -122.167 -121.909 -122.107 -122.064 -122.066 -122.062\n",
      " -122.264 -122.186 -122.087 -121.88  -121.864 -122.205 -122.363 -122.139\n",
      " -122.018 -122.225 -122.285 -122.084 -122.177 -122.056 -122.316 -122.021\n",
      " -122.348 -122.009 -122.131 -122.411 -122.198 -122.256 -122.117 -122.097\n",
      " -122.075 -121.845 -122.083 -122.259 -121.87  -122.015 -122.007 -121.86\n",
      " -122.409 -121.755 -121.972 -122.251 -122.317 -121.776 -122.115 -122.283\n",
      " -122.242 -122.001 -122.024 -122.309 -122.113 -121.771 -122.239 -122.273\n",
      " -122.396 -122.094 -122.267 -122.326 -122.13  -122.269 -121.853 -122.05\n",
      " -122.346 -122.076 -121.826 -122.124 -121.758 -122.202 -121.785 -121.872\n",
      " -122.006 -122.004 -122.321 -121.882 -122.101 -122.03  -122.185 -122.1\n",
      " -121.759 -121.965 -122.201 -122.366 -122.313 -122.405 -122.02  -122.279\n",
      " -122.355 -121.934 -122.15  -122.356 -121.993 -122.044 -122.134 -121.867\n",
      " -122.01  -121.991 -122.011 -121.983 -122.228 -122.033 -122.276 -122.119\n",
      " -121.937 -122.361 -122.325 -122.203 -122.136 -122.237 -122.209 -122.049\n",
      " -122.288 -122.106 -122.037 -122.207 -122.263 -121.915 -122.204 -122.09\n",
      " -122.069 -121.852 -121.787 -121.976 -122.377 -122.059 -122.383 -121.989\n",
      " -122.019 -122.208 -121.878 -122.328 -122.25  -122.338 -122.388 -122.265\n",
      " -122.332 -122.399 -122.397 -122.014 -121.956 -122.092 -122.028 -122.293\n",
      " -122.12  -122.035 -122.14  -122.04  -122.112 -121.906 -122.17  -122.238\n",
      " -122.512 -121.997 -121.89  -122.463 -121.908 -122.086 -122.389 -121.913\n",
      " -122.163 -121.918 -122.108 -122.502 -122.392 -122.236 -121.859 -121.981\n",
      " -122.342 -121.96  -121.978 -122.47  -121.91  -121.966 -122.065 -122.246\n",
      " -122.41  -121.879 -122.079 -122.099 -122.187 -121.98  -122.002 -122.138\n",
      " -121.898 -122.235 -122.126 -121.782 -121.995 -122.401 -121.858 -121.888\n",
      " -121.752 -122.063 -122.26  -121.78  -121.708 -121.721 -122.403 -121.945\n",
      " -122.243 -122.45  -121.927 -122.085 -122.088 -121.973 -122.055 -122.398\n",
      " -121.984 -121.912 -121.903 -121.946 -122.232 -122.412 -122.104 -122.048\n",
      " -122.479 -122.155 -121.833 -121.778 -122.003 -121.99  -121.926 -122.051\n",
      " -121.986 -122.245 -121.861 -122.431 -121.964 -122.142 -122.074 -122.247\n",
      " -122.497 -121.769 -121.827 -121.979 -121.871 -122.091 -121.754 -121.746\n",
      " -121.92  -121.992 -122.406 -121.359 -121.789 -121.707 -122.068 -122.404\n",
      " -122.334 -121.799 -121.774 -121.985 -121.865 -121.724 -122.415 -121.756\n",
      " -121.809 -122.135 -121.691 -122.038 -121.877 -121.94  -121.968 -121.988\n",
      " -121.315 -121.902 -122.514 -122.414 -121.883 -121.866 -121.744 -122.096\n",
      " -122.061 -121.881 -121.745 -122.461 -122.067 -121.868 -121.646 -121.93\n",
      " -122.105 -121.763 -121.718 -121.967 -121.777 -121.957 -121.823 -121.887\n",
      " -122.408 -122.462 -122.43  -122.456 -121.897 -121.932 -121.969 -121.916\n",
      " -122.081 -121.975 -121.735 -121.801 -121.761 -121.723 -121.924 -122.475\n",
      " -121.935 -122.407 -122.448 -122.453 -121.894 -121.936 -121.764 -122.416\n",
      " -121.905 -122.464 -121.768 -122.484 -121.738 -121.9   -121.82  -122.455\n",
      " -121.889 -122.496 -121.829 -122.505 -121.951 -121.847 -122.509 -121.961\n",
      " -121.417 -121.904 -122.503 -121.949 -121.874 -122.432 -121.971 -121.77\n",
      " -122.473 -121.896 -121.952 -122.254 -121.743 -121.933 -121.892 -121.749\n",
      " -121.473 -121.857 -122.465 -121.838 -121.954 -122.422 -121.931 -121.963\n",
      " -122.441 -121.925 -121.352 -122.511 -122.413 -121.876 -121.748 -121.818\n",
      " -121.8   -121.929 -121.698 -121.886 -121.802 -121.81  -121.762 -121.781\n",
      " -121.775 -122.44  -121.773 -121.819 -121.726 -122.459 -122.446 -121.855\n",
      " -121.736 -122.499 -122.46  -121.786 -122.421 -121.947 -122.439 -121.834\n",
      " -121.804 -122.443 -121.716 -121.848 -122.458 -122.515 -121.922 -121.953\n",
      " -121.783 -122.472 -121.944 -121.869 -121.828 -122.452 -121.831 -121.737\n",
      " -121.739 -121.863 -121.73  -121.856 -121.747 -121.893 -121.733 -121.846\n",
      " -121.821 -121.319 -121.765 -121.75  -122.506 -121.948 -121.921 -122.507\n",
      " -122.457 -121.914 -122.469 -121.792 -121.907 -121.841 -121.757 -121.788\n",
      " -121.731 -122.449 -121.316 -121.321 -122.504 -121.884 -121.803 -121.842\n",
      " -121.719 -121.766 -122.433 -122.519 -121.851 -121.402 -122.454 -122.467\n",
      " -121.325 -121.815 -121.676 -121.941 -122.445 -121.76  -121.885 -121.742\n",
      " -121.822 -121.895 -121.784 -121.701 -121.713 -121.727 -121.849 -121.835\n",
      " -122.435 -122.474 -122.444 -121.939 -121.48  -121.364 -121.767 -122.42\n",
      " -121.84  -122.425 -122.447 -121.797 -122.491 -121.917 -121.891 -121.942\n",
      " -121.862 -121.725 -121.873 -121.405 -122.486 -121.795 -121.734 -121.403]\n",
      "sqft_living15 [1340 1690 2720 1360 1800 4760 2238 1650 1780 2390 2210 1330 1370 2140\n",
      " 1890 1610 1060 1280 1400 4110 2240 1220 2200 1030 1760 1860 1520 2630\n",
      " 2580 1390 1460 1570 2020 1590 2160 1730 1290 2620 2470 2410 3625 1580\n",
      " 3050 1228 2680  970 1190 1990 1410 1480 2730 1950 2250 2690 2960 2270\n",
      " 2570 2500 1440 2750 2221 1010 3390 3530 1640 1510 2420 1940 3240 1680\n",
      "  890 1130 3350 2350 1870 1720 1850 1900 1980 2520 1350 1750 1160 2550\n",
      " 2370 1240 1270 2990 1380 1540 2090 2640 1830 1620 1880 2340 1710 2700\n",
      " 3060 2660 1700 1970 1420 2060 2480 1550 1170 2820 1560 2230 2840 1450\n",
      " 1500 3160 1200 3400 2110 2920 1770 1070 1930 3740 2260 1670 2290 1050\n",
      " 2540 2190 2030 1230 2330 1300 1430 2770 1250 1630 2590 2130 1100 3836\n",
      " 1320 2120 3070 1910 2080 1960 2280 1150 3430 2070 2600  830 1260 3120\n",
      " 2010 1660 1600 2380 3890 4180 2653 2670 3920 2300 2310 2320 3150 1740\n",
      " 2400 4550 2510 2440 2880 3860 2150 1310 1820 3080  880 2560 3470 1020\n",
      " 2040 2610 1810 2860 3480 3130 3360 4050 2450 1790 3180 3600 2000 2430\n",
      " 2850 4680 2360 3930 1490 2460 2077 1920 3630 3220 2100 3230 4300 3850\n",
      " 2424 2530 3030 2830 2900 2950 1470  940 2740 4210 3340 3980 2180 3715\n",
      " 2050 1080 2095 1000 3330 2170 1408 1530 2760 3110  950 3000 1307 2220\n",
      " 4190 3440 3250 1110 2870 1210 2910 1120 4230 1708 3090 3270 2970 1180\n",
      " 3100 4100 2930 3510 2688 1840 2490 4090 2810 3260 3680 3420 1654 1365\n",
      "  980 1677 1140 3640 3460 3140 1502 3720 2790 2940  990 2890  860 4750\n",
      " 1525 3950 5790  760 2234  960 3210 2780 2800 2305 2665 3620 2710 4320\n",
      " 2650 3370 1509 1277 1981 2434 4640 2242 3040 3970 3200 4600  840 3290\n",
      " 2214 1162 3010 5600 3820 3540 1975 4800  740 3990 3170 1576 1768 3310\n",
      " 2980 1429 3900 3380  820 1090 4060 3910 3190 3450 3730  620 3020 3760\n",
      " 3320 1132 3300 3770 3960  870 3560 4620 3520 1572 3490 1088 3159 4470\n",
      " 3570 4890 3690 3280 2083 3780  920 1941 1566  850 2496 1040 3410 4240\n",
      " 4670 4350 1714 5380 4330 3830 5000 2144 1494 1357  930 3580 4250 4080\n",
      " 3660 1458 3736 1894 2037 1295 4170 3750 3550 4630 1439 3500 2091  900\n",
      " 3880 3710 1616  720  800 2315 1564 2767 3721 4650 4020  780 1728 2027\n",
      " 1264 1404 1459 2028 3639 1943 3425 2641 2114 1309 2412 2517 1802 2011\n",
      " 1466 1414 3193 1845 1156 3670 1696 5340 4440 1745 1884 4690 4920 2406\n",
      " 4160 3810 4480 2848 1746 2634 2049 5330 1536 2273 3056 4010 4700  910\n",
      " 2125 1665 2683 3790  700 1855  750 1078 4150 4340 2344 1098 1175 1188\n",
      " 3700 3840 4042 2518 3800 2488 3590 2052  810 1528 5030 4740 5070 2967\n",
      " 4280 2724 3610 3940 4940 4770 1811 4830 2876 1805 1216 5170 1304 2474\n",
      " 4590 4130 1492 1364 2168 4140 3543 1303 2005 3650 2583 4310 2451 1448\n",
      " 2955 2142  790 1638 2554 2441 2216 4220 1961 4540  770 4200 3413 1664\n",
      " 2136 3568 4510 1484 1358 2106 1834 2014 4390 4570 2175 6110 4260  710\n",
      " 2112 1934 1518 1302 2622 2619 2382 4290 4560 4000 1336 3112 4070 1468\n",
      " 1571 2605 1138 5110 4850 2165 4410 1678 5610 1984 4660 3870 4370  460\n",
      " 4610 1914 3515 2246 1786 2109 2326 2728 4400 4950 1767 2054 5500 2555\n",
      " 3674 2765 1862 1352 4030  399 2415 2901 1815 2236 2253 2004 1356 2403\n",
      " 1137 1256 4930 4040 2376 4520 4490 2189 2566 2396 1282 2155 1056 2389\n",
      " 2256 3618 1326 1168 4913  806 1369 2405 2875 1425 5220 1442 2333 3335\n",
      " 1321 3045 1546 4730 2697 2822 2076 1757 4780  952 4270 2075 2667 1092\n",
      " 1217 1716 1792 2961 1125 1463 1886  670 4460 2336 3557 5200 2258 1377\n",
      " 2019 2092 4900 2615 1639 1765 1554 1381 4120 5080 1445 2793 2475  998\n",
      " 2384 2575 1398 1584 2439 2197 2029 4362 1443 4420 1691 2495 2437 2547\n",
      " 6210 2009 1847 1346 2578 2879 2255 2815 1608  690 2425 1481 2458 2358\n",
      " 2056 1921 2419 2996 2502 1798 3087 1076 2981 2363 3191 1763 1876 1949\n",
      " 2598 1979 1415 2002 2574 2166 3726 2099 2154 1522 1544 2912 2648 1658\n",
      " 2755 2798 1405 2704 2738 3008 2586 2873 1232 2597 2516 1537 1128 2849\n",
      " 1399 1131 1569 2381 1084 2304 4530 2297 2279 2303 2669 4225 2513 2725\n",
      " 1955 2527 4443 2478 1919 1813 2533  828 2015 3078 4495 2673 2316 2647\n",
      " 3402 3494 2156 3236 2612 2323 2409 2354 1285 2616 1427 1516 2456 2844\n",
      " 1495 2594 2604 1268 2198 3038 2927]\n",
      "sqft_lot15 [5650 7639 8062 ... 5731 1509 2007]\n",
      "sales_year [2014 2015]\n",
      "sales_month [10 12  2  5  6  1  4  3  7  8 11  9]\n"
     ]
    }
   ],
   "source": [
    "# You can use below to check what unique values exist in each column.\n",
    "for c in df.columns[2:]:\n",
    "    print(c, df[c].unique())\n"
   ]
  },
  {
   "cell_type": "code",
   "execution_count": 17,
   "metadata": {
    "deletable": false,
    "editable": false,
    "nbgrader": {
     "cell_type": "code",
     "checksum": "8eecff49aed68409bbdf0840d1a44998",
     "grade": true,
     "grade_id": "cell-83405385a8bf3251",
     "locked": true,
     "points": 0,
     "schema_version": 3,
     "solution": false,
     "task": false
    }
   },
   "outputs": [],
   "source": [
    "# test 1/6 for 1b \n",
    "# This test is an example. The rest tests are hidden but are the same as this one checking each answer.\n",
    "assert price == 'numeric', \"Check 1b. What is the correct variable type for price?\""
   ]
  },
  {
   "cell_type": "code",
   "execution_count": 18,
   "metadata": {
    "deletable": false,
    "editable": false,
    "nbgrader": {
     "cell_type": "code",
     "checksum": "dae01dfba6b1d1469cd1272cb547a0b4",
     "grade": true,
     "grade_id": "cell-85adebcef83311e5",
     "locked": true,
     "points": 1,
     "schema_version": 3,
     "solution": false,
     "task": false
    }
   },
   "outputs": [],
   "source": [
    "# test 2/6 for 1b "
   ]
  },
  {
   "cell_type": "code",
   "execution_count": 19,
   "metadata": {
    "deletable": false,
    "editable": false,
    "nbgrader": {
     "cell_type": "code",
     "checksum": "52111e4c3cecd8595b0d2fd023da7eb8",
     "grade": true,
     "grade_id": "cell-1a72aecc2ae2a96c",
     "locked": true,
     "points": 1,
     "schema_version": 3,
     "solution": false,
     "task": false
    }
   },
   "outputs": [],
   "source": [
    "# test 3/6 for 1b "
   ]
  },
  {
   "cell_type": "code",
   "execution_count": 20,
   "metadata": {
    "deletable": false,
    "editable": false,
    "nbgrader": {
     "cell_type": "code",
     "checksum": "528e28b4df606ab3822a48e26ba5917b",
     "grade": true,
     "grade_id": "cell-0a727f18811562c2",
     "locked": true,
     "points": 1,
     "schema_version": 3,
     "solution": false,
     "task": false
    }
   },
   "outputs": [],
   "source": [
    "# test 4/6 for 1b "
   ]
  },
  {
   "cell_type": "code",
   "execution_count": 21,
   "metadata": {
    "deletable": false,
    "editable": false,
    "nbgrader": {
     "cell_type": "code",
     "checksum": "71f7c6dc9c40e10627f340379d11e4f3",
     "grade": true,
     "grade_id": "cell-bb80917a7ee3c5b7",
     "locked": true,
     "points": 1,
     "schema_version": 3,
     "solution": false,
     "task": false
    }
   },
   "outputs": [],
   "source": [
    "# test 5/6 for 1b "
   ]
  },
  {
   "cell_type": "code",
   "execution_count": 22,
   "metadata": {
    "deletable": false,
    "editable": false,
    "nbgrader": {
     "cell_type": "code",
     "checksum": "fd22b120130b0e3b9d1a72961aebe214",
     "grade": true,
     "grade_id": "cell-c35914383b2fba6f",
     "locked": true,
     "points": 1,
     "schema_version": 3,
     "solution": false,
     "task": false
    }
   },
   "outputs": [],
   "source": [
    "# test 6/6 for 1b "
   ]
  },
  {
   "cell_type": "markdown",
   "metadata": {
    "deletable": false,
    "editable": false,
    "nbgrader": {
     "cell_type": "markdown",
     "checksum": "d369037cd879591dd45669f959208c78",
     "grade": false,
     "grade_id": "cell-ee0110eb32b0b7ad",
     "locked": true,
     "schema_version": 3,
     "solution": false,
     "task": false
    }
   },
   "source": [
    "### 1c) Drop features [5 pts]\n",
    "Let's drop features that are unnecessary. `id` is not a meaningful feature. `date` string has been coded to `sales_month` and `sales_year`, so we can remove `date`. `zipcode` can be also removed as it's hard to include in a linear regression model and the location info is included in the `lat` and `long`.\n",
    "Drop the features `id`, `date`, and `zipcode` and replace the df.\n",
    "\n",
    "> 💡***Tip:*** .drop() function can drop one or more columns or rows. Learn how to use it in the [doc](https://pandas.pydata.org/docs/reference/api/pandas.DataFrame.drop.html)\n"
   ]
  },
  {
   "cell_type": "code",
   "execution_count": 23,
   "metadata": {
    "deletable": false,
    "nbgrader": {
     "cell_type": "code",
     "checksum": "64095f5e3e38510668375eff5a1613db",
     "grade": false,
     "grade_id": "cell-fba7fcd19732194e",
     "locked": false,
     "schema_version": 3,
     "solution": true,
     "task": false
    }
   },
   "outputs": [],
   "source": [
    "# drop unnecessary features, replace df\n",
    "# your code here\n",
    "df = df.drop(columns=['id', 'date', 'zipcode'])\n"
   ]
  },
  {
   "cell_type": "code",
   "execution_count": null,
   "metadata": {
    "deletable": false,
    "editable": false,
    "nbgrader": {
     "cell_type": "code",
     "checksum": "d1a2abbf74e169d18dd3391a46c1be27",
     "grade": true,
     "grade_id": "cell-09acbfd67a77b038",
     "locked": true,
     "points": 5,
     "schema_version": 3,
     "solution": false,
     "task": false
    }
   },
   "outputs": [],
   "source": [
    "# tests that you droppd the features id, date, and zipcode from df"
   ]
  },
  {
   "cell_type": "markdown",
   "metadata": {
    "deletable": false,
    "editable": false,
    "nbgrader": {
     "cell_type": "markdown",
     "checksum": "2bdc0591319aa5e724a567218d292eb4",
     "grade": false,
     "grade_id": "cell-c28ed0de4ca75d60",
     "locked": true,
     "schema_version": 3,
     "solution": false,
     "task": false
    }
   },
   "source": [
    "## 2. More inspection; Correlation and pair plot [5 pts]\n",
    "### 2a) Get correlation matrix on the data frame. [5 pts]\n",
    "Which feature may be the best predictor of price based on the correlation? Answer as a string value (e.g. best_guess_predictor = 'price' or best_guess_predictor = 'yr_built')\n",
    "\n",
    "> 💡***Tip:*** .corr() finction can show correlation matrix from the dataframe. [More resource](https://www.geeksforgeeks.org/python-pandas-dataframe-corr/#)\n",
    "\n",
    "\n",
    "**Self-check Concepts**    \n",
    "✔️ By looking at the correlation matrix, how do you decide which feature is the best predictor?"
   ]
  },
  {
   "cell_type": "code",
   "execution_count": 24,
   "metadata": {},
   "outputs": [
    {
     "data": {
      "text/html": [
       "<div>\n",
       "<style scoped>\n",
       "    .dataframe tbody tr th:only-of-type {\n",
       "        vertical-align: middle;\n",
       "    }\n",
       "\n",
       "    .dataframe tbody tr th {\n",
       "        vertical-align: top;\n",
       "    }\n",
       "\n",
       "    .dataframe thead th {\n",
       "        text-align: right;\n",
       "    }\n",
       "</style>\n",
       "<table border=\"1\" class=\"dataframe\">\n",
       "  <thead>\n",
       "    <tr style=\"text-align: right;\">\n",
       "      <th></th>\n",
       "      <th>price</th>\n",
       "      <th>bedrooms</th>\n",
       "      <th>bathrooms</th>\n",
       "      <th>sqft_living</th>\n",
       "      <th>sqft_lot</th>\n",
       "      <th>floors</th>\n",
       "      <th>waterfront</th>\n",
       "      <th>view</th>\n",
       "      <th>condition</th>\n",
       "      <th>grade</th>\n",
       "      <th>sqft_above</th>\n",
       "      <th>sqft_basement</th>\n",
       "      <th>yr_built</th>\n",
       "      <th>yr_renovated</th>\n",
       "      <th>lat</th>\n",
       "      <th>long</th>\n",
       "      <th>sqft_living15</th>\n",
       "      <th>sqft_lot15</th>\n",
       "      <th>sales_year</th>\n",
       "      <th>sales_month</th>\n",
       "    </tr>\n",
       "  </thead>\n",
       "  <tbody>\n",
       "    <tr>\n",
       "      <th>price</th>\n",
       "      <td>1.000000</td>\n",
       "      <td>0.308350</td>\n",
       "      <td>0.525138</td>\n",
       "      <td>0.702035</td>\n",
       "      <td>0.089661</td>\n",
       "      <td>0.256794</td>\n",
       "      <td>0.266369</td>\n",
       "      <td>0.397293</td>\n",
       "      <td>0.036362</td>\n",
       "      <td>0.667434</td>\n",
       "      <td>0.605567</td>\n",
       "      <td>0.323816</td>\n",
       "      <td>0.054012</td>\n",
       "      <td>0.126434</td>\n",
       "      <td>0.307003</td>\n",
       "      <td>0.021626</td>\n",
       "      <td>0.585379</td>\n",
       "      <td>0.082447</td>\n",
       "      <td>0.003576</td>\n",
       "      <td>-0.010081</td>\n",
       "    </tr>\n",
       "    <tr>\n",
       "      <th>bedrooms</th>\n",
       "      <td>0.308350</td>\n",
       "      <td>1.000000</td>\n",
       "      <td>0.515884</td>\n",
       "      <td>0.576671</td>\n",
       "      <td>0.031703</td>\n",
       "      <td>0.175429</td>\n",
       "      <td>-0.006582</td>\n",
       "      <td>0.079532</td>\n",
       "      <td>0.028472</td>\n",
       "      <td>0.356967</td>\n",
       "      <td>0.477600</td>\n",
       "      <td>0.303093</td>\n",
       "      <td>0.154178</td>\n",
       "      <td>0.018841</td>\n",
       "      <td>-0.008931</td>\n",
       "      <td>0.129473</td>\n",
       "      <td>0.391638</td>\n",
       "      <td>0.029244</td>\n",
       "      <td>-0.009838</td>\n",
       "      <td>-0.001533</td>\n",
       "    </tr>\n",
       "    <tr>\n",
       "      <th>bathrooms</th>\n",
       "      <td>0.525138</td>\n",
       "      <td>0.515884</td>\n",
       "      <td>1.000000</td>\n",
       "      <td>0.754665</td>\n",
       "      <td>0.087740</td>\n",
       "      <td>0.500653</td>\n",
       "      <td>0.063744</td>\n",
       "      <td>0.187737</td>\n",
       "      <td>-0.124982</td>\n",
       "      <td>0.664983</td>\n",
       "      <td>0.685342</td>\n",
       "      <td>0.283770</td>\n",
       "      <td>0.506019</td>\n",
       "      <td>0.050739</td>\n",
       "      <td>0.024573</td>\n",
       "      <td>0.223042</td>\n",
       "      <td>0.568634</td>\n",
       "      <td>0.087175</td>\n",
       "      <td>-0.026596</td>\n",
       "      <td>0.007392</td>\n",
       "    </tr>\n",
       "    <tr>\n",
       "      <th>sqft_living</th>\n",
       "      <td>0.702035</td>\n",
       "      <td>0.576671</td>\n",
       "      <td>0.754665</td>\n",
       "      <td>1.000000</td>\n",
       "      <td>0.172826</td>\n",
       "      <td>0.353949</td>\n",
       "      <td>0.103818</td>\n",
       "      <td>0.284611</td>\n",
       "      <td>-0.058753</td>\n",
       "      <td>0.762704</td>\n",
       "      <td>0.876597</td>\n",
       "      <td>0.435043</td>\n",
       "      <td>0.318049</td>\n",
       "      <td>0.055363</td>\n",
       "      <td>0.052529</td>\n",
       "      <td>0.240223</td>\n",
       "      <td>0.756420</td>\n",
       "      <td>0.183286</td>\n",
       "      <td>-0.029038</td>\n",
       "      <td>0.011810</td>\n",
       "    </tr>\n",
       "    <tr>\n",
       "      <th>sqft_lot</th>\n",
       "      <td>0.089661</td>\n",
       "      <td>0.031703</td>\n",
       "      <td>0.087740</td>\n",
       "      <td>0.172826</td>\n",
       "      <td>1.000000</td>\n",
       "      <td>-0.005201</td>\n",
       "      <td>0.021604</td>\n",
       "      <td>0.074710</td>\n",
       "      <td>-0.008958</td>\n",
       "      <td>0.113621</td>\n",
       "      <td>0.183512</td>\n",
       "      <td>0.015286</td>\n",
       "      <td>0.053080</td>\n",
       "      <td>0.007644</td>\n",
       "      <td>-0.085683</td>\n",
       "      <td>0.229521</td>\n",
       "      <td>0.144608</td>\n",
       "      <td>0.718557</td>\n",
       "      <td>0.005468</td>\n",
       "      <td>-0.002369</td>\n",
       "    </tr>\n",
       "    <tr>\n",
       "      <th>floors</th>\n",
       "      <td>0.256794</td>\n",
       "      <td>0.175429</td>\n",
       "      <td>0.500653</td>\n",
       "      <td>0.353949</td>\n",
       "      <td>-0.005201</td>\n",
       "      <td>1.000000</td>\n",
       "      <td>0.023698</td>\n",
       "      <td>0.029444</td>\n",
       "      <td>-0.263768</td>\n",
       "      <td>0.458183</td>\n",
       "      <td>0.523885</td>\n",
       "      <td>-0.245705</td>\n",
       "      <td>0.489319</td>\n",
       "      <td>0.006338</td>\n",
       "      <td>0.049614</td>\n",
       "      <td>0.125419</td>\n",
       "      <td>0.279885</td>\n",
       "      <td>-0.011269</td>\n",
       "      <td>-0.022315</td>\n",
       "      <td>0.014005</td>\n",
       "    </tr>\n",
       "    <tr>\n",
       "      <th>waterfront</th>\n",
       "      <td>0.266369</td>\n",
       "      <td>-0.006582</td>\n",
       "      <td>0.063744</td>\n",
       "      <td>0.103818</td>\n",
       "      <td>0.021604</td>\n",
       "      <td>0.023698</td>\n",
       "      <td>1.000000</td>\n",
       "      <td>0.401857</td>\n",
       "      <td>0.016653</td>\n",
       "      <td>0.082775</td>\n",
       "      <td>0.072075</td>\n",
       "      <td>0.080588</td>\n",
       "      <td>-0.026161</td>\n",
       "      <td>0.092885</td>\n",
       "      <td>-0.014274</td>\n",
       "      <td>-0.041910</td>\n",
       "      <td>0.086463</td>\n",
       "      <td>0.030703</td>\n",
       "      <td>-0.004165</td>\n",
       "      <td>0.008132</td>\n",
       "    </tr>\n",
       "    <tr>\n",
       "      <th>view</th>\n",
       "      <td>0.397293</td>\n",
       "      <td>0.079532</td>\n",
       "      <td>0.187737</td>\n",
       "      <td>0.284611</td>\n",
       "      <td>0.074710</td>\n",
       "      <td>0.029444</td>\n",
       "      <td>0.401857</td>\n",
       "      <td>1.000000</td>\n",
       "      <td>0.045990</td>\n",
       "      <td>0.251321</td>\n",
       "      <td>0.167649</td>\n",
       "      <td>0.276947</td>\n",
       "      <td>-0.053440</td>\n",
       "      <td>0.103917</td>\n",
       "      <td>0.006157</td>\n",
       "      <td>-0.078400</td>\n",
       "      <td>0.280439</td>\n",
       "      <td>0.072575</td>\n",
       "      <td>0.001364</td>\n",
       "      <td>-0.005638</td>\n",
       "    </tr>\n",
       "    <tr>\n",
       "      <th>condition</th>\n",
       "      <td>0.036362</td>\n",
       "      <td>0.028472</td>\n",
       "      <td>-0.124982</td>\n",
       "      <td>-0.058753</td>\n",
       "      <td>-0.008958</td>\n",
       "      <td>-0.263768</td>\n",
       "      <td>0.016653</td>\n",
       "      <td>0.045990</td>\n",
       "      <td>1.000000</td>\n",
       "      <td>-0.144674</td>\n",
       "      <td>-0.158214</td>\n",
       "      <td>0.174105</td>\n",
       "      <td>-0.361417</td>\n",
       "      <td>-0.060618</td>\n",
       "      <td>-0.014941</td>\n",
       "      <td>-0.106500</td>\n",
       "      <td>-0.092824</td>\n",
       "      <td>-0.003406</td>\n",
       "      <td>-0.045589</td>\n",
       "      <td>0.021978</td>\n",
       "    </tr>\n",
       "    <tr>\n",
       "      <th>grade</th>\n",
       "      <td>0.667434</td>\n",
       "      <td>0.356967</td>\n",
       "      <td>0.664983</td>\n",
       "      <td>0.762704</td>\n",
       "      <td>0.113621</td>\n",
       "      <td>0.458183</td>\n",
       "      <td>0.082775</td>\n",
       "      <td>0.251321</td>\n",
       "      <td>-0.144674</td>\n",
       "      <td>1.000000</td>\n",
       "      <td>0.755923</td>\n",
       "      <td>0.168392</td>\n",
       "      <td>0.446963</td>\n",
       "      <td>0.014414</td>\n",
       "      <td>0.114084</td>\n",
       "      <td>0.198372</td>\n",
       "      <td>0.713202</td>\n",
       "      <td>0.119248</td>\n",
       "      <td>-0.030387</td>\n",
       "      <td>0.008376</td>\n",
       "    </tr>\n",
       "    <tr>\n",
       "      <th>sqft_above</th>\n",
       "      <td>0.605567</td>\n",
       "      <td>0.477600</td>\n",
       "      <td>0.685342</td>\n",
       "      <td>0.876597</td>\n",
       "      <td>0.183512</td>\n",
       "      <td>0.523885</td>\n",
       "      <td>0.072075</td>\n",
       "      <td>0.167649</td>\n",
       "      <td>-0.158214</td>\n",
       "      <td>0.755923</td>\n",
       "      <td>1.000000</td>\n",
       "      <td>-0.051943</td>\n",
       "      <td>0.423898</td>\n",
       "      <td>0.023285</td>\n",
       "      <td>-0.000816</td>\n",
       "      <td>0.343803</td>\n",
       "      <td>0.731870</td>\n",
       "      <td>0.194050</td>\n",
       "      <td>-0.023823</td>\n",
       "      <td>0.009872</td>\n",
       "    </tr>\n",
       "    <tr>\n",
       "      <th>sqft_basement</th>\n",
       "      <td>0.323816</td>\n",
       "      <td>0.303093</td>\n",
       "      <td>0.283770</td>\n",
       "      <td>0.435043</td>\n",
       "      <td>0.015286</td>\n",
       "      <td>-0.245705</td>\n",
       "      <td>0.080588</td>\n",
       "      <td>0.276947</td>\n",
       "      <td>0.174105</td>\n",
       "      <td>0.168392</td>\n",
       "      <td>-0.051943</td>\n",
       "      <td>1.000000</td>\n",
       "      <td>-0.133124</td>\n",
       "      <td>0.071323</td>\n",
       "      <td>0.110538</td>\n",
       "      <td>-0.144765</td>\n",
       "      <td>0.200355</td>\n",
       "      <td>0.017276</td>\n",
       "      <td>-0.015687</td>\n",
       "      <td>0.006035</td>\n",
       "    </tr>\n",
       "    <tr>\n",
       "      <th>yr_built</th>\n",
       "      <td>0.054012</td>\n",
       "      <td>0.154178</td>\n",
       "      <td>0.506019</td>\n",
       "      <td>0.318049</td>\n",
       "      <td>0.053080</td>\n",
       "      <td>0.489319</td>\n",
       "      <td>-0.026161</td>\n",
       "      <td>-0.053440</td>\n",
       "      <td>-0.361417</td>\n",
       "      <td>0.446963</td>\n",
       "      <td>0.423898</td>\n",
       "      <td>-0.133124</td>\n",
       "      <td>1.000000</td>\n",
       "      <td>-0.224874</td>\n",
       "      <td>-0.148122</td>\n",
       "      <td>0.409356</td>\n",
       "      <td>0.326229</td>\n",
       "      <td>0.070958</td>\n",
       "      <td>0.003507</td>\n",
       "      <td>-0.006226</td>\n",
       "    </tr>\n",
       "    <tr>\n",
       "      <th>yr_renovated</th>\n",
       "      <td>0.126434</td>\n",
       "      <td>0.018841</td>\n",
       "      <td>0.050739</td>\n",
       "      <td>0.055363</td>\n",
       "      <td>0.007644</td>\n",
       "      <td>0.006338</td>\n",
       "      <td>0.092885</td>\n",
       "      <td>0.103917</td>\n",
       "      <td>-0.060618</td>\n",
       "      <td>0.014414</td>\n",
       "      <td>0.023285</td>\n",
       "      <td>0.071323</td>\n",
       "      <td>-0.224874</td>\n",
       "      <td>1.000000</td>\n",
       "      <td>0.029398</td>\n",
       "      <td>-0.068372</td>\n",
       "      <td>-0.002673</td>\n",
       "      <td>0.007854</td>\n",
       "      <td>-0.023707</td>\n",
       "      <td>0.012827</td>\n",
       "    </tr>\n",
       "    <tr>\n",
       "      <th>lat</th>\n",
       "      <td>0.307003</td>\n",
       "      <td>-0.008931</td>\n",
       "      <td>0.024573</td>\n",
       "      <td>0.052529</td>\n",
       "      <td>-0.085683</td>\n",
       "      <td>0.049614</td>\n",
       "      <td>-0.014274</td>\n",
       "      <td>0.006157</td>\n",
       "      <td>-0.014941</td>\n",
       "      <td>0.114084</td>\n",
       "      <td>-0.000816</td>\n",
       "      <td>0.110538</td>\n",
       "      <td>-0.148122</td>\n",
       "      <td>0.029398</td>\n",
       "      <td>1.000000</td>\n",
       "      <td>-0.135512</td>\n",
       "      <td>0.048858</td>\n",
       "      <td>-0.086419</td>\n",
       "      <td>-0.029212</td>\n",
       "      <td>0.014961</td>\n",
       "    </tr>\n",
       "    <tr>\n",
       "      <th>long</th>\n",
       "      <td>0.021626</td>\n",
       "      <td>0.129473</td>\n",
       "      <td>0.223042</td>\n",
       "      <td>0.240223</td>\n",
       "      <td>0.229521</td>\n",
       "      <td>0.125419</td>\n",
       "      <td>-0.041910</td>\n",
       "      <td>-0.078400</td>\n",
       "      <td>-0.106500</td>\n",
       "      <td>0.198372</td>\n",
       "      <td>0.343803</td>\n",
       "      <td>-0.144765</td>\n",
       "      <td>0.409356</td>\n",
       "      <td>-0.068372</td>\n",
       "      <td>-0.135512</td>\n",
       "      <td>1.000000</td>\n",
       "      <td>0.334605</td>\n",
       "      <td>0.254451</td>\n",
       "      <td>0.000270</td>\n",
       "      <td>-0.008134</td>\n",
       "    </tr>\n",
       "    <tr>\n",
       "      <th>sqft_living15</th>\n",
       "      <td>0.585379</td>\n",
       "      <td>0.391638</td>\n",
       "      <td>0.568634</td>\n",
       "      <td>0.756420</td>\n",
       "      <td>0.144608</td>\n",
       "      <td>0.279885</td>\n",
       "      <td>0.086463</td>\n",
       "      <td>0.280439</td>\n",
       "      <td>-0.092824</td>\n",
       "      <td>0.713202</td>\n",
       "      <td>0.731870</td>\n",
       "      <td>0.200355</td>\n",
       "      <td>0.326229</td>\n",
       "      <td>-0.002673</td>\n",
       "      <td>0.048858</td>\n",
       "      <td>0.334605</td>\n",
       "      <td>1.000000</td>\n",
       "      <td>0.183192</td>\n",
       "      <td>-0.021734</td>\n",
       "      <td>0.002449</td>\n",
       "    </tr>\n",
       "    <tr>\n",
       "      <th>sqft_lot15</th>\n",
       "      <td>0.082447</td>\n",
       "      <td>0.029244</td>\n",
       "      <td>0.087175</td>\n",
       "      <td>0.183286</td>\n",
       "      <td>0.718557</td>\n",
       "      <td>-0.011269</td>\n",
       "      <td>0.030703</td>\n",
       "      <td>0.072575</td>\n",
       "      <td>-0.003406</td>\n",
       "      <td>0.119248</td>\n",
       "      <td>0.194050</td>\n",
       "      <td>0.017276</td>\n",
       "      <td>0.070958</td>\n",
       "      <td>0.007854</td>\n",
       "      <td>-0.086419</td>\n",
       "      <td>0.254451</td>\n",
       "      <td>0.183192</td>\n",
       "      <td>1.000000</td>\n",
       "      <td>-0.000085</td>\n",
       "      <td>0.003546</td>\n",
       "    </tr>\n",
       "    <tr>\n",
       "      <th>sales_year</th>\n",
       "      <td>0.003576</td>\n",
       "      <td>-0.009838</td>\n",
       "      <td>-0.026596</td>\n",
       "      <td>-0.029038</td>\n",
       "      <td>0.005468</td>\n",
       "      <td>-0.022315</td>\n",
       "      <td>-0.004165</td>\n",
       "      <td>0.001364</td>\n",
       "      <td>-0.045589</td>\n",
       "      <td>-0.030387</td>\n",
       "      <td>-0.023823</td>\n",
       "      <td>-0.015687</td>\n",
       "      <td>0.003507</td>\n",
       "      <td>-0.023707</td>\n",
       "      <td>-0.029212</td>\n",
       "      <td>0.000270</td>\n",
       "      <td>-0.021734</td>\n",
       "      <td>-0.000085</td>\n",
       "      <td>1.000000</td>\n",
       "      <td>-0.782389</td>\n",
       "    </tr>\n",
       "    <tr>\n",
       "      <th>sales_month</th>\n",
       "      <td>-0.010081</td>\n",
       "      <td>-0.001533</td>\n",
       "      <td>0.007392</td>\n",
       "      <td>0.011810</td>\n",
       "      <td>-0.002369</td>\n",
       "      <td>0.014005</td>\n",
       "      <td>0.008132</td>\n",
       "      <td>-0.005638</td>\n",
       "      <td>0.021978</td>\n",
       "      <td>0.008376</td>\n",
       "      <td>0.009872</td>\n",
       "      <td>0.006035</td>\n",
       "      <td>-0.006226</td>\n",
       "      <td>0.012827</td>\n",
       "      <td>0.014961</td>\n",
       "      <td>-0.008134</td>\n",
       "      <td>0.002449</td>\n",
       "      <td>0.003546</td>\n",
       "      <td>-0.782389</td>\n",
       "      <td>1.000000</td>\n",
       "    </tr>\n",
       "  </tbody>\n",
       "</table>\n",
       "</div>"
      ],
      "text/plain": [
       "                  price  bedrooms  bathrooms  sqft_living  sqft_lot    floors  \\\n",
       "price          1.000000  0.308350   0.525138     0.702035  0.089661  0.256794   \n",
       "bedrooms       0.308350  1.000000   0.515884     0.576671  0.031703  0.175429   \n",
       "bathrooms      0.525138  0.515884   1.000000     0.754665  0.087740  0.500653   \n",
       "sqft_living    0.702035  0.576671   0.754665     1.000000  0.172826  0.353949   \n",
       "sqft_lot       0.089661  0.031703   0.087740     0.172826  1.000000 -0.005201   \n",
       "floors         0.256794  0.175429   0.500653     0.353949 -0.005201  1.000000   \n",
       "waterfront     0.266369 -0.006582   0.063744     0.103818  0.021604  0.023698   \n",
       "view           0.397293  0.079532   0.187737     0.284611  0.074710  0.029444   \n",
       "condition      0.036362  0.028472  -0.124982    -0.058753 -0.008958 -0.263768   \n",
       "grade          0.667434  0.356967   0.664983     0.762704  0.113621  0.458183   \n",
       "sqft_above     0.605567  0.477600   0.685342     0.876597  0.183512  0.523885   \n",
       "sqft_basement  0.323816  0.303093   0.283770     0.435043  0.015286 -0.245705   \n",
       "yr_built       0.054012  0.154178   0.506019     0.318049  0.053080  0.489319   \n",
       "yr_renovated   0.126434  0.018841   0.050739     0.055363  0.007644  0.006338   \n",
       "lat            0.307003 -0.008931   0.024573     0.052529 -0.085683  0.049614   \n",
       "long           0.021626  0.129473   0.223042     0.240223  0.229521  0.125419   \n",
       "sqft_living15  0.585379  0.391638   0.568634     0.756420  0.144608  0.279885   \n",
       "sqft_lot15     0.082447  0.029244   0.087175     0.183286  0.718557 -0.011269   \n",
       "sales_year     0.003576 -0.009838  -0.026596    -0.029038  0.005468 -0.022315   \n",
       "sales_month   -0.010081 -0.001533   0.007392     0.011810 -0.002369  0.014005   \n",
       "\n",
       "               waterfront      view  condition     grade  sqft_above  \\\n",
       "price            0.266369  0.397293   0.036362  0.667434    0.605567   \n",
       "bedrooms        -0.006582  0.079532   0.028472  0.356967    0.477600   \n",
       "bathrooms        0.063744  0.187737  -0.124982  0.664983    0.685342   \n",
       "sqft_living      0.103818  0.284611  -0.058753  0.762704    0.876597   \n",
       "sqft_lot         0.021604  0.074710  -0.008958  0.113621    0.183512   \n",
       "floors           0.023698  0.029444  -0.263768  0.458183    0.523885   \n",
       "waterfront       1.000000  0.401857   0.016653  0.082775    0.072075   \n",
       "view             0.401857  1.000000   0.045990  0.251321    0.167649   \n",
       "condition        0.016653  0.045990   1.000000 -0.144674   -0.158214   \n",
       "grade            0.082775  0.251321  -0.144674  1.000000    0.755923   \n",
       "sqft_above       0.072075  0.167649  -0.158214  0.755923    1.000000   \n",
       "sqft_basement    0.080588  0.276947   0.174105  0.168392   -0.051943   \n",
       "yr_built        -0.026161 -0.053440  -0.361417  0.446963    0.423898   \n",
       "yr_renovated     0.092885  0.103917  -0.060618  0.014414    0.023285   \n",
       "lat             -0.014274  0.006157  -0.014941  0.114084   -0.000816   \n",
       "long            -0.041910 -0.078400  -0.106500  0.198372    0.343803   \n",
       "sqft_living15    0.086463  0.280439  -0.092824  0.713202    0.731870   \n",
       "sqft_lot15       0.030703  0.072575  -0.003406  0.119248    0.194050   \n",
       "sales_year      -0.004165  0.001364  -0.045589 -0.030387   -0.023823   \n",
       "sales_month      0.008132 -0.005638   0.021978  0.008376    0.009872   \n",
       "\n",
       "               sqft_basement  yr_built  yr_renovated       lat      long  \\\n",
       "price               0.323816  0.054012      0.126434  0.307003  0.021626   \n",
       "bedrooms            0.303093  0.154178      0.018841 -0.008931  0.129473   \n",
       "bathrooms           0.283770  0.506019      0.050739  0.024573  0.223042   \n",
       "sqft_living         0.435043  0.318049      0.055363  0.052529  0.240223   \n",
       "sqft_lot            0.015286  0.053080      0.007644 -0.085683  0.229521   \n",
       "floors             -0.245705  0.489319      0.006338  0.049614  0.125419   \n",
       "waterfront          0.080588 -0.026161      0.092885 -0.014274 -0.041910   \n",
       "view                0.276947 -0.053440      0.103917  0.006157 -0.078400   \n",
       "condition           0.174105 -0.361417     -0.060618 -0.014941 -0.106500   \n",
       "grade               0.168392  0.446963      0.014414  0.114084  0.198372   \n",
       "sqft_above         -0.051943  0.423898      0.023285 -0.000816  0.343803   \n",
       "sqft_basement       1.000000 -0.133124      0.071323  0.110538 -0.144765   \n",
       "yr_built           -0.133124  1.000000     -0.224874 -0.148122  0.409356   \n",
       "yr_renovated        0.071323 -0.224874      1.000000  0.029398 -0.068372   \n",
       "lat                 0.110538 -0.148122      0.029398  1.000000 -0.135512   \n",
       "long               -0.144765  0.409356     -0.068372 -0.135512  1.000000   \n",
       "sqft_living15       0.200355  0.326229     -0.002673  0.048858  0.334605   \n",
       "sqft_lot15          0.017276  0.070958      0.007854 -0.086419  0.254451   \n",
       "sales_year         -0.015687  0.003507     -0.023707 -0.029212  0.000270   \n",
       "sales_month         0.006035 -0.006226      0.012827  0.014961 -0.008134   \n",
       "\n",
       "               sqft_living15  sqft_lot15  sales_year  sales_month  \n",
       "price               0.585379    0.082447    0.003576    -0.010081  \n",
       "bedrooms            0.391638    0.029244   -0.009838    -0.001533  \n",
       "bathrooms           0.568634    0.087175   -0.026596     0.007392  \n",
       "sqft_living         0.756420    0.183286   -0.029038     0.011810  \n",
       "sqft_lot            0.144608    0.718557    0.005468    -0.002369  \n",
       "floors              0.279885   -0.011269   -0.022315     0.014005  \n",
       "waterfront          0.086463    0.030703   -0.004165     0.008132  \n",
       "view                0.280439    0.072575    0.001364    -0.005638  \n",
       "condition          -0.092824   -0.003406   -0.045589     0.021978  \n",
       "grade               0.713202    0.119248   -0.030387     0.008376  \n",
       "sqft_above          0.731870    0.194050   -0.023823     0.009872  \n",
       "sqft_basement       0.200355    0.017276   -0.015687     0.006035  \n",
       "yr_built            0.326229    0.070958    0.003507    -0.006226  \n",
       "yr_renovated       -0.002673    0.007854   -0.023707     0.012827  \n",
       "lat                 0.048858   -0.086419   -0.029212     0.014961  \n",
       "long                0.334605    0.254451    0.000270    -0.008134  \n",
       "sqft_living15       1.000000    0.183192   -0.021734     0.002449  \n",
       "sqft_lot15          0.183192    1.000000   -0.000085     0.003546  \n",
       "sales_year         -0.021734   -0.000085    1.000000    -0.782389  \n",
       "sales_month         0.002449    0.003546   -0.782389     1.000000  "
      ]
     },
     "execution_count": 24,
     "metadata": {},
     "output_type": "execute_result"
    }
   ],
   "source": [
    "df.corr()"
   ]
  },
  {
   "cell_type": "code",
   "execution_count": 34,
   "metadata": {
    "deletable": false,
    "nbgrader": {
     "cell_type": "code",
     "checksum": "cb690bf4d70356a08f0ee1f6d5e1545d",
     "grade": false,
     "grade_id": "cell-0e9bdc9ee6161b7e",
     "locked": false,
     "schema_version": 3,
     "solution": true,
     "task": false
    }
   },
   "outputs": [],
   "source": [
    "# your code here\n",
    "\n",
    "# uncomment and update best_guess_predictor with a string value\n",
    "best_guess_predictor = 'sqft_living'"
   ]
  },
  {
   "cell_type": "code",
   "execution_count": null,
   "metadata": {
    "deletable": false,
    "editable": false,
    "nbgrader": {
     "cell_type": "code",
     "checksum": "cab8b0ff1b82e974b4cf97ca749a863b",
     "grade": true,
     "grade_id": "cell-455e59f31501b283",
     "locked": true,
     "points": 5,
     "schema_version": 3,
     "solution": false,
     "task": false
    }
   },
   "outputs": [],
   "source": [
    "# tests the solution for best_guess_predictor"
   ]
  },
  {
   "cell_type": "markdown",
   "metadata": {
    "deletable": false,
    "editable": false,
    "nbgrader": {
     "cell_type": "markdown",
     "checksum": "c237a12d7c1e9b0c4b1a0e437f960a48",
     "grade": false,
     "grade_id": "cell-7120f691348f8907",
     "locked": true,
     "schema_version": 3,
     "solution": false,
     "task": false
    }
   },
   "source": [
    "### 2b) Display the correlation matrix as heat map [Not graded]\n",
    "[`seaborn.heatmap()`](https://seaborn.pydata.org/generated/seaborn.heatmap.html) can visualize a matrix as a heatmap. Visualize the correlation matrix using seaborn.heatmap(). Play with color map, text font size, decimals, text orientation etc. For example, the resulting display may look like below. If you find how to make a pretty visualization, please share in the discussion board.\n",
    "![correlation matrix](imgs/correlation_matrix.png)\n",
    "<br>\n",
    "**Note:** your code for this section may cause the Validate button to time out. If you want to run the Validate button prior to submitting, you could comment out the code in this section."
   ]
  },
  {
   "cell_type": "code",
   "execution_count": 28,
   "metadata": {
    "deletable": false,
    "nbgrader": {
     "cell_type": "code",
     "checksum": "e95f16cad0f32b2a0c93718527f1e245",
     "grade": false,
     "grade_id": "cell-2e19c30b0454fabd",
     "locked": false,
     "schema_version": 3,
     "solution": true,
     "task": false
    }
   },
   "outputs": [
    {
     "data": {
      "text/plain": [
       "<matplotlib.axes._subplots.AxesSubplot at 0x7984f2bd60d0>"
      ]
     },
     "execution_count": 28,
     "metadata": {},
     "output_type": "execute_result"
    },
    {
     "data": {
      "image/png": "[encoded data removed]",
      "text/plain": [
       "<Figure size 432x288 with 2 Axes>"
      ]
     },
     "metadata": {
      "needs_background": "light"
     },
     "output_type": "display_data"
    }
   ],
   "source": [
    "# practice visualizing correlation matrix using a heatmap\n",
    "# your code here\n",
    "corr_matrix = df.corr()\n",
    "sns.heatmap(corr_matrix, annot=True, cmap='coolwarm', fmt='.2f', linewidths=0.5)"
   ]
  },
  {
   "cell_type": "markdown",
   "metadata": {
    "deletable": false,
    "editable": false,
    "nbgrader": {
     "cell_type": "markdown",
     "checksum": "7eb1239d6cd8fcb4cc0b24320c0585ed",
     "grade": false,
     "grade_id": "cell-b376b65ab6badfa0",
     "locked": true,
     "schema_version": 3,
     "solution": false,
     "task": false
    }
   },
   "source": [
    "### 2c) Pair plot [Not graded]\n",
    "Pair plot is a fast way to inspect relationships between features. Use seaborn's .pairplot() function to draw a pairplot if the first 10 columns (including price) and inspect their relationships. Set the diagonal elements to be KDE plot. The resulting plot will look like below.\n",
    "![pair plot](./imgs/pair_plot.png)\n",
    "\n",
    "**Note:** your code for this section may cause the Validate button to time out. If you want to run the Validate button prior to submitting, you could comment out the code in this section."
   ]
  },
  {
   "cell_type": "code",
   "execution_count": null,
   "metadata": {
    "deletable": false,
    "nbgrader": {
     "cell_type": "code",
     "checksum": "db9c2c0cb30348e3839528115fd1cac4",
     "grade": false,
     "grade_id": "cell-630895ed926e33b7",
     "locked": false,
     "schema_version": 3,
     "solution": true,
     "task": false
    }
   },
   "outputs": [],
   "source": [
    "# practice inspecting relationships between features using a pair plot. \n",
    "# your code here\n"
   ]
  },
  {
   "cell_type": "markdown",
   "metadata": {
    "deletable": false,
    "editable": false,
    "nbgrader": {
     "cell_type": "markdown",
     "checksum": "8b410127c6b93ff0523dfa5cd64ac572",
     "grade": false,
     "grade_id": "cell-a472da53d90eea44",
     "locked": true,
     "schema_version": 3,
     "solution": false,
     "task": false
    }
   },
   "source": [
    "## 3. Simple linear regression [20 pts]\n",
    "\n",
    "### 3a) Data preparation [5 pts]\n",
    "We will split the data to train and test datasets such that the test dataset is 20% of original data.\n",
    "Use `sklearn.model_selection.train_test_split` function to split the data frame to X_train and X_test. X_train is 80% of observation randomly chosen. X_test is the rest 20%. Both X_train and X_test are `pd.DataFrame` object and include 'price' in the table. Note that the train_test_split can handle data frame as well as array.\n",
    "\n",
    "> 💡***Tip:*** Use sklearn.model_selecttion.train_test_split to split the data frame. We would like X_train to be 80% of the observation and X_test to be 20% of the observations. Print length of X_train and X_test."
   ]
  },
  {
   "cell_type": "code",
   "execution_count": 29,
   "metadata": {
    "deletable": false,
    "nbgrader": {
     "cell_type": "code",
     "checksum": "3e1a22132061f104b6b95b12d6bafa3e",
     "grade": false,
     "grade_id": "cell-039f3a4314195737",
     "locked": false,
     "schema_version": 3,
     "solution": true,
     "task": false
    }
   },
   "outputs": [
    {
     "data": {
      "text/plain": [
       "(17290, 4323)"
      ]
     },
     "execution_count": 29,
     "metadata": {},
     "output_type": "execute_result"
    }
   ],
   "source": [
    "from sklearn.model_selection import train_test_split\n",
    "\n",
    "# your code here\n",
    "\n",
    "X_train, X_test = train_test_split(df, test_size=0.2, random_state=42)\n",
    "\n",
    "# Printing the length of X_train and X_test\n",
    "len_X_train = len(X_train)\n",
    "len_X_test = len(X_test)\n",
    "\n",
    "len_X_train, len_X_test\n"
   ]
  },
  {
   "cell_type": "code",
   "execution_count": null,
   "metadata": {
    "deletable": false,
    "editable": false,
    "nbgrader": {
     "cell_type": "code",
     "checksum": "c61f52b7722f91b4d2f40b870daedeef",
     "grade": true,
     "grade_id": "cell-8e12fbb95b41c1fd",
     "locked": true,
     "points": 1,
     "schema_version": 3,
     "solution": false,
     "task": false
    }
   },
   "outputs": [],
   "source": [
    "# Testing cell for self-check\n",
    "assert(len(X_train) == 17290), \"Check 3a, did you split properly so X_Train is 80% of the observations?\"\n",
    "assert(type(X_train)==type(pd.DataFrame())), \"Check 3a, what type of object should X_train be?\""
   ]
  },
  {
   "cell_type": "code",
   "execution_count": null,
   "metadata": {
    "deletable": false,
    "editable": false,
    "nbgrader": {
     "cell_type": "code",
     "checksum": "e334ccd526a1bbd1277ef5f1165b65ff",
     "grade": true,
     "grade_id": "cell-71c661acc821788e",
     "locked": true,
     "points": 2,
     "schema_version": 3,
     "solution": false,
     "task": false
    }
   },
   "outputs": [],
   "source": [
    "# Testing cell "
   ]
  },
  {
   "cell_type": "code",
   "execution_count": null,
   "metadata": {
    "deletable": false,
    "editable": false,
    "nbgrader": {
     "cell_type": "code",
     "checksum": "8f61dbb2f4b5e132b61925d8aef4b0fd",
     "grade": true,
     "grade_id": "cell-ed5049ec43a9c89c",
     "locked": true,
     "points": 2,
     "schema_version": 3,
     "solution": false,
     "task": false
    }
   },
   "outputs": [],
   "source": [
    "# Testing cell \n"
   ]
  },
  {
   "cell_type": "markdown",
   "metadata": {
    "deletable": false,
    "editable": false,
    "nbgrader": {
     "cell_type": "markdown",
     "checksum": "2460572926414e999715ebf96bba9ab1",
     "grade": false,
     "grade_id": "cell-d4c22fe96e318333",
     "locked": true,
     "schema_version": 3,
     "solution": false,
     "task": false
    }
   },
   "source": [
    "### 3b) Train a simple linear regression model [5 pts]\n",
    "Use the best_guess_predictor as a single predictor and build a simple linear regression model using **`statsmodels.formula.api.ols`** function (https://www.statsmodels.org/dev/example_formulas.html)\n",
    "Print out the result summary. Train on the X_train portion. What is the adjusted R-squared value?\n",
    "\n",
    "> 💡***Tip:*** We had imported the library at the top of this notebook. So you can use the `smf` alias.\n",
    ">```python\n",
    ">import statsmodels.formula.api as smf\n",
    ">```\n",
    "\n",
    "N.B.: It recommended that you use the statsmodel library to do the regression analysis as opposed to e.g. sklearn. The sklearn library is great for advanced topics, but it's easier to get lost in a sea of details and it's not needed for these problems."
   ]
  },
  {
   "cell_type": "code",
   "execution_count": 36,
   "metadata": {
    "deletable": false,
    "nbgrader": {
     "cell_type": "code",
     "checksum": "c03abf8922bae5b6ce64cbcc854701bb",
     "grade": false,
     "grade_id": "cell-f5291d1c1d6ebee5",
     "locked": false,
     "schema_version": 3,
     "solution": true,
     "task": false
    }
   },
   "outputs": [],
   "source": [
    "# use best_guess_predictor as a single predictor\n",
    "# build a simple linear regression model, train on the X_train portion\n",
    "\n",
    "# Make sure to use the `statsmodels.formula.api.ols` function for building the model. \n",
    "model = smf.ols('price ~ sqft_living', data=X_train).fit()\n",
    "\n",
    "#update following value according to the result\n",
    "adj_R2 = model.rsquared_adj\n",
    "\n",
    " \n",
    "\n",
    "# your code here\n",
    "\n",
    "\n"
   ]
  },
  {
   "cell_type": "code",
   "execution_count": 37,
   "metadata": {
    "deletable": false,
    "editable": false,
    "nbgrader": {
     "cell_type": "code",
     "checksum": "710e981a45c667ba1ec2b318ffa94dfb",
     "grade": true,
     "grade_id": "cell-2d149c760cefd97e",
     "locked": true,
     "points": 1,
     "schema_version": 3,
     "solution": false,
     "task": false
    }
   },
   "outputs": [],
   "source": [
    "# self test\n",
    "assert len(model.params.index) == 2, 'Check 3b, Number of model parameters (including intercept) does not match. Did you make a univariate model?'"
   ]
  },
  {
   "cell_type": "code",
   "execution_count": null,
   "metadata": {
    "deletable": false,
    "editable": false,
    "nbgrader": {
     "cell_type": "code",
     "checksum": "62a0d7caeea0e3fbbee18dd39c5b357a",
     "grade": true,
     "grade_id": "cell-fc6e4ae429f34164",
     "locked": true,
     "points": 2,
     "schema_version": 3,
     "solution": false,
     "task": false
    }
   },
   "outputs": [],
   "source": [
    "# hidden test for 3b"
   ]
  },
  {
   "cell_type": "code",
   "execution_count": null,
   "metadata": {
    "deletable": false,
    "editable": false,
    "nbgrader": {
     "cell_type": "code",
     "checksum": "0594e2699d342527721f9f20f478c9cc",
     "grade": true,
     "grade_id": "cell-5425e72049adbf2f",
     "locked": true,
     "points": 2,
     "schema_version": 3,
     "solution": false,
     "task": false
    }
   },
   "outputs": [],
   "source": [
    "# hidden test for 3b\n",
    "                                                                          "
   ]
  },
  {
   "cell_type": "markdown",
   "metadata": {
    "deletable": false,
    "editable": false,
    "nbgrader": {
     "cell_type": "markdown",
     "checksum": "d6c742f995b9e5368e99fa8066caba04",
     "grade": false,
     "grade_id": "cell-a69012fe381b2827",
     "locked": true,
     "schema_version": 3,
     "solution": false,
     "task": false
    }
   },
   "source": [
    "### 3c) Best predictor [10 pts]\n",
    "In question 5a, we picked a best guess predictor for price based on the correlation matrix. Now we will consider whether the best_guess_predictor that we used is still the best.<br>\n",
    "Print out a list ranking all of the predictors. Then print out a list of the top three predictors in order.<br>      \n",
    "**Hint:** Linear regression uses adjusted R squared as fit performance. So you can rank by this metric.<br>\n",
    "- What were your top three predictors? \n",
    "- How did you order your list of predictors to select those as the top ones? \n",
    "- Is your top predictor for this section the same as the best guess predictor you selected in question 2a? "
   ]
  },
  {
   "cell_type": "code",
   "execution_count": 40,
   "metadata": {
    "deletable": false,
    "nbgrader": {
     "cell_type": "code",
     "checksum": "19eb58f3f171dc9a81cac6256d8ec962",
     "grade": false,
     "grade_id": "cell-9ca80c1b78b9ccd7",
     "locked": false,
     "schema_version": 3,
     "solution": true,
     "task": false
    }
   },
   "outputs": [],
   "source": [
    "# your code here\n",
    "correlations = df.corr()\n",
    "\n",
    "# Extracting the correlation values of all predictors with the target variable 'price'\n",
    "correlation_with_price = correlations['price'].drop('price')  # Dropping 'price' itself from the list\n",
    "\n",
    "# Sorting the predictors based on their absolute correlation with 'price' in descending order\n",
    "ranked_predictors = correlation_with_price.abs().sort_values(ascending=False)\n",
    "\n",
    "# Getting the top three predictors\n",
    "ranked_predictors.head(3)\n",
    "# uncomment and update top_three\n",
    "top_three = ['sqft_living', 'grade','sqft_above']"
   ]
  },
  {
   "cell_type": "code",
   "execution_count": 41,
   "metadata": {
    "deletable": false,
    "editable": false,
    "nbgrader": {
     "cell_type": "code",
     "checksum": "089686b6dc453231e23bebc09ec425fa",
     "grade": true,
     "grade_id": "cell-385027dd29c1bbd3",
     "locked": true,
     "points": 1,
     "schema_version": 3,
     "solution": false,
     "task": false
    }
   },
   "outputs": [],
   "source": [
    "# self test cell\n",
    "assert(type(top_three) == list), \"Check 3c, the top_three needs to be a list.\"\n",
    "assert(len(top_three) == 3), \"Check 3c, the top_three list needs to have three element.\""
   ]
  },
  {
   "cell_type": "code",
   "execution_count": null,
   "metadata": {
    "deletable": false,
    "editable": false,
    "nbgrader": {
     "cell_type": "code",
     "checksum": "e023a1501547b874eb9667d60cfb3112",
     "grade": true,
     "grade_id": "cell-823971647e6e28eb",
     "locked": true,
     "points": 2,
     "schema_version": 3,
     "solution": false,
     "task": false
    }
   },
   "outputs": [],
   "source": [
    "# test cell"
   ]
  },
  {
   "cell_type": "code",
   "execution_count": null,
   "metadata": {
    "deletable": false,
    "editable": false,
    "nbgrader": {
     "cell_type": "code",
     "checksum": "074c0fd74c9b90b39a55dcf9bb4031f6",
     "grade": true,
     "grade_id": "cell-d817fe4469b808c2",
     "locked": true,
     "points": 2,
     "schema_version": 3,
     "solution": false,
     "task": false
    }
   },
   "outputs": [],
   "source": [
    "# test cell"
   ]
  },
  {
   "cell_type": "code",
   "execution_count": null,
   "metadata": {
    "deletable": false,
    "editable": false,
    "nbgrader": {
     "cell_type": "code",
     "checksum": "1e2c7a98793f142b9364982dad537f60",
     "grade": true,
     "grade_id": "cell-4250799ed572919a",
     "locked": true,
     "points": 2,
     "schema_version": 3,
     "solution": false,
     "task": false
    }
   },
   "outputs": [],
   "source": [
    "# test cell"
   ]
  },
  {
   "cell_type": "code",
   "execution_count": null,
   "metadata": {
    "deletable": false,
    "editable": false,
    "nbgrader": {
     "cell_type": "code",
     "checksum": "484055bed3718486099427ef3df37243",
     "grade": true,
     "grade_id": "cell-a1c9231f7c678cca",
     "locked": true,
     "points": 1,
     "schema_version": 3,
     "solution": false,
     "task": false
    }
   },
   "outputs": [],
   "source": [
    "# test cell"
   ]
  },
  {
   "cell_type": "code",
   "execution_count": null,
   "metadata": {
    "deletable": false,
    "editable": false,
    "nbgrader": {
     "cell_type": "code",
     "checksum": "e339e943b9dd5d163e037ca1171d2e54",
     "grade": true,
     "grade_id": "cell-c2d5eb3a0be8fe42",
     "locked": true,
     "points": 1,
     "schema_version": 3,
     "solution": false,
     "task": false
    }
   },
   "outputs": [],
   "source": [
    "# test cell"
   ]
  },
  {
   "cell_type": "code",
   "execution_count": null,
   "metadata": {
    "deletable": false,
    "editable": false,
    "nbgrader": {
     "cell_type": "code",
     "checksum": "529d50e613d0e22b4d957dbdac5d4286",
     "grade": true,
     "grade_id": "cell-5067d7fbced43b91",
     "locked": true,
     "points": 1,
     "schema_version": 3,
     "solution": false,
     "task": false
    }
   },
   "outputs": [],
   "source": [
    "# test cell"
   ]
  },
  {
   "cell_type": "code",
   "execution_count": null,
   "metadata": {},
   "outputs": [],
   "source": []
  }
 ],
 "metadata": {
  "kernelspec": {
   "display_name": "Python 3",
   "language": "python",
   "name": "python3"
  },
  "language_info": {
   "codemirror_mode": {
    "name": "ipython",
    "version": 3
   },
   "file_extension": ".py",
   "mimetype": "text/x-python",
   "name": "python",
   "nbconvert_exporter": "python",
   "pygments_lexer": "ipython3",
   "version": "3.7.6"
  }
 },
 "nbformat": 4,
 "nbformat_minor": 4
}
