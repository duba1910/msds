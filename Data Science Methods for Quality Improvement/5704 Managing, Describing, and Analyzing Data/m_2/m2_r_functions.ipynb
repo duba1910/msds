{
 "cells": [
  {
   "cell_type": "markdown",
   "id": "e1d9bea4",
   "metadata": {
    "vscode": {
     "languageId": "bat"
    }
   },
   "source": [
    "Based on the extended preview, here are additional functions and their descriptions:\n",
    "\n",
    "| Function Name                  | Function Declaration                    | Description                                                               |\n",
    "|--------------------------------|-----------------------------------------|---------------------------------------------------------------------------|\n",
    "| spc.run.chart                  | spc.run.chart(chart.series, ...)        | Creates a run chart for the given data series                             |\n",
    "| frequency.dist.ungrouped       | frequency.dist.ungrouped(data)          | Computes ungrouped frequency distribution for the data                    |\n",
    "| frequency.dist.grouped         | frequency.dist.grouped(data)            | Computes grouped frequency distribution for the data                      |\n",
    "| frequency.polygon.ungrouped    | frequency.polygon.ungrouped(data, ...)  | Plots an ungrouped frequency polygon for the data                         |\n",
    "| frequency.polygon.grouped      | frequency.polygon.grouped(data, ...)    | Plots a grouped frequency polygon for the data                            |\n",
    "| hist.ungrouped                 | hist.ungrouped(data, ...)               | Plots an ungrouped histogram for the data                                 |\n",
    "| hist.grouped                   | hist.grouped(data, ...)                 | Plots a grouped histogram for the data                                    |\n",
    "| plot.density                   | plot.density(data, ...)                 | Plots the density of the data                                             |\n",
    "| boxplot                        | boxplot(data, ...)                      | Creates a boxplot for the data                                            |\n",
    "| mean                           | mean(data)                              | Calculates the mean of the data                                           |\n",
    "| weighted.mean                  | weighted.mean(x, w)                     | Calculates the weighted mean of the data                                  |\n",
    "| median                         | median(data)                            | Calculates the median of the data                                         |\n",
    "| sample.mode                    | sample.mode(data)                       | Calculates the mode of the data                                           |\n",
    "| min                            | min(data)                               | Finds the minimum value in the data                                       |\n",
    "| max                            | max(data)                               | Finds the maximum value in the data                                       |\n",
    "| summary                        | summary(data)                           | Provides a summary of the data                                            |\n",
    "| quantile                       | quantile(x, probs)                      | Finds the specified quantile of the data                                  |\n",
    "| range                          | range(data)                             | Finds the range of values in the data                                     |\n",
    "| IQR                            | IQR(data)                               | Finds the interquartile range of the data                                 |\n",
    "| sd                             | sd(data)                                | Calculates the standard deviation of the data                             |\n",
    "| skewness                       | skewness(data)                          | Calculates the skewness of the data                                       |\n",
    "| kurtosis                       | kurtosis(data)                          | Calculates the kurtosis of the data                                       |\n",
    "\n",
    "These entries should cover a significant portion of the functions present in the file. If you need more lines processed or specific details, please let me know!"
   ]
  }
 ],
 "metadata": {
  "kernelspec": {
   "display_name": "Python 3 (ipykernel)",
   "language": "python",
   "name": "python3"
  },
  "language_info": {
   "codemirror_mode": {
    "name": "ipython",
    "version": 3
   },
   "file_extension": ".py",
   "mimetype": "text/x-python",
   "name": "python",
   "nbconvert_exporter": "python",
   "pygments_lexer": "ipython3",
   "version": "3.11.1"
  }
 },
 "nbformat": 4,
 "nbformat_minor": 5
}
