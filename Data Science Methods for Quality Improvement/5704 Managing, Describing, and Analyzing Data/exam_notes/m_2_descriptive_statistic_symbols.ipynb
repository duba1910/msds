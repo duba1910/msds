{
 "cells": [
  {
   "cell_type": "markdown",
   "id": "e1d9bea4",
   "metadata": {
    "vscode": {
     "languageId": "bat"
    }
   },
   "source": [
    "Here's a table showing the appropriate symbols for the population and sample of various descriptive statistics:\n",
    "\n",
    "| **Statistic**              | **Population Symbol** | **Sample Symbol** |\n",
    "|----------------------------|-----------------------|-------------------|\n",
    "| **Mean**                   | μ (mu)                | \\(\\overline{x}\\)  |\n",
    "| **Median**                 | M or η (eta)          | \\( \\tilde{x} \\)   |\n",
    "| **Mode**                   | Mo                    | Mo                |\n",
    "| **Range**                  | R                     | R                 |\n",
    "| **Interquartile Range**    | IQR                   | IQR               |\n",
    "| **Variance**               | σ² (sigma squared)    | s²                |\n",
    "| **Standard Deviation**     | σ (sigma)             | s                 |\n",
    "| **Skewness**               | γ3 (gamma 1)          | G3 or \\( \\tilde{g}_3 \\) |\n",
    "| **Kurtosis**               | γ4 (gamma 4)          | G4 or \\( \\tilde{g}_4 \\) |\n",
    "| **Coefficient of Correlation** | ρ (rho)          | r                 |\n",
    "\n",
    "### Notes:\n",
    "- **Mean:** The population mean is denoted by μ, while the sample mean is \\(\\overline{x}\\).\n",
    "- **Median and Mode:** While the population and sample symbols are generally the same, specific contexts might have variations.\n",
    "- **Variance and Standard Deviation:** The population variance is denoted by σ² and standard deviation by σ, while the sample variance and standard deviation are denoted by s² and s, respectively.\n",
    "- **Skewness and Kurtosis:** For population skewness and kurtosis, γ₁ and γ₂ are used, while the sample counterparts are often denoted by G₁, G₂, or by using the sample estimate symbols \\( \\tilde{g}_1 \\) and \\( \\tilde{g}_2 \\).\n",
    "- **Coefficient of Correlation:** The population correlation coefficient is denoted by ρ (rho), while the sample correlation coefficient is denoted by r.\n",
    "\n",
    "These symbols are standard, but different textbooks or contexts may have slight variations."
   ]
  }
 ],
 "metadata": {
  "kernelspec": {
   "display_name": "Python 3 (ipykernel)",
   "language": "python",
   "name": "python3"
  },
  "language_info": {
   "codemirror_mode": {
    "name": "ipython",
    "version": 3
   },
   "file_extension": ".py",
   "mimetype": "text/x-python",
   "name": "python",
   "nbconvert_exporter": "python",
   "pygments_lexer": "ipython3",
   "version": "3.11.1"
  }
 },
 "nbformat": 4,
 "nbformat_minor": 5
}
