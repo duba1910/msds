{
 "cells": [
  {
   "cell_type": "markdown",
   "id": "9e223324",
   "metadata": {},
   "source": [
    "Outlier analysis: Briefly describe one example for each of the three types of outliers and which method may be used to detect such outlier.   \n",
    "\n",
    "Research frontier: Pick one issue we covered in the lecture that interests you, do some research online, and write a brief paragraph describing the issue, why it is important, and some potential solutions. \n",
    "\n",
    "Note: peer grading is anonymous (that is, your name is not seen by others) so long as you do not put your name or other personally identifying information in the title of your submission."
   ]
  },
  {
   "cell_type": "markdown",
   "id": "5614400e",
   "metadata": {},
   "source": [
    "---"
   ]
  },
  {
   "cell_type": "markdown",
   "id": "5fad232d",
   "metadata": {},
   "source": [
    "Global outlier: Briefly describe one example and which method may be used to detect such outlier.   \n",
    "\n",
    "An example of a global outlier would be a student scoring 100% on every exam in a class where the average score is 70%. This student's performance is significantly different from the rest of the class. We could plot this student's scores on a graph and see how many standard deviations they sit from the mean. A high z-score would indicate an outlier. "
   ]
  },
  {
   "cell_type": "markdown",
   "id": "10ff6bf7",
   "metadata": {},
   "source": [
    "Contextual outlier: Briefly describe one example and which method may be used to detect such outlier.   \n",
    "\n",
    "An example of a contextual outlier would be a temperature reading of 95F in New York City. In summer, this is normal, but in the middle of winter, it would be considered an outlier. We could preform a seasonal decomposition to identify and separate seasonal and trend components in time series data, allowing the detection of anomalies within specific contexts."
   ]
  },
  {
   "cell_type": "markdown",
   "id": "75163629",
   "metadata": {},
   "source": [
    "Collective outlier: Briefly describe one example and which method may be used to detect such outlier.   \n",
    "\n",
    "An example of a collective outlier would be a sequence of consecutive transactions from a credit card that are individually not outliers but collectively indicate fraudulent activity (e.g., many small purchases in quick succession). We could use clustering algorithms (e.g., DBSCAN)to identify clusters of similar data points and highlight groups of data points that are collectively different from the rest of the data."
   ]
  },
  {
   "cell_type": "markdown",
   "id": "2a91f846",
   "metadata": {},
   "source": [
    "Research frontier: Pick one issue we covered in the lecture that interests you, do some research online, and write a brief paragraph describing the issue, why it is important, and some potential solutions. \n",
    "\n",
    "Credit card fraud costs billions annually and requires real-time detection to prevent losses. Data mining and outlier analysis are essential tools for identifying fraudulent transactions. These techniques detect anomalies that deviate from normal behavior using methods like Z-score, seasonal decomposition, and clustering algorithms. Effective fraud detection systems enhance financial security and customer trust. Solutions include real-time monitoring, adaptive learning models, and combining multiple detection methods."
   ]
  }
 ],
 "metadata": {
  "kernelspec": {
   "display_name": "Python 3 (ipykernel)",
   "language": "python",
   "name": "python3"
  },
  "language_info": {
   "codemirror_mode": {
    "name": "ipython",
    "version": 3
   },
   "file_extension": ".py",
   "mimetype": "text/x-python",
   "name": "python",
   "nbconvert_exporter": "python",
   "pygments_lexer": "ipython3",
   "version": "3.9.12"
  }
 },
 "nbformat": 4,
 "nbformat_minor": 5
}
