{
 "cells": [
  {
   "cell_type": "markdown",
   "id": "9e223324",
   "metadata": {},
   "source": [
    "Outlier analysis: Briefly describe one example for each of the three types of outliers and which method may be used to detect such outlier.   \n",
    "\n",
    "Research frontier: Pick one issue we covered in the lecture that interests you, do some research online, and write a brief paragraph describing the issue, why it is important, and some potential solutions. \n",
    "\n",
    "Note: peer grading is anonymous (that is, your name is not seen by others) so long as you do not put your name or other personally identifying information in the title of your submission."
   ]
  },
  {
   "cell_type": "markdown",
   "id": "5614400e",
   "metadata": {},
   "source": [
    "---"
   ]
  },
  {
   "cell_type": "markdown",
   "id": "5fad232d",
   "metadata": {},
   "source": [
    "Global outlier: Briefly describe one example and which method may be used to detect such outlier.   \n",
    "\n"
   ]
  },
  {
   "cell_type": "markdown",
   "id": "10ff6bf7",
   "metadata": {},
   "source": [
    "Contextual outlier: Briefly describe one example and which method may be used to detect such outlier.   \n",
    "\n"
   ]
  },
  {
   "cell_type": "markdown",
   "id": "75163629",
   "metadata": {},
   "source": [
    "Collective outlier: Briefly describe one example and which method may be used to detect such outlier.   \n",
    "\n"
   ]
  },
  {
   "cell_type": "markdown",
   "id": "2a91f846",
   "metadata": {},
   "source": [
    "Research frontier: Pick one issue we covered in the lecture that interests you, do some research online, and write a brief paragraph describing the issue, why it is important, and some potential solutions. \n",
    "\n"
   ]
  }
 ],
 "metadata": {
  "kernelspec": {
   "display_name": "Python 3 (ipykernel)",
   "language": "python",
   "name": "python3"
  },
  "language_info": {
   "codemirror_mode": {
    "name": "ipython",
    "version": 3
   },
   "file_extension": ".py",
   "mimetype": "text/x-python",
   "name": "python",
   "nbconvert_exporter": "python",
   "pygments_lexer": "ipython3",
   "version": "3.9.12"
  }
 },
 "nbformat": 4,
 "nbformat_minor": 5
}
