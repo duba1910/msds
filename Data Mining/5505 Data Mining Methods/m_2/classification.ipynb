{
 "cells": [
  {
   "cell_type": "markdown",
   "metadata": {
    "deletable": false,
    "editable": false,
    "nbgrader": {
     "cell_type": "markdown",
     "checksum": "462e84dce6cc59da8cf692c7afb947fb",
     "grade": false,
     "grade_id": "cell-9e982d5757397d17",
     "locked": true,
     "schema_version": 3,
     "solution": false,
     "task": false
    }
   },
   "source": [
    "## Homework 2 -  Classification\n",
    "***\n",
    "**Name**: $<$insert name here$>$ \n",
    "***\n",
    "\n",
    "Remember that you are encouraged to discuss the problems with your instructors and classmates, but **you must write all code and solutions on your own**."
   ]
  },
  {
   "cell_type": "markdown",
   "metadata": {
    "deletable": false,
    "editable": false,
    "nbgrader": {
     "cell_type": "markdown",
     "checksum": "1b8b5fbebe15adffeb7e4ffb348dd312",
     "grade": false,
     "grade_id": "cell-9c14fe8b7cedca4b",
     "locked": true,
     "schema_version": 3,
     "solution": false,
     "task": false
    }
   },
   "source": [
    "The rules to be followed for the assignment are:\n",
    "\n",
    "- Do **NOT** load additional packages beyond what we've shared in the cells below.\n",
    "- Some problems with code may be autograded.  If we provide a function or class API **do not** change it.\n",
    "- Do not change the location of the data or data directory.  Use only relative paths to access the data."
   ]
  },
  {
   "cell_type": "code",
   "execution_count": 1,
   "metadata": {
    "deletable": false,
    "editable": false,
    "nbgrader": {
     "cell_type": "code",
     "checksum": "01007295310f323658ea09500447eb71",
     "grade": false,
     "grade_id": "cell-45d9e7721034be56",
     "locked": true,
     "schema_version": 3,
     "solution": false,
     "task": false
    }
   },
   "outputs": [],
   "source": [
    "import argparse\n",
    "import pandas as pd\n",
    "import numpy as np\n",
    "import pickle\n",
    "from pathlib import Path\n",
    "from collections import defaultdict"
   ]
  },
  {
   "cell_type": "markdown",
   "metadata": {
    "deletable": false,
    "editable": false,
    "nbgrader": {
     "cell_type": "markdown",
     "checksum": "c5dc56ea000a733dd06e37d48b9a16fd",
     "grade": false,
     "grade_id": "cell-af752c2b34428286",
     "locked": true,
     "schema_version": 3,
     "solution": false,
     "task": false
    }
   },
   "source": [
    "### [10 points] Problem 1 - Building a Decision Tree\n",
    "***\n",
    "\n",
    "A sample dataset has been provided to you in the './data/dataset.csv' path. Here are the attributes for the dataset. Use this dataset to test your functions.\n",
    "\n",
    "- Age - [\"<=30\", \"31-40\", \">40\"]\n",
    "- Income - [\"low\", \"medium\", \"high\"]\n",
    "- Student - [\"no\", \"yes\"]\n",
    "- Credit Rating - [\"fair\", \"excellent\"]\n",
    "- Loan - [\"no\", \"yes\"]\n",
    "\n",
    "Note:\n",
    "- A sample dataset to test your code has been provided in the location \"data/dataset.csv\". Please maintain this as it would be necessary while grading.\n",
    "- Do not change the variable names of the returned values.\n",
    "- After calculating each of those values, assign them to the corresponding value that is being returned.\n",
    "- The \"Loan\" attribute should be used as the target variable while making calculations for your decision tree."
   ]
  },
  {
   "cell_type": "code",
   "execution_count": 2,
   "metadata": {
    "deletable": false,
    "nbgrader": {
     "cell_type": "code",
     "checksum": "a300bd3e85f8415dc5459f67a071a47a",
     "grade": false,
     "grade_id": "cell-61181ec0d8dd26b7",
     "locked": false,
     "schema_version": 3,
     "solution": true,
     "task": false
    }
   },
   "outputs": [],
   "source": [
    "import math\n",
    "import pandas as pd\n",
    "\n",
    "def information_gain_target(dataset_file): \n",
    "    \n",
    "#        Input: dataset_file - A string variable which references the path to the dataset file.\n",
    "#        Output: ig_loan - A floating point variable which holds the information entropy associated with the target variable.\n",
    "#        \n",
    "#        NOTE: \n",
    "#        1. Return the information gain associated with the target variable in the dataset.\n",
    "#        2. The Loan attribute is the target variable\n",
    "#        3. The pandas dataframe has the following attributes: Age, Income, Student, Credit Rating, Loan\n",
    "#        4. Perform your calculations for information gain and assign it to the variable ig_loan\n",
    "\n",
    "\n",
    "    df = pd.read_csv(dataset_file)\n",
    "    ig_loan = 0\n",
    "    \n",
    "    target = df['Loan']\n",
    "    target_entropy = 0\n",
    "    target_count = target.value_counts()\n",
    "    # use ig formula to calculate for only the target variable\n",
    "    for i in target_count:\n",
    "        target_entropy += -i/len(target)*math.log2(i/len(target))\n",
    "        \n",
    "    ig_loan = target_entropy\n",
    "    \n",
    "    return ig_loan"
   ]
  },
  {
   "cell_type": "code",
   "execution_count": 3,
   "metadata": {
    "deletable": false,
    "editable": false,
    "nbgrader": {
     "cell_type": "code",
     "checksum": "23b9a132450f65c181780fc36f48e950",
     "grade": false,
     "grade_id": "cell-d6b955b4f57ad228",
     "locked": true,
     "schema_version": 3,
     "solution": false,
     "task": false
    }
   },
   "outputs": [
    {
     "name": "stdout",
     "output_type": "stream",
     "text": [
      "The expected ig_loan value for the given dataset is: 0.9798687566511528\n",
      "Your ig_loan value is: 0.9798687566511528\n",
      "Visible tests passed!\n"
     ]
    }
   ],
   "source": [
    "# This cell has visible test cases that you can run to see if you are on the right track!\n",
    "# Note: hidden tests will also be applied on other datasets for final grading.\n",
    "\n",
    "ig_loan = information_gain_target('./data/dataset.csv')\n",
    "ig_loan_expected = 0.9798687566511528\n",
    "\n",
    "print(f'The expected ig_loan value for the given dataset is: {ig_loan_expected}')\n",
    "print(f'Your ig_loan value is: {ig_loan}')\n",
    "\n",
    "try:\n",
    "    np.testing.assert_allclose(ig_loan, ig_loan_expected, rtol=0.001, atol=0.001)\n",
    "    print(\"Visible tests passed!\")\n",
    "except:\n",
    "    print(\"Visible tests failed!\")"
   ]
  },
  {
   "cell_type": "code",
   "execution_count": null,
   "metadata": {
    "deletable": false,
    "editable": false,
    "nbgrader": {
     "cell_type": "code",
     "checksum": "4abccde1bb451cbd38c84288ac51b23c",
     "grade": true,
     "grade_id": "cell-831583db0fac12a6",
     "locked": true,
     "points": 5,
     "schema_version": 3,
     "solution": false,
     "task": false
    }
   },
   "outputs": [],
   "source": [
    "\n",
    "# This cell has hidden test cases that will run after you submit your assignment. \n"
   ]
  },
  {
   "cell_type": "code",
   "execution_count": 4,
   "metadata": {
    "deletable": false,
    "nbgrader": {
     "cell_type": "code",
     "checksum": "77bbcd26dcf0274a70d84565e82683c9",
     "grade": false,
     "grade_id": "cell-dbd31d0b008467ae",
     "locked": false,
     "schema_version": 3,
     "solution": true,
     "task": false
    }
   },
   "outputs": [],
   "source": [
    "def information_gain(p_count_yes, p_count_no):\n",
    "    \n",
    "#   A helper function that returns the information gain when given counts of number of yes and no values. \n",
    "#   Please complete this function before you proceed to the information_gain_attributes function below.\n",
    "    \n",
    "    ig = 0\n",
    "    total = p_count_yes + p_count_no\n",
    "    if p_count_yes == 0 or p_count_no == 0:\n",
    "        ig = 0\n",
    "    else:\n",
    "        ig = -((p_count_yes/total)*math.log2(p_count_yes/total) + (p_count_no/total)*math.log2(p_count_no/total))\n",
    "        \n",
    "    return ig\n",
    "    \n",
    "    return ig"
   ]
  },
  {
   "cell_type": "code",
   "execution_count": 5,
   "metadata": {
    "deletable": false,
    "nbgrader": {
     "cell_type": "code",
     "checksum": "8fb866ed1914204ffb80493c8289db4a",
     "grade": false,
     "grade_id": "cell-540b05dbe445a68b",
     "locked": false,
     "schema_version": 3,
     "solution": true,
     "task": false
    }
   },
   "outputs": [],
   "source": [
    "import operator\n",
    "\n",
    "attribute_values = {\n",
    "    \"Age\": [\"<=30\", \"31-40\", \">40\"],\n",
    "    \"Income\": [\"low\", \"medium\", \"high\"],\n",
    "    \"Student\": [\"yes\", \"no\"],\n",
    "    \"Credit Rating\": [\"fair\", \"excellent\"]\n",
    "}\n",
    "\n",
    "attributes = [\"Age\", \"Income\", \"Student\", \"Credit Rating\"]\n",
    "\n",
    "def information_gain_attributes(dataset_file, ig_loan, attributes, attribute_values):\n",
    "    \n",
    "#        Input: \n",
    "#            1. dataset_file - A string variable which references the path to the dataset file.\n",
    "#            2. ig_loan - A floating point variable representing the information gain of the target variable \"Loan\".\n",
    "#            3. attributes - A python list which has all the attributes of the dataset\n",
    "#            4. attribute_values - A python dictionary representing the values each attribute can hold.\n",
    "#            \n",
    "#        Output: results - A python dictionary representing the information gain associated with each variable.\n",
    "#            1. ig_attributes - A sub dictionary representing the information gain for each attribute.\n",
    "#            2. best_attribute - Returns the attribute which has the highest information gain.\n",
    "#        \n",
    "#        NOTE: \n",
    "#        1. The Loan attribute is the target variable\n",
    "#        2. The pandas dataframe has the following attributes: Age, Income, Student, Credit Rating, Loan\n",
    "    \n",
    "    results = {\n",
    "        \"ig_attributes\": {\n",
    "            \"Age\": 0,\n",
    "            \"Income\": 0,\n",
    "            \"Student\": 0,\n",
    "            \"Credit Rating\": 0\n",
    "        },\n",
    "        \"best_attribute\": \"\"\n",
    "    }\n",
    "    \n",
    "    df = pd.read_csv(dataset_file)\n",
    "    d_range = len(df)\n",
    "    \n",
    "    for attribute in attributes:\n",
    "        ig_attribute = 0\n",
    "        value_counts = dict()\n",
    "        vcount = df[attribute].value_counts()\n",
    "        for att_value in attribute_values[attribute]:\n",
    "            \n",
    "            p_count_yes = 0\n",
    "            p_count_no = 0\n",
    "            # check if the value is in the attribute\n",
    "            if att_value in vcount:\n",
    "                # get the count of the target variable for each class\n",
    "                p_count_yes = len(df[(df[attribute] == att_value) & (df['Loan'] == 'yes')])\n",
    "                p_count_no = len(df[(df[attribute] == att_value) & (df['Loan'] == 'no')])\n",
    "            # calculate the information gain for the attribute\n",
    "            ig_attribute += (vcount[att_value]/d_range)*information_gain(p_count_yes, p_count_no)\n",
    "            \n",
    "        \n",
    "        results[\"ig_attributes\"][attribute] = ig_loan - ig_attribute\n",
    "        \n",
    "    \n",
    "    results[\"best_attribute\"] = max(results[\"ig_attributes\"].items(), key=operator.itemgetter(1))[0]\n",
    "    return results"
   ]
  },
  {
   "cell_type": "code",
   "execution_count": 6,
   "metadata": {
    "deletable": false,
    "editable": false,
    "nbgrader": {
     "cell_type": "code",
     "checksum": "00cdfbeec6904a377707474e041584ca",
     "grade": false,
     "grade_id": "cell-6b8ef0a3d2babe32",
     "locked": true,
     "schema_version": 3,
     "solution": false,
     "task": false
    }
   },
   "outputs": [
    {
     "name": "stdout",
     "output_type": "stream",
     "text": [
      "The expected results value for the given dataset is:\n",
      "{'best_attribute': 'Age',\n",
      " 'ig_attributes': {'Age': 0.2419726756283742,\n",
      "                   'Credit Rating': 0.07181901063117269,\n",
      "                   'Income': 0.012398717114751934,\n",
      "                   'Student': 0.19570962879973097}}\n",
      "Your results value is:\n",
      "{'best_attribute': 'Age',\n",
      " 'ig_attributes': {'Age': 0.2419726756283742,\n",
      "                   'Credit Rating': 0.07181901063117269,\n",
      "                   'Income': 0.012398717114751934,\n",
      "                   'Student': 0.19570962879973097}}\n",
      "Visible tests passed!\n"
     ]
    }
   ],
   "source": [
    "# This cell has visible test cases that you can run to see if you are on the right track!\n",
    "# Note: hidden tests will also be applied on other datasets for final grading.\n",
    "\n",
    "import pprint\n",
    "pp = pprint.PrettyPrinter(depth=4)\n",
    "ig_loan_expected = 0.9798687566511528\n",
    "\n",
    "attribute_values = {\n",
    "    \"Age\": [\"<=30\", \"31-40\", \">40\"],\n",
    "    \"Income\": [\"low\", \"medium\", \"high\"],\n",
    "    \"Student\": [\"yes\", \"no\"],\n",
    "    \"Credit Rating\": [\"fair\", \"excellent\"]\n",
    "}\n",
    "\n",
    "attributes = [\"Age\", \"Income\", \"Student\", \"Credit Rating\"]\n",
    "\n",
    "results = information_gain_attributes(\"./data/dataset.csv\", ig_loan_expected, attributes, attribute_values)\n",
    "\n",
    "results_expected = {'ig_attributes': {'Age': 0.2419726756283742, 'Income': 0.012398717114751934, 'Student': 0.19570962879973097, 'Credit Rating': 0.07181901063117269}, 'best_attribute': 'Age'}\n",
    "\n",
    "print(f'The expected results value for the given dataset is:')\n",
    "pp.pprint(results_expected)\n",
    "print(f'Your results value is:')\n",
    "pp.pprint(results)\n",
    "\n",
    "try:\n",
    "    x = pd.Series(results[\"ig_attributes\"])\n",
    "    y = pd.Series(results_expected[\"ig_attributes\"])\n",
    "    pd.testing.assert_series_equal(x, y, check_less_precise=3)\n",
    "    assert results[\"best_attribute\"] == results_expected[\"best_attribute\"]\n",
    "    print(\"Visible tests passed!\")\n",
    "except:\n",
    "    print(\"Visible tests failed!\")"
   ]
  },
  {
   "cell_type": "code",
   "execution_count": null,
   "metadata": {
    "deletable": false,
    "editable": false,
    "nbgrader": {
     "cell_type": "code",
     "checksum": "e22399a14e54fc2a36a46cce5fb475e5",
     "grade": true,
     "grade_id": "cell-dd2742d4c14f088e",
     "locked": true,
     "points": 5,
     "schema_version": 3,
     "solution": false,
     "task": false
    }
   },
   "outputs": [],
   "source": [
    "\n",
    "# This cell has hidden test cases that will run after you submit your assignment. \n"
   ]
  },
  {
   "cell_type": "markdown",
   "metadata": {
    "deletable": false,
    "editable": false,
    "nbgrader": {
     "cell_type": "markdown",
     "checksum": "37c9c814aef3c2a4651202ceab883888",
     "grade": false,
     "grade_id": "cell-d02bc39e9c144563",
     "locked": true,
     "schema_version": 3,
     "solution": false,
     "task": false
    }
   },
   "source": [
    "### [10 points] Problem 2 - Building a Naive Bayes Classifier\n",
    "***\n",
    "\n",
    "A sample dataset has been provided to you in the './data/dataset.csv' path. Here are the attributes for the dataset. Use this dataset to test your functions.\n",
    "\n",
    "- Age - [\"<=30\", \"31-40\", \">40\"]\n",
    "- Income - [\"low\", \"medium\", \"high\"]\n",
    "- Student - [\"no\", \"yes\"]\n",
    "- Credit Rating - [\"fair\", \"excellent\"]\n",
    "- Loan - [\"no\", \"yes\"]\n",
    "\n",
    "Note:\n",
    "- A sample dataset to test your code has been provided in the location \"data/dataset.csv\". Please maintain this as it would be necessary while grading.\n",
    "- Do not change the variable names of the returned values.\n",
    "- After calculating each of those values, assign them to the corresponding value that is being returned.\n",
    "- The \"Loan\" attribute should be used as the target variable while making calculations for your naive bayes classifier."
   ]
  },
  {
   "cell_type": "code",
   "execution_count": 7,
   "metadata": {
    "deletable": false,
    "nbgrader": {
     "cell_type": "code",
     "checksum": "d97b494935c0320f275b19a7d90543c4",
     "grade": false,
     "grade_id": "cell-0d7104243d876943",
     "locked": false,
     "schema_version": 3,
     "solution": true,
     "task": false
    }
   },
   "outputs": [],
   "source": [
    "from collections import defaultdict\n",
    "\n",
    "def naive_bayes(dataset_file, attributes, attribute_values):\n",
    "\n",
    "#   Input:\n",
    "#       1. dataset_file - A string variable which references the path to the dataset file.\n",
    "#       2. attributes - A python list which has all the attributes of the dataset\n",
    "#       3. attribute_values - A python dictionary representing the values each attribute can hold.\n",
    "#        \n",
    "#   Output: A probabilities dictionary which contains the values of when the input attribute is yes or no\n",
    "#       depending on the corresponding Loan attribute.\n",
    "#                \n",
    "#   Hint: Starter code has been provided to you to calculate the probabilities.\n",
    "\n",
    "    probabilities = {\n",
    "        \"Age\": { \"<=30\": {\"yes\": 0, \"no\": 0}, \"31-40\": {\"yes\": 0, \"no\": 0}, \">40\": {\"yes\": 0, \"no\": 0} },\n",
    "        \"Income\": { \"low\": {\"yes\": 0, \"no\": 0}, \"medium\": {\"yes\": 0, \"no\": 0}, \"high\": {\"yes\": 0, \"no\": 0}},\n",
    "        \"Student\": { \"yes\": {\"yes\": 0, \"no\": 0}, \"no\": {\"yes\": 0, \"no\": 0} },\n",
    "        \"Credit Rating\": { \"fair\": {\"yes\": 0, \"no\": 0}, \"excellent\": {\"yes\": 0, \"no\": 0} },\n",
    "        \"Loan\": {\"yes\": 0, \"no\": 0}\n",
    "    }\n",
    "    \n",
    "    df = pd.read_csv(dataset_file)\n",
    "    d_range = len(df)\n",
    "    \n",
    "    vcount = df[\"Loan\"].value_counts()\n",
    "    vcount_loan_yes = vcount[\"yes\"]\n",
    "    vcount_loan_no = vcount[\"no\"]\n",
    "    \n",
    "    probabilities[\"Loan\"][\"yes\"] = vcount_loan_yes/d_range\n",
    "    probabilities[\"Loan\"][\"no\"] = vcount_loan_no/d_range\n",
    "    \n",
    "    for attribute in attributes:\n",
    "        value_counts = dict()\n",
    "        vcount = df[attribute].value_counts()\n",
    "        for att_value in attribute_values[attribute]:\n",
    "            \n",
    "            if att_value in vcount:\n",
    "                # get the count by target variable for each class\n",
    "                vcount_attr_yes = len(df[(df[attribute] == att_value) & (df['Loan'] == 'yes')])\n",
    "                vcount_attr_no = len(df[(df[attribute] == att_value) & (df['Loan'] == 'no')])\n",
    "                # get expected probability for each class\n",
    "                prob_target_yes = probabilities[\"Loan\"][\"yes\"]\n",
    "                prob_target_no = probabilities[\"Loan\"][\"no\"]\n",
    "                # posterior probability of the attribute given the target variable\n",
    "                prob_target_given_attr_yes = vcount_attr_yes/vcount_loan_yes\n",
    "                prob_target_given_attr_no = vcount_attr_no/vcount_loan_no\n",
    "                \n",
    "                probabilities[attribute][att_value][\"yes\"] = prob_target_given_attr_yes\n",
    "                probabilities[attribute][att_value][\"no\"] = prob_target_given_attr_no\n",
    "            \n",
    "    \n",
    "    return probabilities"
   ]
  },
  {
   "cell_type": "code",
   "execution_count": 8,
   "metadata": {
    "deletable": false,
    "editable": false,
    "nbgrader": {
     "cell_type": "code",
     "checksum": "ba399419430aa3deb36318a7d7736edc",
     "grade": false,
     "grade_id": "cell-3214cac202f3d1d3",
     "locked": true,
     "schema_version": 3,
     "solution": false,
     "task": false
    }
   },
   "outputs": [
    {
     "name": "stdout",
     "output_type": "stream",
     "text": [
      "Your probabilities value is:\n",
      "{'Age': {'31-40': {'no': 0.0, 'yes': 0.42857142857142855},\n",
      "         '<=30': {'no': 0.6, 'yes': 0.2857142857142857},\n",
      "         '>40': {'no': 0.4, 'yes': 0.2857142857142857}},\n",
      " 'Credit Rating': {'excellent': {'no': 0.6, 'yes': 0.2857142857142857},\n",
      "                   'fair': {'no': 0.4, 'yes': 0.7142857142857143}},\n",
      " 'Income': {'high': {'no': 0.4, 'yes': 0.2857142857142857},\n",
      "            'low': {'no': 0.2, 'yes': 0.2857142857142857},\n",
      "            'medium': {'no': 0.4, 'yes': 0.42857142857142855}},\n",
      " 'Loan': {'no': 0.4166666666666667, 'yes': 0.5833333333333334},\n",
      " 'Student': {'no': {'no': 0.8, 'yes': 0.2857142857142857},\n",
      "             'yes': {'no': 0.2, 'yes': 0.7142857142857143}}}\n",
      "\n",
      "The expected probabilities value for the given dataset is:\n",
      "{'Age': {'31-40': {'no': 0.0, 'yes': 0.42857142857142855},\n",
      "         '<=30': {'no': 0.6, 'yes': 0.2857142857142857},\n",
      "         '>40': {'no': 0.4, 'yes': 0.2857142857142857}},\n",
      " 'Credit Rating': {'excellent': {'no': 0.6, 'yes': 0.2857142857142857},\n",
      "                   'fair': {'no': 0.4, 'yes': 0.7142857142857143}},\n",
      " 'Income': {'high': {'no': 0.4, 'yes': 0.2857142857142857},\n",
      "            'low': {'no': 0.2, 'yes': 0.2857142857142857},\n",
      "            'medium': {'no': 0.4, 'yes': 0.42857142857142855}},\n",
      " 'Loan': {'no': 0.4166666666666667, 'yes': 0.5833333333333334},\n",
      " 'Student': {'no': {'no': 0.8, 'yes': 0.2857142857142857},\n",
      "             'yes': {'no': 0.2, 'yes': 0.7142857142857143}}}\n",
      "Visible tests passed!\n"
     ]
    }
   ],
   "source": [
    "# This cell has visible test cases that you can run to see if you are on the right track!\n",
    "# Note: hidden tests will also be applied on other datasets for final grading.\n",
    "\n",
    "import pprint\n",
    "pp = pprint.PrettyPrinter(depth=6)\n",
    "\n",
    "attribute_values = {\n",
    "    \"Age\": [\"<=30\", \"31-40\", \">40\"],\n",
    "    \"Income\": [\"low\", \"medium\", \"high\"],\n",
    "    \"Student\": [\"yes\", \"no\"],\n",
    "    \"Credit Rating\": [\"fair\", \"excellent\"]\n",
    "}\n",
    "\n",
    "attributes = [\"Age\", \"Income\", \"Student\", \"Credit Rating\"]\n",
    "\n",
    "probabilities = naive_bayes(\"./data/dataset.csv\", attributes, attribute_values)\n",
    "\n",
    "probabilities_expected = {'Age': {'<=30': {'yes': 0.2857142857142857, 'no': 0.6},\n",
    "  '31-40': {'yes': 0.42857142857142855, 'no': 0.0},\n",
    "  '>40': {'yes': 0.2857142857142857, 'no': 0.4}},\n",
    " 'Income': {'low': {'yes': 0.2857142857142857, 'no': 0.2},\n",
    "  'medium': {'yes': 0.42857142857142855, 'no': 0.4},\n",
    "  'high': {'yes': 0.2857142857142857, 'no': 0.4}},\n",
    " 'Student': {'yes': {'yes': 0.7142857142857143, 'no': 0.2},\n",
    "  'no': {'yes': 0.2857142857142857, 'no': 0.8}},\n",
    " 'Credit Rating': {'fair': {'yes': 0.7142857142857143, 'no': 0.4},\n",
    "  'excellent': {'yes': 0.2857142857142857, 'no': 0.6}},\n",
    " 'Loan': {'yes': 0.5833333333333334, 'no': 0.4166666666666667}}\n",
    "\n",
    "print(f'Your probabilities value is:')\n",
    "pp.pprint(probabilities)\n",
    "print(f'\\nThe expected probabilities value for the given dataset is:')\n",
    "pp.pprint(probabilities_expected)\n",
    "\n",
    "try:\n",
    "    for i in attributes:\n",
    "        for j in attribute_values[i]:\n",
    "            for k in [\"yes\", \"no\"]:\n",
    "                np.testing.assert_allclose(probabilities[i][j][k], probabilities_expected[i][j][k], rtol=0.001, atol=0.001)\n",
    "    print(\"Visible tests passed!\")\n",
    "except:\n",
    "    print(\"Visible tests failed!\")"
   ]
  },
  {
   "cell_type": "code",
   "execution_count": null,
   "metadata": {
    "deletable": false,
    "editable": false,
    "nbgrader": {
     "cell_type": "code",
     "checksum": "c65d272ca5920fc09bf99a8c9b9d9ff4",
     "grade": true,
     "grade_id": "cell-1029d20562b90189",
     "locked": true,
     "points": 10,
     "schema_version": 3,
     "solution": false,
     "task": false
    }
   },
   "outputs": [],
   "source": [
    "\n",
    "# This cell has hidden test cases that will run after you submit your assignment. \n"
   ]
  }
 ],
 "metadata": {
  "kernelspec": {
   "display_name": "Python 3",
   "language": "python",
   "name": "python3"
  },
  "language_info": {
   "codemirror_mode": {
    "name": "ipython",
    "version": 3
   },
   "file_extension": ".py",
   "mimetype": "text/x-python",
   "name": "python",
   "nbconvert_exporter": "python",
   "pygments_lexer": "ipython3",
   "version": "3.7.6"
  }
 },
 "nbformat": 4,
 "nbformat_minor": 5
}
