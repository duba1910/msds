{
 "cells": [
  {
   "cell_type": "markdown",
   "metadata": {},
   "source": [
    "Peer-graded Assignment: Data Mining Issues\n",
    "\n",
    "In this assignment, our goal is to explore some of the key issues that the data mining community is focusing on.  Please go to \n",
    "https://www.kdd.org, check out one recent KDD conference, browse through its program, and briefly summarize one data mining issue that you find to be interesting. Specifically, provide the URL of the corresponding webpage, describe what the data mining issue is about, and discuss whether it is related to specific types of data, application, knowledge, or technique.  "
   ]
  },
  {
   "cell_type": "markdown",
   "metadata": {},
   "source": []
  }
 ],
 "metadata": {
  "kernelspec": {
   "display_name": "Python 3",
   "language": "python",
   "name": "python3"
  },
  "language_info": {
   "codemirror_mode": {
    "name": "ipython",
    "version": 3
   },
   "file_extension": ".py",
   "mimetype": "text/x-python",
   "name": "python",
   "nbconvert_exporter": "python",
   "pygments_lexer": "ipython3",
   "version": "3.11.1"
  }
 },
 "nbformat": 4,
 "nbformat_minor": 2
}
