{
 "cells": [
  {
   "cell_type": "markdown",
   "metadata": {},
   "source": [
    "Peer-graded Assignment: Data Mining Issues\n",
    "\n",
    "In this assignment, our goal is to explore some of the key issues that the data mining community is focusing on.  Please go to \n",
    "https://www.kdd.org, check out one recent KDD conference, browse through its program, and briefly summarize one data mining issue that you find to be interesting. Specifically, provide the URL of the corresponding webpage, describe what the data mining issue is about, and discuss whether it is related to specific types of data, application, knowledge, or technique.  "
   ]
  },
  {
   "cell_type": "markdown",
   "metadata": {},
   "source": [
    "I found an interesting issue from the Washington DC conference in 2022 titled Workshop on Applied Data Science for Healthcare - Transparent and Human-centered AI\n",
    "\n",
    "URL: https://dshealthkdd.github.io/dshealth-2022/\n",
    "\n",
    "The workshop focuses on the use of machine learning and artificial intelligence in healthcare, particularly emphasizing the need for transparency and human-centered approaches. ML and AI have numerous applications in healthcare, such as analyzing Electronic Health Records (EHR), drug discovery, digital pathology, and high-throughput sequencing data analysis. However, the adoption of these technologies in clinical settings is hindered by various requirements, including safety evaluation (ensuring the safety of AI/ML systems for their intended use), uncertainty communication (the ability of these systems to account for and communicate uncertainty effectively), transparency (regulatory bodies and clinical practitioners demand transparency in AI/ML systems), and human-centered approach (ensuring the safety and effectiveness of AI/ML systems in healthcare). This workshop underscores the critical balance between advanced AI/ML techniques and their practical, safe, and transparent application in the sensitive field of healthcare."
   ]
  },
  {
   "cell_type": "markdown",
   "metadata": {},
   "source": [
    "Relation to Data Types, Application, Knowledge, or Technique:\n",
    "\n",
    "    Data Types: The issues discussed are related to specific types of healthcare data, including Electronic Health Records (EHR), high-throughput sequencing data, and digital pathology data.\n",
    "    Application: The focus is on applications within healthcare, particularly Clinical Decision Support Systems, and the broader transformation of healthcare practices through AI/ML.\n",
    "    Knowledge: The need for transparency and human-centered approaches highlights the importance of knowledge transfer from AI/ML systems to healthcare practitioners, ensuring they understand and trust the systems they use.\n",
    "    Technique: Techniques involving the interpretability, usability, reliability, and safety of AI/ML models are central to the discussions, emphasizing the need for innovative approaches to meet these requirements."
   ]
  }
 ],
 "metadata": {
  "kernelspec": {
   "display_name": "Python 3",
   "language": "python",
   "name": "python3"
  },
  "language_info": {
   "codemirror_mode": {
    "name": "ipython",
    "version": 3
   },
   "file_extension": ".py",
   "mimetype": "text/x-python",
   "name": "python",
   "nbconvert_exporter": "python",
   "pygments_lexer": "ipython3",
   "version": "3.11.1"
  }
 },
 "nbformat": 4,
 "nbformat_minor": 2
}
